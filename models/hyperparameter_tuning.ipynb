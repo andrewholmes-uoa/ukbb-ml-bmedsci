{
 "cells": [
  {
   "cell_type": "code",
   "execution_count": null,
   "id": "c7fdb5ce-05b1-4c8c-98ba-8ff17fb774c8",
   "metadata": {},
   "outputs": [],
   "source": [
    "import pandas as pd\n",
    "import optuna\n",
    "from optuna import pruners\n",
    "from optuna.visualization import plot_optimization_history, plot_param_importances\n",
    "from optuna.samplers import TPESampler\n",
    "\n",
    "import imblearn\n",
    "from imblearn.over_sampling import SMOTE, ADASYN, RandomOverSampler\n",
    "from imblearn.under_sampling import RandomUnderSampler, EditedNearestNeighbours\n",
    "from imblearn.combine import SMOTEENN\n",
    "\n",
    "import sklearn\n",
    "import xgboost as xgb\n",
    "import lightgbm as lgb\n",
    "\n",
    "import numpy as np\n",
    "import matplotlib.pyplot as plt\n",
    "import importlib\n",
    "from joblib import dump, load\n",
    "import os\n",
    "import math\n",
    "from functools import reduce\n",
    "\n",
    "import torch\n",
    "import torch.nn as nn\n",
    "from torch.nn import ReLU\n",
    "import random\n",
    "\n",
    "from sklearn.model_selection import StratifiedKFold\n",
    "from sklearn.feature_selection import RFE, RFECV, SequentialFeatureSelector\n",
    "\n",
    "import sys\n",
    "sys.path.append('../')\n",
    "\n",
    "import model_util\n",
    "importlib.reload(model_util)\n",
    "from model_util import get_scoring_metrics\n",
    "\n",
    "import optuna_util\n",
    "importlib.reload(optuna_util)\n",
    "from optuna_util import run_optuna_studies\n",
    "\n",
    "import feature_sets\n",
    "importlib.reload(feature_sets)\n",
    "\n",
    "import neural_net\n",
    "importlib.reload(neural_net)\n",
    "from neural_net import MLP\n",
    "\n",
    "from sklearnex import patch_sklearn\n",
    "patch_sklearn()"
   ]
  },
  {
   "cell_type": "markdown",
   "id": "7dc44a27-05b6-4daf-a00e-bffd640ff0d0",
   "metadata": {},
   "source": [
    "# Load data\n",
    "\n",
    "- Use min-max scaled X_train and X_test for all models for consistency, even if not required\n",
    "- Use miceforest imputed data for all models (same reasoning)"
   ]
  },
  {
   "cell_type": "code",
   "execution_count": null,
   "id": "75ef0183-655e-405f-9fb5-45298d99a6f5",
   "metadata": {},
   "outputs": [],
   "source": [
    "X_train_imputed_scaled = load('../data/imputed/IOPsubcohort_X_train_imputed_scaled.pkl')\n",
    "y_train = load('../data/imputed/IOPsubcohort_y_train.pkl')"
   ]
  },
  {
   "cell_type": "code",
   "execution_count": null,
   "id": "eac3e129-145c-4170-a4f3-9d714b6ce28a",
   "metadata": {},
   "outputs": [],
   "source": [
    "model_feature_dict = {\n",
    "    'ophthalmic': feature_sets.ophthalmic_features['feature'].values,\n",
    "    'demographic': feature_sets.demographic_features['feature'].values,\n",
    "    'systemic': feature_sets.systemic_features['feature'].values,\n",
    "    'lifestyle': feature_sets.lifestyle_features['feature'].values,\n",
    "\n",
    "    'OD': feature_sets.OD_features['feature'].values,\n",
    "    'SL': feature_sets.SL_features['feature'].values,\n",
    "    'ODSL': feature_sets.ODSL_features['feature'].values,\n",
    "    'ODS': feature_sets.ODS_features['feature'].values,\n",
    "    'DSL': feature_sets.DSL_features['feature'].values, # Primary-care focused    \n",
    "}"
   ]
  },
  {
   "cell_type": "markdown",
   "id": "df5d0a7e-155a-4c83-90e4-fd9024fb4e5b",
   "metadata": {},
   "source": [
    "# Run hyperparameter studies\n",
    "\n",
    "- For each model type, `run_optuna_studies` tunes hyperparameters for all individual models coresponding to feature sets\n",
    "- 100 trials for each"
   ]
  },
  {
   "cell_type": "code",
   "execution_count": null,
   "id": "4ffeba06-d5f8-44fe-a648-d2f6900b3b85",
   "metadata": {},
   "outputs": [],
   "source": [
    "n_trials = 100\n",
    "n_cv_folds = 5\n",
    "scoring_metric = 'roc_auc'"
   ]
  },
  {
   "cell_type": "markdown",
   "id": "06d2c043-1642-465f-94ec-1ef75159c960",
   "metadata": {},
   "source": [
    "### LightGBM"
   ]
  },
  {
   "cell_type": "code",
   "execution_count": null,
   "id": "3ba90138-8821-4ccf-97e8-d19a43100579",
   "metadata": {
    "scrolled": true
   },
   "outputs": [],
   "source": [
    "run_optuna_studies(\n",
    "    X = X_train_imputed_scaled,\n",
    "    y = y_train,\n",
    "    feature_dict = model_feature_dict,\n",
    "    n_trials = n_trials,\n",
    "    \n",
    "    objective_class = optuna_util.LGBM_OptunaObjective,\n",
    "    save_dir = './optuna_results/lightgbm',\n",
    "\n",
    "    # kwargs passed to study class\n",
    "    n_cv_folds = n_cv_folds,\n",
    "    scoring_metric = scoring_metric,\n",
    ")"
   ]
  },
  {
   "cell_type": "markdown",
   "id": "fb9f622d-05f0-42f5-8337-9080d0c6bbf4",
   "metadata": {},
   "source": [
    "### XGBoost"
   ]
  },
  {
   "cell_type": "code",
   "execution_count": null,
   "id": "ca38177b-1661-473c-88e7-3aa7ab4074d2",
   "metadata": {
    "scrolled": true
   },
   "outputs": [],
   "source": [
    "run_optuna_studies(\n",
    "    X = X_train_imputed_scaled,\n",
    "    y = y_train,\n",
    "    feature_dict = model_feature_dict,\n",
    "    n_trials = n_trials,\n",
    "    \n",
    "    objective_class = optuna_util.XGBoost_OptunaObjective,\n",
    "    save_dir = './optuna_results/xgboost',\n",
    "\n",
    "    # kwargs passed to study class\n",
    "    n_cv_folds = n_cv_folds,\n",
    "    scoring_metric = scoring_metric,\n",
    ")"
   ]
  },
  {
   "cell_type": "markdown",
   "id": "77414074-7ff1-4829-b5f9-36755b1f0f84",
   "metadata": {},
   "source": [
    "### Random forest"
   ]
  },
  {
   "cell_type": "code",
   "execution_count": null,
   "id": "b2d2c80b-e307-4880-ac1f-cf8dd548ed09",
   "metadata": {
    "scrolled": true
   },
   "outputs": [],
   "source": [
    "%%time\n",
    "\n",
    "run_optuna_studies(\n",
    "    X = X_train_imputed_scaled,\n",
    "    y = y_train,\n",
    "    feature_dict = model_feature_dict,\n",
    "    n_trials = n_trials,\n",
    "    \n",
    "    objective_class = optuna_util.RF_OptunaObjective,\n",
    "    save_dir = './optuna_results/randomforest',\n",
    "\n",
    "    # kwargs passed to study class\n",
    "    n_cv_folds = n_cv_folds,\n",
    "    scoring_metric = scoring_metric,\n",
    ")"
   ]
  },
  {
   "cell_type": "markdown",
   "id": "0f7a6bb3-5bd5-42a8-a31d-f8f4651ac658",
   "metadata": {},
   "source": [
    "### KNN"
   ]
  },
  {
   "cell_type": "code",
   "execution_count": null,
   "id": "e3f775fe-c0a1-4c0d-b670-5f19adc5b84c",
   "metadata": {},
   "outputs": [],
   "source": [
    "%%time\n",
    "\n",
    "run_optuna_studies(\n",
    "    X = X_train_imputed_scaled,\n",
    "    y = y_train,\n",
    "    feature_dict = model_feature_dict,\n",
    "    n_trials = n_trials,\n",
    "    \n",
    "    objective_class = optuna_util.KNN_OptunaObjective,\n",
    "    save_dir = './optuna_results/knn',\n",
    "\n",
    "    # kwargs passed to study class\n",
    "    n_cv_folds = n_cv_folds,\n",
    "    scoring_metric = scoring_metric,\n",
    ")"
   ]
  },
  {
   "cell_type": "markdown",
   "id": "d79b7e51-f8da-419e-86dc-62b2c73755a6",
   "metadata": {},
   "source": [
    "### SVM"
   ]
  },
  {
   "cell_type": "code",
   "execution_count": null,
   "id": "6407ce35-122a-4373-aa10-2339b4563604",
   "metadata": {},
   "outputs": [],
   "source": [
    "%%time\n",
    "\n",
    "run_optuna_studies(\n",
    "    X = X_train_imputed_scaled,\n",
    "    y = y_train,\n",
    "    feature_dict = model_feature_dict,\n",
    "    n_trials = n_trials,\n",
    "    \n",
    "    objective_class = optuna_util.SVC_OptunaObjective,\n",
    "    save_dir = './optuna_results/svm',\n",
    "\n",
    "    # kwargs passed to study class\n",
    "    n_cv_folds = n_cv_folds,\n",
    "    scoring_metric = scoring_metric,\n",
    ")"
   ]
  },
  {
   "cell_type": "markdown",
   "id": "b401a206-fdbe-4875-b5df-79ee45571a8e",
   "metadata": {},
   "source": [
    "### Logistic regression (SGD)"
   ]
  },
  {
   "cell_type": "code",
   "execution_count": null,
   "id": "c1991644-f11c-4756-a5cc-cd46d84cfcd4",
   "metadata": {
    "scrolled": true
   },
   "outputs": [],
   "source": [
    "%%time\n",
    "\n",
    "run_optuna_studies(\n",
    "    X = X_train_imputed_scaled,\n",
    "    y = y_train,\n",
    "    feature_dict = model_feature_dict,\n",
    "    n_trials = n_trials,\n",
    "    \n",
    "    objective_class = optuna_util.LogisticRegressionSGD_OptunaObjective,\n",
    "    save_dir = './optuna_results/logistic_regression_sgd',\n",
    "\n",
    "    # kwargs passed to study class\n",
    "    n_cv_folds = n_cv_folds,\n",
    "    scoring_metric = scoring_metric,\n",
    ")"
   ]
  },
  {
   "cell_type": "markdown",
   "id": "914cf3b2-b6cf-4916-919d-fae6f6798434",
   "metadata": {},
   "source": [
    "### MLP\n",
    "\n",
    "- Note only 50 trials for each model (not enough compute)"
   ]
  },
  {
   "cell_type": "code",
   "execution_count": null,
   "id": "881105f1-b1d7-41c5-a857-a9166b8231f2",
   "metadata": {
    "scrolled": true
   },
   "outputs": [],
   "source": [
    "%%time\n",
    "\n",
    "# 50 trials\n",
    "\n",
    "mlp_studies = run_optuna_studies(\n",
    "    X = X_train_imputed_scaled,\n",
    "    y = y_train,\n",
    "    feature_dict = model_feature_dict,\n",
    "    n_trials = 50, ### 50 trials only for mlp\n",
    "    \n",
    "    objective_class = optuna_util.MLP_OptunaObjective,\n",
    "    save_dir = './optuna_results/mlp_50trials',\n",
    "\n",
    "    # kwargs passed to study class\n",
    "    n_cv_folds = n_cv_folds,\n",
    "    scoring_metric = scoring_metric,\n",
    ")"
   ]
  },
  {
   "cell_type": "code",
   "execution_count": null,
   "id": "940073dd-212a-48ca-9fa8-4d517fd77899",
   "metadata": {
    "scrolled": true
   },
   "outputs": [],
   "source": [
    "# %%time\n",
    "\n",
    "# 100 trials\n",
    "\n",
    "mlp_studies = run_optuna_studies(\n",
    "    X = X_train_imputed_scaled,\n",
    "    y = y_train,\n",
    "    feature_dict = model_feature_dict,\n",
    "    n_trials = n_trials, ### 50 trials only for mlp\n",
    "    \n",
    "    objective_class = optuna_util.MLP_OptunaObjective,\n",
    "    save_dir = './optuna_results/mlp',\n",
    "\n",
    "    # kwargs passed to study class\n",
    "    n_cv_folds = n_cv_folds,\n",
    "    scoring_metric = scoring_metric,\n",
    ")"
   ]
  },
  {
   "cell_type": "markdown",
   "id": "139e375b-e5de-437c-9962-c588bd9d2873",
   "metadata": {},
   "source": [
    "### Minimal model by RFECV with LightGBM"
   ]
  },
  {
   "cell_type": "code",
   "execution_count": null,
   "id": "6d1bce0f-aad4-42c6-a538-44597e07f30f",
   "metadata": {},
   "outputs": [],
   "source": [
    "# Using LGBM with regularisation to deal with colinearity\n",
    "\n",
    "rfe_obj = RFECV(\n",
    "    estimator = lgb.LGBMClassifier(**{            \n",
    "        'n_jobs': -1,\n",
    "        'bagging_freq': 1,\n",
    "        'force_row_wise': True,\n",
    "        'bagging_seed': 2024,\n",
    "        'verbosity': -100,\n",
    "        'extra_trees': False,\n",
    "\n",
    "        'n_estimators': 500,\n",
    "        'importance_type': 'gain',\n",
    "        'lambda_l2': 1000,\n",
    "    }),\n",
    "    scoring = 'roc_auc',\n",
    "    importance_getter = 'feature_importances_',\n",
    "    cv = StratifiedKFold(n_splits=5, shuffle=True, random_state=2024),\n",
    "    n_jobs=1,\n",
    "    step=1,\n",
    "    verbose = 100,\n",
    ")\n",
    "\n",
    "rfe_obj.fit(X_train_imputed_scaled[feature_sets.ODSL_features['feature'].values], y_train)"
   ]
  },
  {
   "cell_type": "code",
   "execution_count": null,
   "id": "ea52e7ec-ef58-433c-b5ee-26b93c32887b",
   "metadata": {},
   "outputs": [],
   "source": [
    "dump(rfe_obj, './rfecv_fitted.pkl')"
   ]
  },
  {
   "cell_type": "code",
   "execution_count": null,
   "id": "b417e11d-d0e6-407a-a912-928768bc82b9",
   "metadata": {},
   "outputs": [],
   "source": [
    "minimal_features = feature_sets.ODSL_features['feature'].values[rfe_obj.support_]\n",
    "minimal_features"
   ]
  },
  {
   "cell_type": "code",
   "execution_count": null,
   "id": "e9e7dbc2-152e-430f-8326-7a37f2b80d36",
   "metadata": {
    "scrolled": true
   },
   "outputs": [],
   "source": [
    "run_optuna_studies(\n",
    "    X = X_train_imputed_scaled,\n",
    "    y = y_train,\n",
    "    feature_dict = {'minimal_features_rfecv': feature_sets.minimal_features_rfecv['feature'].values},\n",
    "    n_trials = 1000,\n",
    "    \n",
    "    objective_class = optuna_util.LGBM_OptunaObjective,\n",
    "    save_dir = './optuna_results/lightgbm',\n",
    "\n",
    "    # kwargs passed to study class\n",
    "    n_cv_folds = n_cv_folds,\n",
    "    scoring_metric = scoring_metric,\n",
    ")"
   ]
  },
  {
   "cell_type": "markdown",
   "id": "8692f9f7-08db-432c-891e-a84fbe7d1ee5",
   "metadata": {},
   "source": [
    "### Testing class imbalance with LGBM minimal model"
   ]
  },
  {
   "cell_type": "code",
   "execution_count": null,
   "id": "de4a9cdf-788a-495f-acc2-17d5fa17f155",
   "metadata": {},
   "outputs": [],
   "source": [
    "# SMOTE 1:3\n",
    "\n",
    "run_optuna_studies(\n",
    "    X = X_train_imputed_scaled,\n",
    "    y = y_train,\n",
    "    feature_dict = {'minimal_features_rfecv': feature_sets.minimal_features_rfecv['feature'].values},\n",
    "    #feature_dict = {'ODSL': feature_sets.ODSL_features['feature'].values, 'minimal_features_rfecv': feature_sets.minimal_features_rfecv['feature'].values},\n",
    "    n_trials = 100,\n",
    "    \n",
    "    objective_class = optuna_util.LGBM_OptunaObjective_SMOTE,\n",
    "    save_dir = './optuna_results/imbalanced_lightgbm_SMOTE',\n",
    "\n",
    "    # kwargs passed to study class\n",
    "    n_cv_folds = n_cv_folds,\n",
    "    scoring_metric = scoring_metric,\n",
    "\n",
    "    sampler = SMOTE,\n",
    ")"
   ]
  },
  {
   "cell_type": "code",
   "execution_count": null,
   "id": "36720f62-5079-4ca6-b9ce-0e687f0c9bc1",
   "metadata": {},
   "outputs": [],
   "source": [
    "# Random oversampling 1:3\n",
    "\n",
    "run_optuna_studies(\n",
    "    X = X_train_imputed_scaled,\n",
    "    y = y_train,\n",
    "    feature_dict = {'minimal_features_rfecv': feature_sets.minimal_features_rfecv['feature'].values},\n",
    "    #feature_dict = {'ODSL': feature_sets.ODSL_features['feature'].values, 'minimal_features_rfecv': feature_sets.minimal_features_rfecv['feature'].values},\n",
    "    n_trials = 100,\n",
    "    \n",
    "    objective_class = optuna_util.LGBM_OptunaObjective_RandomOverUnderSampler,\n",
    "    save_dir = './optuna_results/imbalanced_lightgbm_RandomOverSampler',\n",
    "\n",
    "    # kwargs passed to study class\n",
    "    n_cv_folds = n_cv_folds,\n",
    "    scoring_metric = scoring_metric,\n",
    "\n",
    "    sampler = RandomOverSampler,\n",
    ")"
   ]
  },
  {
   "cell_type": "code",
   "execution_count": null,
   "id": "da91449b-7590-41da-8452-7fd6388e09bd",
   "metadata": {},
   "outputs": [],
   "source": [
    "# Random undersampling 1:3\n",
    "\n",
    "run_optuna_studies(\n",
    "    X = X_train_imputed_scaled,\n",
    "    y = y_train,\n",
    "    feature_dict = {'minimal_features_rfecv': feature_sets.minimal_features_rfecv['feature'].values},\n",
    "    #feature_dict = {'ODSL': feature_sets.ODSL_features['feature'].values, 'minimal_features_rfecv': feature_sets.minimal_features_rfecv['feature'].values},\n",
    "    n_trials = 100,\n",
    "    \n",
    "    objective_class = optuna_util.LGBM_OptunaObjective_RandomOverUnderSampler,\n",
    "    save_dir = './optuna_results/imbalanced_lightgbm_RandomUnderSampler',\n",
    "\n",
    "    # kwargs passed to study class\n",
    "    n_cv_folds = n_cv_folds,\n",
    "    scoring_metric = scoring_metric,\n",
    "\n",
    "    sampler = RandomUnderSampler,\n",
    ")"
   ]
  },
  {
   "cell_type": "markdown",
   "id": "5f68159f-5fad-46a1-b17e-0bdfe1aa15b1",
   "metadata": {},
   "source": [
    "# Refit best models on entire train set"
   ]
  },
  {
   "cell_type": "code",
   "execution_count": null,
   "id": "f2061608-d670-409f-9a0b-6e459edea56b",
   "metadata": {},
   "outputs": [],
   "source": [
    "optuna_results_dir = './optuna_results'\n",
    "fitted_models_dir = './best_hyperparams_fitted/'\n",
    "\n",
    "algorithms = {\n",
    "    'logistic_regression_sgd': sklearn.linear_model.SGDClassifier,\n",
    "    'svm': sklearn.svm.SVC,\n",
    "    'knn': sklearn.neighbors.KNeighborsClassifier,\n",
    "    'randomforest': sklearn.ensemble.RandomForestClassifier,\n",
    "    'xgboost': xgb.XGBClassifier,\n",
    "    'lightgbm': lgb.LGBMClassifier,\n",
    "    'mlp_50trials': MLP,\n",
    "}"
   ]
  },
  {
   "cell_type": "code",
   "execution_count": null,
   "id": "aad1d4fb-6713-4a01-9a07-08d6f15ae6ea",
   "metadata": {},
   "outputs": [],
   "source": [
    "model_feature_dict = {\n",
    "    'ophthalmic': feature_sets.ophthalmic_features['feature'].values,\n",
    "    'demographic': feature_sets.demographic_features['feature'].values,\n",
    "    'systemic': feature_sets.systemic_features['feature'].values,\n",
    "    'lifestyle': feature_sets.lifestyle_features['feature'].values,\n",
    "    \n",
    "    'ODSL': feature_sets.ODSL_features['feature'].values,\n",
    "    #'OSL': feature_sets.OSL_features['feature'].values,\n",
    "    'DSL': feature_sets.DSL_features['feature'].values, # Primary-care focused    \n",
    "    'OD': feature_sets.OD_features['feature'].values,\n",
    "    'SL': feature_sets.SL_features['feature'].values,\n",
    "\n",
    "    #'minimal_features_rfecv': feature_sets.minimal_features_rfecv['feature'].values\n",
    "}"
   ]
  },
  {
   "cell_type": "code",
   "execution_count": null,
   "id": "4a1c4ec9-f364-491e-9688-09bc08ce1e97",
   "metadata": {},
   "outputs": [],
   "source": [
    "for algorithm, estimator_class in algorithms.items():\n",
    "    print(algorithm)"
   ]
  },
  {
   "cell_type": "code",
   "execution_count": null,
   "id": "ff3b49f8-8db9-4588-aaa3-92a165bb04e8",
   "metadata": {},
   "outputs": [],
   "source": [
    "# Refit models with best hyperparams on entire train set & save (+save params)\n",
    "\n",
    "for model_name, feature_set in model_feature_dict.items():\n",
    "    model_save_dir = f'{fitted_models_dir}/{model_name}'\n",
    "    if not os.path.exists(model_save_dir):\n",
    "        os.makedirs(model_save_dir)\n",
    "        \n",
    "    X = X_train_imputed_scaled[feature_set]\n",
    "\n",
    "    for algorithm, estimator_class in algorithms.items():\n",
    "        print(algorithm)\n",
    "    #for algorithm, estimator_class in zip(algorithms.keys(), algorithms.values()):\n",
    "        print(f'Fitting {model_name} {algorithm}')\n",
    "\n",
    "        study_dir = f'{optuna_results_dir}/{algorithm}/{model_name}/optuna_study_{model_name}.pkl'\n",
    "        study = load(study_dir)\n",
    "        best_params = study.best_trial.user_attrs['all_params']\n",
    "        best_params_str = f'\\n'.join([': '.join([key, str(val)]) for key, val in best_params.items()])\n",
    "    \n",
    "        # Save params as txt\n",
    "        with open(f'{model_save_dir}/{algorithm}_best_params.txt', 'w+') as txt:\n",
    "            txt.write(best_params_str)\n",
    "    \n",
    "        # Fit and save model\n",
    "        estimator = estimator_class(**best_params)\n",
    "        estimator.fit(X, y_train)\n",
    "        dump(estimator, f'{model_save_dir}/{algorithm}.pkl')"
   ]
  },
  {
   "cell_type": "code",
   "execution_count": null,
   "id": "4d8334e7-3c36-4e66-9392-053a8fc7f8a7",
   "metadata": {},
   "outputs": [],
   "source": [
    "# see best hyperparams DF tsv\n",
    "\n",
    "feature_set_dfs = []\n",
    "\n",
    "for model_name, feature_set in model_feature_dict.items():\n",
    "    feature_set_hyperparam_df = pd.DataFrame(columns=['Algorithm', 'Hyperparameter', model_name])\n",
    "\n",
    "    model_save_dir = f'{fitted_models_dir}/{model_name}'\n",
    "\n",
    "    for algorithm, estimator_class in algorithms.items():\n",
    "        study_dir = f'{optuna_results_dir}/{algorithm}/{model_name}/optuna_study_{model_name}.pkl'\n",
    "        study = load(study_dir)\n",
    "        best_params = study.best_trial.params\n",
    "        #best_params = study.best_trial.user_attrs['all_params']\n",
    "\n",
    "        for k,v in best_params.items():\n",
    "            if type(v) == str:\n",
    "                feature_set_hyperparam_df.loc[len(feature_set_hyperparam_df)] = [algorithm, k, v]\n",
    "            else:\n",
    "                x = '%s' % float('%.4g' % v)\n",
    "                feature_set_hyperparam_df.loc[len(feature_set_hyperparam_df)] = [algorithm, k, x]\n",
    "\n",
    "    feature_set_dfs.append(feature_set_hyperparam_df)"
   ]
  },
  {
   "cell_type": "code",
   "execution_count": null,
   "id": "601035b0-7339-47d2-811d-50a3bd6e8e48",
   "metadata": {},
   "outputs": [],
   "source": [
    "combo_df = reduce(lambda df1, df2: pd.merge(df1, df2, on=['Algorithm', 'Hyperparameter'], how='outer'), feature_set_dfs)"
   ]
  },
  {
   "cell_type": "code",
   "execution_count": null,
   "id": "a3c0d8cf-1cd9-4437-af43-a36e4399903b",
   "metadata": {},
   "outputs": [],
   "source": [
    "combo_df.set_index('Algorithm', inplace=True)\n",
    "combo_df = combo_df.loc[list(algorithms.keys())]"
   ]
  },
  {
   "cell_type": "code",
   "execution_count": null,
   "id": "4ffbba12-651d-4626-b819-d9b50a8279b8",
   "metadata": {},
   "outputs": [],
   "source": [
    "combo_df.to_csv('./optuna_results/best_hyperparameter_results.tsv', sep='\\t', index=True)"
   ]
  },
  {
   "cell_type": "code",
   "execution_count": null,
   "id": "aaa31902-4d57-416c-8fd0-62055ef206b2",
   "metadata": {},
   "outputs": [],
   "source": [
    "combo_df"
   ]
  },
  {
   "cell_type": "code",
   "execution_count": null,
   "id": "773e6ccd-0b5f-47e3-8fbf-cfad80e6c9c4",
   "metadata": {},
   "outputs": [],
   "source": [
    "# For final model"
   ]
  },
  {
   "cell_type": "code",
   "execution_count": null,
   "id": "2ed04030-6b5b-42e2-bdf1-40eff91ec778",
   "metadata": {},
   "outputs": [],
   "source": [
    "# see best hyperparams DF tsv\n",
    "\n",
    "feature_set_dfs = []\n",
    "\n",
    "model_name = 'minimal_features_rfecv'\n",
    "algorithm = 'lightgbm'\n",
    "\n",
    "feature_set_hyperparam_df = pd.DataFrame(columns=['Algorithm', 'Hyperparameter', model_name])\n",
    "\n",
    "model_save_dir = f'{fitted_models_dir}/{model_name}'\n",
    "\n",
    "\n",
    "study_dir = f'{optuna_results_dir}/{algorithm}/{model_name}/optuna_study_{model_name}.pkl'\n",
    "study = load(study_dir)\n",
    "best_params = study.best_trial.params\n",
    "#best_params = study.best_trial.user_attrs['all_params']\n",
    "\n",
    "for k,v in best_params.items():\n",
    "    if type(v) == str:\n",
    "        feature_set_hyperparam_df.loc[len(feature_set_hyperparam_df)] = [algorithm, k, v]\n",
    "    else:\n",
    "        x = '%s' % float('%.4g' % v)\n",
    "        feature_set_hyperparam_df.loc[len(feature_set_hyperparam_df)] = [algorithm, k, x]\n",
    "\n",
    "feature_set_dfs.append(feature_set_hyperparam_df)"
   ]
  },
  {
   "cell_type": "code",
   "execution_count": null,
   "id": "bd02dac6-91a2-4403-880d-c648c65901b2",
   "metadata": {},
   "outputs": [],
   "source": [
    "feature_set_hyperparam_df"
   ]
  },
  {
   "cell_type": "code",
   "execution_count": null,
   "id": "7d7c063d-4f2e-4daf-96ca-41e9fac2c1f5",
   "metadata": {},
   "outputs": [],
   "source": [
    "feature_set_hyperparam_df.to_csv('./optuna_results/final_model_hyperparameter_results.tsv', sep='\\t', index=True)"
   ]
  }
 ],
 "metadata": {
  "kernelspec": {
   "display_name": "3.12.3",
   "language": "python",
   "name": "pyenv_3.12.3"
  },
  "language_info": {
   "codemirror_mode": {
    "name": "ipython",
    "version": 3
   },
   "file_extension": ".py",
   "mimetype": "text/x-python",
   "name": "python",
   "nbconvert_exporter": "python",
   "pygments_lexer": "ipython3",
   "version": "3.12.3"
  }
 },
 "nbformat": 4,
 "nbformat_minor": 5
}
