{
 "cells": [
  {
   "cell_type": "code",
   "execution_count": null,
   "id": "931beeff-27c0-43b7-9e13-95b9ef0e1d9a",
   "metadata": {},
   "outputs": [],
   "source": [
    "import numpy as np\n",
    "import pandas as pd\n",
    "import math\n",
    "from scipy import stats\n",
    "from scipy.stats import chisquare, chi2_contingency, ttest_ind, contingency, pearsonr\n",
    "import matplotlib.pyplot as plt\n",
    "import seaborn as sns\n",
    "\n",
    "import importlib\n",
    "import sys\n",
    "\n",
    "sys.path.append('/mnt/shared_folders/eResearch_glaucoma_project/andrewholmes2024/Aug2024')\n",
    "import data_functions\n",
    "importlib.reload(data_functions)\n",
    "\n",
    "import feature_sets\n",
    "importlib.reload(feature_sets)"
   ]
  },
  {
   "cell_type": "code",
   "execution_count": null,
   "id": "6a560f83-2798-470a-88b1-6a5886320aba",
   "metadata": {},
   "outputs": [],
   "source": [
    "!jupyter nbconvert --to script ./data_extraction.ipynb"
   ]
  },
  {
   "cell_type": "markdown",
   "id": "1062c60f-f5a0-4b28-8920-28cee623867e",
   "metadata": {},
   "source": [
    "# Systemic diagnosis codes"
   ]
  },
  {
   "cell_type": "code",
   "execution_count": null,
   "id": "79e44b29-ff23-49e9-9e87-345ca32fc2ac",
   "metadata": {
    "jupyter": {
     "source_hidden": true
    }
   },
   "outputs": [],
   "source": [
    "# Disease diagnosis dictionary\n",
    "# Used to load in the required self-report & occurrence fields, and also for defining these diseases later\n",
    "\n",
    "# All codes doubled-checked for accuracy 12 Sep 2024\n",
    "\n",
    "diagnosis_dict = {\n",
    "    ### Neurological & psychiatric\n",
    "    'Dementia': {\n",
    "        'self_reported': {\n",
    "            'f.20002.0': [1263],\n",
    "        },\n",
    "        'occurrences': [\n",
    "            'f.131036.0.0', 'f.130836.0.0', \n",
    "            'f.130838.0.0', 'f.130840.0.0', 'f.130842.0.0'\n",
    "        ],\n",
    "    },\n",
    "    \"Alzheimer's disease\": {\n",
    "        'occurrences': ['f.130836.0.0', 'f.131036.0.0'],\n",
    "    },\n",
    "     \"Non-Alzheimer's dementia\": {\n",
    "        'occurrences': ['f.130838.0.0', 'f.130840.0.0', 'f.130842.0.0'],\n",
    "    },\n",
    "    'Migraine': {\n",
    "        'self_reported': { \n",
    "            'f.20002.0': [1265],\n",
    "        },\n",
    "        'occurrences': ['f.131052.0.0'],\n",
    "    },\n",
    "    'Anxiety disorder': {\n",
    "        'self_reported': {'f.20002.0': [1287]},\n",
    "        'occurrences': ['f.130904.0.0', 'f.130906.0.0'], # F40, F41\n",
    "    },\n",
    "    'Conductive and sensorineural hearing loss': {\n",
    "        'occurrences': ['f.131258.0.0'], # H90\n",
    "    },\n",
    "    'Other hearing loss': {\n",
    "        'occurrences': ['f.131260.0.0'], # H91\n",
    "    },\n",
    "\n",
    "    \n",
    "    ### Vascular\n",
    "    'Hypertension': {\n",
    "        'self_reported': {\n",
    "            'f.20002.0': [1065, 1072],\n",
    "            'f.6150.0': [4],\n",
    "            'f.6177.0': [2],\n",
    "            'f.6153.0': [2],\n",
    "        },\n",
    "        'occurrences': ['f.131286.0.0', 'f.131288.0.0', 'f.131290.0.0', 'f.131292.0.0', 'f.131294.0.0'],\n",
    "    },\n",
    "    'Hypotension': {\n",
    "        'occurrences': ['f.131416.0.0'],\n",
    "    },\n",
    "    'Peripheral vascular disease': {\n",
    "        'self_reported': {\n",
    "            'f.20002.0': [1067, 1087, 1561],\n",
    "        },\n",
    "        'occurrences': ['f.131386.0.0'],\n",
    "    },\n",
    "    'Diabetes mellitus': {\n",
    "        'self_reported': {\n",
    "            'f.20002.0': [1220, 1222, 1223],\n",
    "            'f.2443.0': [1],\n",
    "            'f.6177.0': [3],\n",
    "            'f.6153.0': [3],\n",
    "        },\n",
    "        'occurrences': ['f.130706.0.0', 'f.130708.0.0', 'f.130714.0.0'],\n",
    "    },\n",
    "    'Dyslipidaemia': {\n",
    "        'self_reported': {\n",
    "            'f.20002.0': [1473],\n",
    "            'f.6177.0': [1],\n",
    "            'f.6153.0': [1],\n",
    "        },\n",
    "        'occurrences': ['f.130814.0.0'],\n",
    "    },\n",
    "\n",
    "    \n",
    "    ### Other cardio-metaoblic related\n",
    "    'Sleep apnoea': {\n",
    "        'self_reported': {\n",
    "            'f.20002.0': [1123],\n",
    "        },\n",
    "        'inpatient': {\n",
    "            'icd10': ['G473'],\n",
    "            'icd9': ['3272'],\n",
    "        },\n",
    "        'gp': {\n",
    "            'mapped_codes_dir': '/mnt/shared_folders/eResearch_glaucoma_project/andrewholmes2024/Aug2024/data/coding/primary_care/mapped_sleep_apnoea_primary_care.csv',\n",
    "        },\n",
    "    },\n",
    "    'Atrial fibrillation or flutter': {\n",
    "        'self_reported': {\n",
    "            'f.20002.0': [1471, 1483], # 1471=afib, 1483 = aflutter\n",
    "        },\n",
    "        'occurrences': ['f.131350.0.0'],\n",
    "    },\n",
    "\n",
    "    \n",
    "    ### Renal\n",
    "    'Chronic kidney disease': {\n",
    "        'self_reported': {\n",
    "            'f.20002.0': [1192, 1193, 1194],\n",
    "        },\n",
    "        'occurrences': ['f.132032.0.0'],\n",
    "    },\n",
    "\n",
    "\n",
    "    ### Endocrine\n",
    "    'Hypothyroidism': {\n",
    "        'self_reported': {\n",
    "            'f.20002.0': [1226],\n",
    "        },\n",
    "        'occurrences': ['f.130694.0.0', 'f.130696.0.0'],\n",
    "    },\n",
    "    'Thyrotoxicosis': {\n",
    "        'self_reported': {\n",
    "            'f.20002.0': [1522, 1225],\n",
    "        },\n",
    "        'occurrences': ['f.130700.0.0'],\n",
    "    },\n",
    "\n",
    "    \n",
    "    ### Gastrointestinal\n",
    "    'Gingivitis or periodontitis': {\n",
    "        'occurrences': ['f.131562.0.0'],\n",
    "    },\n",
    "    'Helicobacter pylori infection': { \n",
    "        'self_reported': {\n",
    "            'f.20002.0': [1442],\n",
    "        },\n",
    "        'inpatient': {\n",
    "            'icd10': ['B980'],\n",
    "            'icd9': [],\n",
    "        },\n",
    "        'gp': {\n",
    "            'mapped_codes_dir': '/mnt/shared_folders/eResearch_glaucoma_project/andrewholmes2024/Aug2024/data/coding/primary_care/mapped_h_pylori_primary_care.csv',\n",
    "        },\n",
    "    },\n",
    "    'Irritable bowel syndrome': { \n",
    "        'self_reported': {\n",
    "            'f.20002.0': [1154],\n",
    "        },\n",
    "        'occurrences': ['f.131638.0.0'],\n",
    "    },\n",
    " \n",
    "\n",
    "    ### Auto-immune\n",
    "    'Psoriasis': { \n",
    "        'self_reported': {\n",
    "            'f.20002.0': [1453],\n",
    "        },\n",
    "        'occurrences': ['f.131742.0.0'],\n",
    "    },\n",
    "    'Sjogren syndrome': { \n",
    "        'self_reported': {\n",
    "            'f.20002.0': [1382],\n",
    "        },\n",
    "        'inpatient': {\n",
    "            'icd10': ['M350'],\n",
    "            'icd9': ['7102'],\n",
    "        },\n",
    "        'gp': {\n",
    "            'mapped_codes_dir': '/mnt/shared_folders/eResearch_glaucoma_project/andrewholmes2024/Aug2024/data/coding/primary_care/mapped_sjogren_syndrome_primary_care.csv',\n",
    "        },\n",
    "    },\n",
    "    'Rheumatoid arthritis': { \n",
    "        'self_reported': { \n",
    "            'f.20002.0': [1464],\n",
    "        },\n",
    "        'occurrences': ['f.131848.0.0', 'f.131850.0.0'],\n",
    "    },\n",
    "    'Ankylosing spondylitis': { \n",
    "        'self_reported': {\n",
    "            'f.20002.0': [1313]\n",
    "        },\n",
    "        'occurrences': ['f.131912.0.0'],\n",
    "    },\n",
    "\n",
    "    ### Other immune-related / inflammatory / atopic\n",
    "    'Rosacea': { \n",
    "        'self_reported': {\n",
    "            'f.20002.0': [1660],\n",
    "        },\n",
    "        'occurrences': ['f.131792.0.0'],\n",
    "    },\n",
    "     'COPD': { \n",
    "        'self_reported': {\n",
    "            'f.20002.0': [1112, 1113, 1472],\n",
    "            'f.6152.0': [6],\n",
    "        },\n",
    "        'occurrences': ['f.131486.0.0', 'f.131488.0.0', 'f.131490.0.0', 'f.131492.0.0'],\n",
    "    },\n",
    "    'Asthma': {\n",
    "        'self_reported': {\n",
    "            'f.20002.0': [1111],\n",
    "            'f.6152.0': [8],\n",
    "        },\n",
    "        'occurrences': ['f.131494.0.0', 'f.131496.0.0'],\n",
    "    },\n",
    "    'Atopic dermatitis': { \n",
    "        'self_reported': {\n",
    "            'f.20002.0': [1452],\n",
    "        },\n",
    "        'occurrences': ['f.131720.0.0'],\n",
    "    },    \n",
    "    'Vasomotor or allergic rhinitis': { \n",
    "        'self_reported': {\n",
    "            'f.20002.0': [1387],\n",
    "        },\n",
    "        'occurrences': ['f.131464.0.0'],\n",
    "    },\n",
    "    'Chronic sinusitis': { \n",
    "        'self_reported': {\n",
    "            'f.20002.0': [1416],\n",
    "        },\n",
    "        'occurrences': ['f.131468.0.0'],\n",
    "    },\n",
    "}"
   ]
  },
  {
   "cell_type": "markdown",
   "id": "a23cff5a-8618-4170-a25c-916e2387f5d9",
   "metadata": {},
   "source": [
    "# Loading data"
   ]
  },
  {
   "cell_type": "code",
   "execution_count": null,
   "id": "65a46a0b-a83a-46af-b0df-87f9abf1b1a5",
   "metadata": {},
   "outputs": [],
   "source": [
    "def add_cols_for_data_field(data_field, data_cols, cols_to_use_list):\n",
    "    cols_for_code = data_cols[data_cols.str.startswith(data_field)]\n",
    "    if len(cols_for_code) < 1:\n",
    "            print('No columns found matching field ' + data_field)\n",
    "    cols_to_use_list.extend(cols_for_code)\n",
    "    return cols_for_code"
   ]
  },
  {
   "cell_type": "markdown",
   "id": "5975136f-cecf-492e-94c6-ace55f8a4db6",
   "metadata": {},
   "source": [
    "### (Load from previous work = can skip below)"
   ]
  },
  {
   "cell_type": "markdown",
   "id": "83ffb998-5600-4163-9dc1-51a173d4d247",
   "metadata": {},
   "source": [
    "- Loading from Pickle file is much faster than reading csv\n",
    "- If loading from Pickle, can skip loading CSVs below, unless need to reimport original data"
   ]
  },
  {
   "cell_type": "code",
   "execution_count": null,
   "id": "dd13e266-ae77-4d1f-8fb8-36d48dcade73",
   "metadata": {},
   "outputs": [],
   "source": [
    "# Load saved, RAW\n",
    "\n",
    "# Valid 20 Sep 2024 all features\n",
    "merged_df = pd.read_pickle('./data/raw_data_merged.pkl') "
   ]
  },
  {
   "cell_type": "code",
   "execution_count": null,
   "id": "650ad408-f413-4ca4-86ec-f3cee4eef424",
   "metadata": {},
   "outputs": [],
   "source": [
    "# Load saved, PROCESSED\n",
    "\n",
    "# Valid 20 Sep 2024 all features\n",
    "merged_df = pd.read_pickle('./data/derived/mixed_derived_and_extracted_merged.pkl') "
   ]
  },
  {
   "cell_type": "code",
   "execution_count": null,
   "id": "76c3b5b0-bbef-4b0a-9c26-44412b4d13e8",
   "metadata": {},
   "outputs": [],
   "source": [
    "# Load saved, derived only\n",
    "\n",
    "# Valid 20 Sep 2024 all features\n",
    "merged_df = pd.read_pickle('./data/derived/derived_cols_merged.pkl') "
   ]
  },
  {
   "cell_type": "code",
   "execution_count": null,
   "id": "a45dac7c-fd1b-4067-a3cd-198ad2d5eea5",
   "metadata": {},
   "outputs": [],
   "source": [
    "# GP events\n",
    "\n",
    "# Valid 16 Sep 2024\n",
    "merged_gp_events_df = pd.read_pickle('./data/extracted_gp_events_dates_merged.pkl')"
   ]
  },
  {
   "cell_type": "markdown",
   "id": "bfd410fb-4dfd-46fe-88dc-c3254ba1d7fe",
   "metadata": {},
   "source": [
    "### ukb49508"
   ]
  },
  {
   "cell_type": "code",
   "execution_count": null,
   "id": "46714b49-2cc0-4e55-ae62-5c07c35a3563",
   "metadata": {},
   "outputs": [],
   "source": [
    "# ukb49508 = assesement centre (NOT ocular), inpatient data\n",
    "\n",
    "ukb49508_csv_cols = pd.read_table('/mnt/shared_folders/eResearch_glaucoma_project/UKBB_Data/ukb49508.tab', nrows=0).columns\n",
    "ukb49508_cols_to_use = [\n",
    "    # Demographic\n",
    "    'f.eid', \n",
    "    'f.34.0.0', # Year of birth\n",
    "    'f.52.0.0', # Month of brith\n",
    "    'f.53.0.0', # date attending assesement centre\n",
    "    'f.21003.0.0', # age at assesement centre\n",
    "] \n",
    "\n",
    "ukb49508_fields_to_add = [\n",
    "    \n",
    "    ### Demographic\n",
    "    ####################################################\n",
    "\n",
    "    'f.31.0.0', # Sex\n",
    "    'f.21000.0.0', # Ethnicity\n",
    "    'f.20118.0.0', # urban / rural\n",
    "    'f.24006.0.0', # PM2.5\n",
    "\n",
    "    'f.738.0.0', # Average household income\n",
    "    'f.6138.0', # Qualifications (array)\n",
    "    'f.4674.0.0', # Private healthcare use\n",
    "\n",
    "    \n",
    "    ### Systemic\n",
    "    ####################################################\n",
    "\n",
    "    # Hearing\n",
    "    'f.2247.0.0', # Hearing difficulties (self-report)\n",
    "    'f.4803.0.0', # Tinnitus (self-report)\n",
    "    'f.4814.0.0', # Tinnitus severity (self-report)\n",
    "    'f.20019.0.0', # Speech-reception-threshold, left\n",
    "    'f.20021.0.0', # Speech-reception-threshold, right\n",
    "\n",
    "    # Anthropometry\n",
    "    'f.21001.0.0', # BMI\n",
    "    'f.48.0.0', # Waist circumference\n",
    "    'f.49.0.0', # Hip circumference\n",
    "\n",
    "    # Blood pressure\n",
    "    'f.4080.0.0', 'f.4080.0.1', # SBP automated\n",
    "    'f.4079.0.0', 'f.4079.0.1', # DBP automated\n",
    "    'f.93.0.0', 'f.93.0.1', # SBP manual\n",
    "    'f.94.0.0', 'f.94.0.1', # DBP manual\n",
    "\n",
    "    # Arterial stiffness\n",
    "    'f.21021.0.0', # Pulse wave arterial stiffness index\n",
    "\n",
    "    # Lipids\n",
    "    'f.30870.0.0', # Triglycerides\n",
    "    'f.30690.0.0', # Cholesterol\n",
    "    'f.30760.0.0', # HDL\n",
    "    'f.30780.0.0', # LDL direct\n",
    "    'f.30630.0.0', # Apop A\n",
    "    'f.30640.0.0', # Apop B\n",
    "\n",
    "    # Endocrine: sex hormones\n",
    "    'f.30800.0.0', # Oestradiol\n",
    "    'f.30806.0.0', # Oestradiol reportability\n",
    "    'f.30805.0.0', # Oestradiol missing reason ---> use 30806 instead (more detail)\n",
    "    'f.30850.0.0', # Testosterone\n",
    "    'f.30856.0.0', # Testosterone reportability\n",
    "    'f.30855.0.0', # Testosterone missing reason ---> use 30856 instead\n",
    "\n",
    "    # Blood counts\n",
    "    'f.30080.0.0', # Platelet count\n",
    "    'f.30120.0.0', # Lymphocyte count\n",
    "    'f.30140.0.0', # Neutrophil count\n",
    "    'f.30130.0.0', # Monocyte count\n",
    "    \n",
    "    # Other bloods\n",
    "    'f.30750.0.0', # HBA1c\n",
    "    'f.30740.0.0', # Glucose\n",
    "    'f.30700.0.0', # Serum creatinine\n",
    "    'f.30720.0.0', # Serum cystatin C\n",
    "    'f.30880.0.0', # Serum urate\n",
    "    'f.30840.0.0', # Total bilirubin\n",
    "    'f.30710.0.0', # CRP\n",
    "    'f.30600.0.0', # Albumin\n",
    "    'f.30890.0.0', # Blood Vitamin D\n",
    "    \n",
    "    # Urine\n",
    "    'f.30500.0.0', # Urine microalbumin\n",
    "    'f.30505.0.0', # Urine microalbumin flag\n",
    "    'f.30510.0.0', # Urine creatinine\n",
    "\n",
    "    # Other\n",
    "    'f.6149.0', # Oral health\n",
    "\n",
    "    \n",
    "    ### Lifestyle\n",
    "    ####################################################\n",
    "\n",
    "    # Social isolation\n",
    "    'f.2020.0.0', # feelings of loneliness\n",
    "    'f.2110.0.0', # how often confide in others\n",
    "    'f.1031.0.0', # frequency of friend/famiyl visits\n",
    "    'f.6160.0', # leisure/social activities; array\n",
    "    'f.709.0.0', # number in household\n",
    "    \n",
    "    # Exercise\n",
    "    'f.22037.0.0', # MET mins/week walking\n",
    "    'f.22038.0.0', # MET mins/week moderate\n",
    "    'f.22039.0.0', # MET mins/week vigorous\n",
    "    #'f.22040.0.0', # Summed MET ---> not available\n",
    "    \n",
    "    'f.864.0.0', # days/week walking\n",
    "\t'f.874.0.0', # mins walking per day\n",
    "    'f.884.0.0', # days/week moderate activity\n",
    "\t'f.894.0.0', # duration moderate activity p/d\n",
    "    'f.904.0.0', # days/week vigorous activity\n",
    "\t'f.914.0.0', # duration vigorus activity p/d\n",
    "\n",
    "    'f.6164.0', # types of activity in last 4 weeks (array)\n",
    "    'f.1001.0.0', # duration of strenuous sports\n",
    "\n",
    "\t# Sleep\n",
    "\t'f.1160.0.0', # sleep duration\n",
    "\t'f.1200.0.0', # insomnia\n",
    "\t'f.1210.0.0', # snoring\n",
    "\t'f.1220.0.0', # daytime somnolence\n",
    "\n",
    "\t# Smoking\n",
    "    'f.1239.0.0', # current tobacco smoking\n",
    "    'f.1249.0.0', # past tobacco smoking (not collected for those who indicate they currently smoke most/all days in 1239)\n",
    "\n",
    "    'f.3456.0.0', # current cigarretes daily (if most/all days in 1239)\n",
    "    'f.2887.0.0', # previous cigarretes daily (if most/all days in 1249)\n",
    "\t'f.20161.0.0', # pack years ever smoked\n",
    "\n",
    "\t# Alcohol\n",
    "\t'f.1558.0.0', # current alcohol intake frequency\n",
    "\n",
    "\t# Coffee & tea\n",
    "\t# 'f.1498.0.0', # coffee intake cups/d -> NOT AVAILABLE\n",
    "\t'f.1508.0.0', # coffee type (is NaN if no intake)\n",
    "\t'f.1488.0.0', # tea intake cups/d\n",
    "\n",
    "    # Healthy diet score, from touchscreen (Lourida et al., 2019)\n",
    "    'f.1309.0.0', # Fresh fruit intake\n",
    "    'f.1319.0.0', # Dried fruit intake\n",
    "    'f.1289.0.0', # Cooked vegetable intake\n",
    "    'f.1299.0.0', # Salad/raw vegetable intake\n",
    "    'f.1329.0.0', # Oily fish intake\n",
    "    'f.1339.0.0', # Non-oily fish intake\n",
    "    'f.1349.0.0', # Processed meat intake\n",
    "    'f.1369.0.0', # Beef intake\n",
    "    'f.1379.0.0', # Lamb/mutton intake\n",
    "    'f.1389.0.0', # Pork intake\n",
    "    'f.1438.0.0', # Bread intake\n",
    "    'f.1448.0.0', # Bread type\n",
    "    'f.1458.0.0', # Cereal intake\n",
    "    'f.1468.0.0', # Cereal type\n",
    "\n",
    "\t# Other dietary markers\n",
    "    'f.1478.0.0', # Salt added to food\n",
    "\t'f.30530.0.0', # Urinary Na+ excretion (to calculate UNa:Cr ratio)\n",
    "\n",
    "    # Supplements\n",
    "    'f.6155.0', # Vitamin supp, array -> Vitamin C\n",
    "    'f.6179.0', # Mineral/other supp, array -> calcium, iron, selenium\n",
    "    \n",
    "    # QC\n",
    "    'f.1538.0.0', # Major dietary changes in last 5 years (see 2: 'because of illness')\n",
    "    'f.1548.0.0', # Dietary variation week-to-week\n",
    "]\n",
    "\n",
    "\n",
    "for data_field in ukb49508_fields_to_add:\n",
    "    add_cols_for_data_field(data_field, ukb49508_csv_cols, ukb49508_cols_to_use)\n",
    "\n",
    "occurrence_date_cols = []\n",
    "for disease, vals in diagnosis_dict.items():\n",
    "    if 'self_reported' in vals:\n",
    "        for data_field, v in vals['self_reported'].items():\n",
    "            add_cols_for_data_field(data_field, ukb49508_csv_cols, ukb49508_cols_to_use)\n",
    "\n",
    "# Medication\n",
    "self_report_medication_cols = add_cols_for_data_field('f.20003.0', ukb49508_csv_cols, ukb49508_cols_to_use) # self-reported medication codes\n",
    "\n",
    "# Inpatient\n",
    "ICD10_inpatient_dx_cols  = add_cols_for_data_field('f.41270.0', ukb49508_csv_cols, ukb49508_cols_to_use) # ICD10 inpatient diagnosis \n",
    "ICD10_inpatient_date_cols = add_cols_for_data_field('f.41280.0', ukb49508_csv_cols, ukb49508_cols_to_use) # ICD10 inpatient date\n",
    "\n",
    "ICD9_inpatient_dx_cols = add_cols_for_data_field('f.41271.0', ukb49508_csv_cols, ukb49508_cols_to_use) # ICD9 inpatient diagnosis \n",
    "ICD9_inpatient_date_cols = add_cols_for_data_field('f.41281.0', ukb49508_csv_cols, ukb49508_cols_to_use) # ICD9 inpatient date\n",
    "\n",
    "ukb49508_cols_to_use = np.unique(ukb49508_cols_to_use)\n",
    "print(f'Found {len(ukb49508_cols_to_use)} columns')"
   ]
  },
  {
   "cell_type": "code",
   "execution_count": null,
   "id": "d4bdaebb-4008-4cce-9084-aeb36cef7785",
   "metadata": {
    "editable": true,
    "slideshow": {
     "slide_type": ""
    },
    "tags": []
   },
   "outputs": [],
   "source": [
    "# Read ukb49508\n",
    "\n",
    "ukb49508_df = pd.read_table(\n",
    "    '/mnt/shared_folders/eResearch_glaucoma_project/UKBB_Data/ukb49508.tab', \n",
    "    usecols=ukb49508_cols_to_use, \n",
    "    low_memory=True,\n",
    "    parse_dates = np.concatenate((['f.53.0.0'], ICD10_inpatient_date_cols, ICD9_inpatient_date_cols)).tolist(),\n",
    "    date_format='%Y-%m-%d',\n",
    ")"
   ]
  },
  {
   "cell_type": "code",
   "execution_count": null,
   "id": "a8f53479-8a2f-4554-8c22-f07467adbeb5",
   "metadata": {},
   "outputs": [],
   "source": [
    "# Save a raw copy\n",
    "\n",
    "ukb49508_df.to_pickle('./data/extracted_raw_ukb49508.pkl', compression=None)"
   ]
  },
  {
   "cell_type": "code",
   "execution_count": null,
   "id": "e09637e8-d219-4954-a31a-3a8a764af181",
   "metadata": {},
   "outputs": [],
   "source": [
    "# Load raw copy\n",
    "\n",
    "ukb49508_df = pd.read_pickle('./data/extracted_raw_ukb49508.pkl')"
   ]
  },
  {
   "cell_type": "markdown",
   "id": "e3e5b53d-7b65-4919-a94c-f9d4994a7777",
   "metadata": {},
   "source": [
    "### ukb675501"
   ]
  },
  {
   "cell_type": "code",
   "execution_count": null,
   "id": "70435777-86fa-4c1e-b988-412502377487",
   "metadata": {},
   "outputs": [],
   "source": [
    "# ukb675501 = deprivation index, occurrences\n",
    "\n",
    "ukb675501_csv_cols = pd.read_table('/mnt/shared_folders/eResearch_glaucoma_project/UKBB_Data_healthrelatedoutcomes/ukb675501.tab', nrows=0).columns\n",
    "ukb675501_cols_to_use = [\n",
    "    'f.eid',\n",
    "    'f.22189.0.0', # Townsend Deprivation Index\n",
    "]\n",
    "\n",
    "occurence_date_cols = []\n",
    "for disease, vals in diagnosis_dict.items():\n",
    "    if 'occurrences' in vals:\n",
    "        for data_field in vals['occurrences']:\n",
    "             occurence_date_cols.extend(add_cols_for_data_field(data_field, ukb675501_csv_cols, ukb675501_cols_to_use))"
   ]
  },
  {
   "cell_type": "code",
   "execution_count": null,
   "id": "57b823eb-da3d-4cd6-9048-c9864ce5c18d",
   "metadata": {},
   "outputs": [],
   "source": [
    "# Read ukb675501\n",
    "\n",
    "ukb675501_df = pd.read_table(\n",
    "    '/mnt/shared_folders/eResearch_glaucoma_project/UKBB_Data_healthrelatedoutcomes/ukb675501.tab', \n",
    "    usecols=ukb675501_cols_to_use, \n",
    "    low_memory=True,\n",
    "    parse_dates = occurence_date_cols,\n",
    "    date_format='%Y-%m-%d',\n",
    ")"
   ]
  },
  {
   "cell_type": "code",
   "execution_count": null,
   "id": "cdba93b5-e435-461a-b1fc-1e2078cf4953",
   "metadata": {},
   "outputs": [],
   "source": [
    "# Save a raw copy\n",
    "\n",
    "ukb675501_df.to_pickle('./data/extracted_raw_ukb675501.pkl', compression=None)"
   ]
  },
  {
   "cell_type": "code",
   "execution_count": null,
   "id": "b400ff5c-6806-426d-9b41-98e640c4ac92",
   "metadata": {},
   "outputs": [],
   "source": [
    "# Load raw copy\n",
    "\n",
    "ukb675501_df = pd.read_pickle('./data/extracted_raw_ukb675501.pkl')"
   ]
  },
  {
   "cell_type": "markdown",
   "id": "23550ed2-a0c5-4265-acaa-739161ff6d99",
   "metadata": {},
   "source": [
    "### ukb51745"
   ]
  },
  {
   "cell_type": "code",
   "execution_count": null,
   "id": "d4598ddc-1fba-44ce-9b64-6b7f2237979d",
   "metadata": {},
   "outputs": [],
   "source": [
    "# ukb51745 = ocular data\n",
    "\n",
    "ukb51745_csv_cols = pd.read_table('/mnt/shared_folders/eResearch_glaucoma_project/UKBB_Data_Basket3/ukb51745.tab', nrows=0).columns\n",
    "ukb51745_cols_to_use = ['f.eid']\n",
    "\n",
    "ukb51745_fields_to_add = [\n",
    "    # Self-report\n",
    "    ##########################\n",
    "\n",
    "    # Self-reported myopia\n",
    "    'f.2207.0', # Wears glasses or lenses\n",
    "    'f.6147.0', # Reason for glasses / lenses\n",
    "    'f.5843.0', # Which eye(s) affected by myopia\n",
    "    \n",
    "    # Tonometry\n",
    "    ##########################\n",
    "\n",
    "    # IOPcc\n",
    "    'f.5262.0', #'f.5262.1', # OS (left eye)\n",
    "    'f.5254.0', #'f.5254.1', # OD (right eye)\n",
    "\n",
    "    # IOPg\n",
    "    'f.5263.0', # OS\n",
    "    'f.5255.0', # OD\n",
    "\n",
    "    # Corneal hysteresis\n",
    "    'f.5264.0', #'f.5264.1', # OS\n",
    "    'f.5256.0', #'f.5256.1', # OD\n",
    "\n",
    "    # Corneal resistance factor\n",
    "    'f.5265.0', #'f.5265.1', # OS\n",
    "    'f.5257.0', #'f.5257.1', # OS\n",
    "\n",
    "\n",
    "    # Refractometry\n",
    "    # Using refractometer 1 (=end of recuritment & 2012 repeat visit)\n",
    "    # (not used: Refractometer 2 = 2022 re-imaging visit)\n",
    "    ##########################\n",
    "\n",
    "    # Rfractometry result unreliable (QC)\n",
    "    'f.5090.0', #'f.5090.1', # OS\n",
    "    'f.5091.0', #'f.5091.1', # OD\n",
    "\n",
    "    # Best index\n",
    "    'f.5276.0', #'f.5276.1', # OS\n",
    "    'f.5221.0', #'f.5221.1', # OD\n",
    "\n",
    "    # Cylindrical power\n",
    "    'f.5086.0', #'f.5086.1', # OS\n",
    "    'f.5087.0', #'f.5087.1', # OD\n",
    "\n",
    "    # Spherical power\n",
    "    'f.5085.0', #'f.5085.1', # OS\n",
    "    'f.5084.0', #'f.5084.1', # OD\n",
    "\n",
    "    #  VA logMAR final\n",
    "    'f.5208.0.0', #'f.5208.1.0', # OS\n",
    "    'f.5201.0.0', #'f.5201.1.0', # OD\n",
    "\n",
    "\n",
    "    # OCT derived measurements\n",
    "    ##########################\n",
    "\n",
    "    # Average RNFL thickness\n",
    "    'f.28500.0', #'f.28500.1', # OS\n",
    "    'f.28501.0', #'f.28501.1', # OD\n",
    "\n",
    "    # Average GC-IPL thickness\n",
    "    'f.28504.0', #'f.28504.1', # OS\n",
    "    'f.28505.0', #'f.28505.1', # OD\n",
    "\n",
    "    # Overall macular thickness\n",
    "    'f.27800.0', #'f.27800.1', # OS\n",
    "    'f.27801.0', #'f.27801.1', # OD\n",
    "\n",
    "    # vCDR\n",
    "    'f.27857.0', #'f.27857.1', # OS\n",
    "    'f.27858.0', #'f.27858.1', # OD ----> very few participants? (OS 'more reliable' as measured 2nd)\n",
    "\n",
    "    # Mean of vertical disc diameter\n",
    "    'f.27853.0', #'f.27853.1', # OS\n",
    "    'f.27854.0', #'f.27854.1', # OD  ----> very few participants? (OS 'more reliable' as measured 2nd)\n",
    "\n",
    "    # QC, image quality\n",
    "    # 'f.28552.0', 'f.28552.1', # OS\n",
    "    # 'f.28553.0', 'f.28553.1', # OD\n",
    "]\n",
    "\n",
    "\n",
    "for data_field in ukb51745_fields_to_add:\n",
    "    add_cols_for_data_field(data_field, ukb51745_csv_cols, ukb51745_cols_to_use)"
   ]
  },
  {
   "cell_type": "code",
   "execution_count": null,
   "id": "452311cf-8586-4fe2-a5de-8cdf5a403369",
   "metadata": {},
   "outputs": [],
   "source": [
    "# Read ukb51745\n",
    "\n",
    "ukb51745_df = pd.read_table(\n",
    "    '/mnt/shared_folders/eResearch_glaucoma_project/UKBB_Data_Basket3/ukb51745.tab',\n",
    "    usecols=ukb51745_cols_to_use, \n",
    "    low_memory=True,\n",
    "    date_format='%Y-%m-%d',\n",
    ")"
   ]
  },
  {
   "cell_type": "code",
   "execution_count": null,
   "id": "7b4b2d21-e039-4921-b850-9f1cb2590271",
   "metadata": {},
   "outputs": [],
   "source": [
    "# Save a raw copy\n",
    "\n",
    "ukb51745_df.to_pickle('./data/extracted_raw_ukb51745.pkl', compression=None)"
   ]
  },
  {
   "cell_type": "code",
   "execution_count": null,
   "id": "2b06ea12-9476-484c-923a-88db70ddd894",
   "metadata": {},
   "outputs": [],
   "source": [
    "# Load raw copy\n",
    "\n",
    "ukb51745_df = pd.read_pickle('./data/extracted_raw_ukb51745.pkl')"
   ]
  },
  {
   "cell_type": "markdown",
   "id": "3894ea06-8ae7-47b8-87d9-e44052de60b6",
   "metadata": {},
   "source": [
    "### Research group csv for PRS"
   ]
  },
  {
   "cell_type": "code",
   "execution_count": null,
   "id": "00684062-4e5a-4c94-b70d-f705dab42f80",
   "metadata": {},
   "outputs": [],
   "source": [
    "prs_df = pd.read_table(\n",
    "    '/mnt/shared_folders/eResearch_glaucoma_project/UKBB_Data_mtDNA/paper_yonovadoing_etal/variableinput_apply_PRS_to_everything.txt',\n",
    "    usecols=['Participant_ID', 'Standardized_PRS_Craig2020'],\n",
    "    low_memory=True, \n",
    "    date_format='%Y-%m-%d'\n",
    ").rename(columns={'Participant_ID':'f.eid', 'Standardized_PRS_Craig2020': 'Polygenic risk score'})"
   ]
  },
  {
   "cell_type": "markdown",
   "id": "1ca3545d-320c-4cc6-a8f5-39ca93916dee",
   "metadata": {},
   "source": [
    "### Merge data files"
   ]
  },
  {
   "cell_type": "code",
   "execution_count": null,
   "id": "7a905ee5-540c-4cfe-b383-e376d9f857cf",
   "metadata": {},
   "outputs": [],
   "source": [
    "# Merge data files\n",
    "\n",
    "merged_df = pd.merge(ukb49508_df, ukb675501_df, on='f.eid', how='outer')\n",
    "merged_df = pd.merge(merged_df, ukb51745_df, on='f.eid', how='outer')\n",
    "merged_df = pd.merge(merged_df, prs_df, on='f.eid', how='outer')\n",
    "\n",
    "#merged_df = ukb51745_df\n",
    "#merged_df = ukb49508_df"
   ]
  },
  {
   "cell_type": "code",
   "execution_count": null,
   "id": "cdd678ab-efaa-4b74-8964-100300497c83",
   "metadata": {},
   "outputs": [],
   "source": [
    "# Save merged data file\n",
    "\n",
    "merged_df.to_pickle('./data/raw_data_merged.pkl') "
   ]
  },
  {
   "cell_type": "markdown",
   "id": "dc82f957-2c56-4838-aaea-4812647561cd",
   "metadata": {},
   "source": [
    "### GP data"
   ]
  },
  {
   "cell_type": "code",
   "execution_count": null,
   "id": "c52c4174-4617-4f61-8368-ecdc01c68f6a",
   "metadata": {},
   "outputs": [],
   "source": [
    "# Load GP clinical events\n",
    "\n",
    "gp_events_raw_table = pd.read_table(\n",
    "    '/mnt/shared_folders/eResearch_glaucoma_project/UKBB_Data_healthrelatedoutcomes/gp_clinical.txt', \n",
    "    low_memory=True, \n",
    "    usecols=['eid', 'event_dt', 'read_2', 'read_3'],\n",
    "    parse_dates = ['event_dt'],\n",
    "    date_format='%d/%m/%Y',\n",
    ")\n",
    "\n",
    "merged_gp_events_df = gp_events_raw_table.merge(merged_df[['f.eid', 'f.53.0.0']], left_on='eid', right_on='f.eid', suffixes=('_gp', '_inpatient'))"
   ]
  },
  {
   "cell_type": "code",
   "execution_count": null,
   "id": "456645c2-3a35-46a1-a391-3afb03257a2f",
   "metadata": {},
   "outputs": [],
   "source": [
    "# Save GP files\n",
    "\n",
    "gp_events_raw_table.to_pickle('./data/extracted_raw_gp_events.pkl')\n",
    "merged_gp_events_df.to_pickle('./data/extracted_gp_events_dates_merged.pkl')"
   ]
  },
  {
   "cell_type": "markdown",
   "id": "56ae037f-f495-44f7-a9b6-488fd47dfc45",
   "metadata": {},
   "source": [
    "# Ophthalmic data processing"
   ]
  },
  {
   "cell_type": "markdown",
   "id": "3ea0e4ba-789c-4fe4-9626-b251b6a31511",
   "metadata": {},
   "source": [
    "### Intraocular pressure (IOP)"
   ]
  },
  {
   "cell_type": "markdown",
   "id": "9e105610-6458-413e-bcf8-4ada69211914",
   "metadata": {},
   "source": [
    "**IOPcc**"
   ]
  },
  {
   "cell_type": "code",
   "execution_count": null,
   "id": "844a4413-5c5f-4f0e-beb5-d6f4cb1b333e",
   "metadata": {},
   "outputs": [],
   "source": [
    "# IOPcc\n",
    "\n",
    "merged_df['IOPcc_OS'] = merged_df['f.5262.0.0']\n",
    "merged_df['IOPcc_OD'] = merged_df['f.5254.0.0']\n",
    "\n",
    "# Get constant eye - worse eye for IOP\n",
    "merged_df['IOPcc'] = merged_df[['IOPcc_OS', 'IOPcc_OD']].max(axis=1, skipna=True)\n",
    "\n",
    "# Define IOP subcohort\n",
    "IOP_available_mask = merged_df['IOPcc'].isna() == False\n",
    "merged_df['IOP_available'] = IOP_available_mask.astype(int)\n",
    "\n",
    "### ! Swapped to using IOPg\n",
    "# Define worse eye, for future use\n",
    "# If there is a tie (n=156), use OS (left eye measured 2nd, so potentially more reliable)\n",
    "# OS_worse_IOPcc_mask = (merged_df['IOPcc'] == merged_df['IOPcc_OS']) & IOP_available_mask\n",
    "# OD_worse_IOPcc_mask = (merged_df['IOPcc'] == merged_df['IOPcc_OD']) & IOP_available_mask & (~OS_worse_IOPcc_mask)\n",
    "# merged_df.loc[OS_worse_IOPcc_mask, 'constant_eye'] = 'OS'\n",
    "# merged_df.loc[OD_worse_IOPcc_mask, 'constant_eye'] = 'OD'"
   ]
  },
  {
   "cell_type": "code",
   "execution_count": null,
   "id": "c4a4cfa0-2aeb-427e-bbde-2d19ef891241",
   "metadata": {},
   "outputs": [],
   "source": [
    "# IOPcc asymmetry\n",
    "# Will be NaN if other eye missing\n",
    "\n",
    "merged_df['IOPcc inter-eye difference'] = merged_df['IOPcc'] - (merged_df[['IOPcc_OS', 'IOPcc_OD']].min(axis=1, skipna=False))"
   ]
  },
  {
   "cell_type": "markdown",
   "id": "6b0033e7-bcac-4420-8912-ec0bd42a5fe3",
   "metadata": {},
   "source": [
    "**Pre-treatment IOPcc imputation**"
   ]
  },
  {
   "cell_type": "code",
   "execution_count": null,
   "id": "e1eea49d-c84a-4bbf-aa12-02732af771de",
   "metadata": {},
   "outputs": [],
   "source": [
    "# Get IOP medication usage at baseline assesement visit (i=0)\n",
    "# From self-report only (ignore GP)\n",
    "\n",
    "iop_medications = pd.read_csv('./data/coding/IOP_medications.csv')\n",
    "iop_medication_codes = iop_medications['UKBB_Code']\n",
    "\n",
    "merged_df['on_IOP_medication_baseline'] = merged_df[self_report_medication_cols].isin(iop_medication_codes.values).any(axis=1).astype(int)\n",
    "on_IOP_medication_mask = merged_df['on_IOP_medication_baseline'] == 1"
   ]
  },
  {
   "cell_type": "code",
   "execution_count": null,
   "id": "6b5d17b4-0293-425f-a857-ad1d08fcb51c",
   "metadata": {},
   "outputs": [],
   "source": [
    "# Impute pre-treatment IOPcc\n",
    "\n",
    "treatment_IOP_multiplier = 1.3\n",
    "\n",
    "# IOPcc OS\n",
    "merged_df['IOPcc_OS_pretreatment'] = merged_df['IOPcc_OS']\n",
    "merged_df.loc[on_IOP_medication_mask, 'IOPcc_OS_pretreatment'] = merged_df[on_IOP_medication_mask]['IOPcc_OS'] * treatment_IOP_multiplier\n",
    "\n",
    "# IOPcc OD\n",
    "merged_df['IOPcc_OD_pretreatment'] = merged_df['IOPcc_OD']\n",
    "merged_df.loc[on_IOP_medication_mask, 'IOPcc_OD_pretreatment'] = merged_df[on_IOP_medication_mask]['IOPcc_OD'] * treatment_IOP_multiplier\n",
    "\n",
    "# IOPcc constant eye (eye with highest IOP)\n",
    "merged_df['IOPcc pre-treatment'] = merged_df['IOPcc']\n",
    "merged_df.loc[on_IOP_medication_mask, 'IOPcc pre-treatment'] = merged_df[on_IOP_medication_mask]['IOPcc'] * treatment_IOP_multiplier"
   ]
  },
  {
   "cell_type": "markdown",
   "id": "daad92a8-a461-4466-b0cf-e6e7f9f40035",
   "metadata": {},
   "source": [
    "**IOPg**"
   ]
  },
  {
   "cell_type": "code",
   "execution_count": null,
   "id": "6fe762a9-6fcf-48d2-95cb-85fedae28cd6",
   "metadata": {},
   "outputs": [],
   "source": [
    "# IOPg\n",
    "\n",
    "merged_df['IOPg_OS'] = merged_df['f.5263.0.0']\n",
    "merged_df['IOPg_OD'] = merged_df['f.5255.0.0']\n",
    "\n",
    "# Get constant eye - worse eye for IOP\n",
    "# Note: in ~20,000 people, this eye is different, compared to IOPcc\n",
    "merged_df['IOPg'] = merged_df[['IOPg_OS', 'IOPg_OD']].max(axis=1, skipna=True)\n",
    "\n",
    "# Define worse eye, for future use\n",
    "# If there is a tie (n=156), use OS (left eye measured 2nd, so potentially more reliable)\n",
    "OS_worse_IOPg_mask = (merged_df['IOPg_OS'] >= merged_df['IOPg_OD']) | ((merged_df['IOPg_OD'].isna() == True) & (merged_df['IOPg_OS'].isna() == False))\n",
    "OD_worse_IOPg_mask = (merged_df['IOPg_OS'] < merged_df['IOPg_OD']) | ((merged_df['IOPg_OS'].isna() == True) & (merged_df['IOPg_OD'].isna() == False))\n",
    "\n",
    "merged_df.loc[OS_worse_IOPg_mask, 'constant_eye'] = 'OS'\n",
    "merged_df.loc[OD_worse_IOPg_mask, 'constant_eye'] = 'OD'"
   ]
  },
  {
   "cell_type": "code",
   "execution_count": null,
   "id": "e7bf6b90-b8ac-4293-b0a1-f300f30a07a7",
   "metadata": {},
   "outputs": [],
   "source": [
    "# IOPg asymmetry\n",
    "# Will be NaN if other eye missing\n",
    "\n",
    "merged_df['IOPg inter-eye difference'] = (merged_df['IOPg_OS'] - merged_df['IOPg_OD']).abs()"
   ]
  },
  {
   "cell_type": "markdown",
   "id": "57588327-574e-4b7c-bfc3-04156fae52b0",
   "metadata": {},
   "source": [
    "**Pre-treatment IOPg imputation**"
   ]
  },
  {
   "cell_type": "code",
   "execution_count": null,
   "id": "4c1c7ee3-7f7f-4cdb-a16a-a23001c36ac1",
   "metadata": {
    "editable": true,
    "slideshow": {
     "slide_type": ""
    },
    "tags": []
   },
   "outputs": [],
   "source": [
    "# Impute pre-treatment IOPcc\n",
    "\n",
    "treatment_IOP_multiplier = 1.3\n",
    "\n",
    "# IOPg OS\n",
    "merged_df['IOPg_OS_pretreatment'] = merged_df['IOPg_OS']\n",
    "merged_df.loc[on_IOP_medication_mask, 'IOPg_OS_pretreatment'] = merged_df[on_IOP_medication_mask]['IOPg_OS'] * treatment_IOP_multiplier\n",
    "\n",
    "# IOPg OD\n",
    "merged_df['IOPg_OD_pretreatment'] = merged_df['IOPg_OD']\n",
    "merged_df.loc[on_IOP_medication_mask, 'IOPg_OD_pretreatment'] = merged_df[on_IOP_medication_mask]['IOPg_OD'] * treatment_IOP_multiplier\n",
    "\n",
    "# IOPg eye with higher IOP\n",
    "merged_df['IOPg pre-treatment'] = merged_df['IOPg']\n",
    "merged_df.loc[on_IOP_medication_mask, 'IOPg pre-treatment'] = merged_df[on_IOP_medication_mask]['IOPg'] * treatment_IOP_multiplier\n",
    "\n",
    "# IOPg asymmetry\n",
    "merged_df['IOPg pre-treatment inter-eye difference'] = (merged_df['IOPg_OS_pretreatment'] - merged_df['IOPg_OD_pretreatment']).abs()"
   ]
  },
  {
   "cell_type": "markdown",
   "id": "8afdf6b4-5658-4f6d-9a68-0f8166f2e54d",
   "metadata": {},
   "source": [
    "### Corneal hysteresis (CH)"
   ]
  },
  {
   "cell_type": "code",
   "execution_count": null,
   "id": "bad9e5f1-8e28-4833-bc06-444517bd032e",
   "metadata": {
    "editable": true,
    "slideshow": {
     "slide_type": ""
    },
    "tags": []
   },
   "outputs": [],
   "source": [
    "# CH\n",
    "\n",
    "merged_df['corneal_hysteresis_OS'] = merged_df['f.5264.0.0']\n",
    "merged_df['corneal_hysteresis_OD'] = merged_df['f.5256.0.0']\n",
    "\n",
    "# # In consistent eye (highest IOP), according to IOPcc\n",
    "# merged_df.loc[OS_worse_IOPcc_mask, 'Corneal hysteresis'] = merged_df['corneal_hysteresis_OS'] \n",
    "# merged_df.loc[OD_worse_IOPcc_mask, 'Corneal hysteresis'] = merged_df['corneal_hysteresis_OD'] \n",
    "\n",
    "# In consistent eye (highest IOP), according to IOPg\n",
    "merged_df.loc[OS_worse_IOPg_mask, 'Corneal hysteresis'] = merged_df['corneal_hysteresis_OS'] \n",
    "merged_df.loc[OD_worse_IOPg_mask, 'Corneal hysteresis'] = merged_df['corneal_hysteresis_OD'] "
   ]
  },
  {
   "cell_type": "code",
   "execution_count": null,
   "id": "6f401f1a-002d-4d70-b517-ce1b9b59c8b8",
   "metadata": {
    "editable": true,
    "slideshow": {
     "slide_type": ""
    },
    "tags": []
   },
   "outputs": [],
   "source": [
    "# CH asymmetry\n",
    "# Will be NaN if other eye missing\n",
    "\n",
    "# Using IOPg\n",
    "# Abs\n",
    "\n",
    "merged_df['Corneal hysteresis inter-eye difference'] = (merged_df['corneal_hysteresis_OS'] - merged_df['corneal_hysteresis_OD']).abs()"
   ]
  },
  {
   "cell_type": "markdown",
   "id": "8bc2aab5-fc06-45b5-8f9b-d03f00c484f5",
   "metadata": {},
   "source": [
    "### Corneal resistance factor (CRF)"
   ]
  },
  {
   "cell_type": "code",
   "execution_count": null,
   "id": "c2483fea-a896-474d-b705-eebf89d0f4d0",
   "metadata": {
    "editable": true,
    "slideshow": {
     "slide_type": ""
    },
    "tags": []
   },
   "outputs": [],
   "source": [
    "# CRF\n",
    "\n",
    "merged_df['corneal_resistance_factor_OS'] = merged_df['f.5265.0.0']\n",
    "merged_df['corneal_resistance_factor_OD'] = merged_df['f.5257.0.0']\n",
    "\n",
    "# # In consistent eye (highest IOP), according to IOPcc\n",
    "# merged_df.loc[OS_worse_IOPcc_mask, 'Corneal resistance factor'] = merged_df['corneal_resistance_factor_OS'] \n",
    "# merged_df.loc[OD_worse_IOPcc_mask, 'Corneal resistance factor'] = merged_df['corneal_resistance_factor_OD'] \n",
    "\n",
    "# In consistent eye (highest IOP), according to IOPg\n",
    "merged_df.loc[OS_worse_IOPg_mask, 'Corneal resistance factor'] = merged_df['corneal_resistance_factor_OS'] \n",
    "merged_df.loc[OD_worse_IOPg_mask, 'Corneal resistance factor'] = merged_df['corneal_resistance_factor_OD'] "
   ]
  },
  {
   "cell_type": "markdown",
   "id": "0eebba64-cfa1-4f74-a7be-99809edc3300",
   "metadata": {},
   "source": [
    "### Refractive error"
   ]
  },
  {
   "cell_type": "markdown",
   "id": "58d95aa3-109a-44a2-85f3-80c1288123af",
   "metadata": {},
   "source": [
    "**Self-reported: wears glasses for myopia**"
   ]
  },
  {
   "cell_type": "code",
   "execution_count": null,
   "id": "fa62b784-cca6-43f7-b513-3c2f96cb9aef",
   "metadata": {
    "editable": true,
    "slideshow": {
     "slide_type": ""
    },
    "tags": []
   },
   "outputs": [],
   "source": [
    "# Self-reported myopia in any eye\n",
    "# Field 6147, data code 1\n",
    "merged_df['self_reported_myopia_any_eye'] = merged_df[merged_df.columns[merged_df.columns.str.startswith('f.6147.0.')]].eq(1).any(axis=1).astype(int)\n",
    "\n",
    "# Self-reported myopia in the constant eye (eye with highest IOP)\n",
    "# Field 5843: 1 = OD, 2 = OS, 3 = both eyes\n",
    "myopia_OS_mask = merged_df['f.5843.0.0'].eq(2)\n",
    "myopia_OD_mask = merged_df['f.5843.0.0'].eq(1)\n",
    "myopia_both_mask = merged_df['f.5843.0.0'].eq(3)\n",
    "\n",
    "# # According to IOPcc\n",
    "# merged_df['Self-reported myopia'] = 0\n",
    "# merged_df.loc[OS_worse_IOPcc_mask & myopia_OS_mask, 'Self-reported myopia'] = 1\n",
    "# merged_df.loc[OD_worse_IOPcc_mask & myopia_OD_mask, 'Self-reported myopia'] = 1\n",
    "# merged_df.loc[myopia_both_mask, 'Self-reported myopia'] = 1\n",
    "\n",
    "# merged_df['Self-reported myopia which eye'] = pd.NA\n",
    "# merged_df.loc[myopia_OS_mask, 'Self-reported myopia which eye'] = 'OS'\n",
    "# merged_df.loc[myopia_OD_mask, 'Self-reported myopia which eye'] = 'OD'\n",
    "# merged_df.loc[myopia_both_mask, 'Self-reported myopia which eye'] = 'Both'\n",
    "\n",
    "# According to IOPg\n",
    "merged_df['Self-reported myopia'] = 0\n",
    "merged_df.loc[OS_worse_IOPg_mask & myopia_OS_mask, 'Self-reported myopia'] = 1\n",
    "merged_df.loc[OD_worse_IOPg_mask & myopia_OD_mask, 'Self-reported myopia'] = 1\n",
    "merged_df.loc[myopia_both_mask, 'Self-reported myopia'] = 1\n",
    "\n",
    "merged_df['Self-reported myopia which eye'] = pd.NA\n",
    "merged_df.loc[myopia_OS_mask, 'Self-reported myopia which eye'] = 'OS'\n",
    "merged_df.loc[myopia_OD_mask, 'Self-reported myopia which eye'] = 'OD'\n",
    "merged_df.loc[myopia_both_mask, 'Self-reported myopia which eye'] = 'Both'\n",
    "\n",
    "# Process NA, where we don't know if they wear glasses for myopia:\n",
    "# NaN or -3 for 2207 (wears glasses)\n",
    "# -1 or -3 for 6147 (reason for glasses)\n",
    "unknown_glasses_for_myopia_mask = merged_df[merged_df.columns[merged_df.columns.str.startswith('f.2207.0.')]].eq(-3).any(axis=1) | merged_df[merged_df.columns[merged_df.columns.str.startswith('f.6147.0.')]].isin([-1, -3]).any(axis=1)\n",
    "merged_df.loc[unknown_glasses_for_myopia_mask, 'self_reported_myopia_any_eye'] = np.nan # any eye\n",
    "merged_df.loc[unknown_glasses_for_myopia_mask, 'Self-reported myopia'] = np.nan # constant eye"
   ]
  },
  {
   "cell_type": "markdown",
   "id": "84c0da9d-c6f8-41f8-b6c2-cadb3936125a",
   "metadata": {},
   "source": [
    "**Spherical equivalent via auto-refractor**"
   ]
  },
  {
   "cell_type": "code",
   "execution_count": null,
   "id": "d4420ae8-3595-4eb3-9611-1d903499c23a",
   "metadata": {
    "editable": true,
    "slideshow": {
     "slide_type": ""
    },
    "tags": []
   },
   "outputs": [],
   "source": [
    "merged_df['cylindrical_power_OS'] = merged_df[merged_df.columns[merged_df.columns.str.startswith('f.5086.0')]].mean(axis=1, skipna=True)\n",
    "merged_df['cylindrical_power_OD'] = merged_df[merged_df.columns[merged_df.columns.str.startswith('f.5087.0')]].mean(axis=1, skipna=True)\n",
    "\n",
    "merged_df['spherical_power_OS'] = merged_df[merged_df.columns[merged_df.columns.str.startswith('f.5085.0')]].mean(axis=1, skipna=True)\n",
    "merged_df['spherical_power_OD'] = merged_df[merged_df.columns[merged_df.columns.str.startswith('f.5084.0')]].mean(axis=1, skipna=True)\n",
    "\n",
    "# SE = S + C/2\n",
    "merged_df['spherical_equivalent_OS'] = merged_df['spherical_power_OS'] + (0.5 * merged_df['cylindrical_power_OS'])\n",
    "merged_df['spherical_equivalent_OD'] = merged_df['spherical_power_OD'] + (0.5 * merged_df['cylindrical_power_OD'])"
   ]
  },
  {
   "cell_type": "code",
   "execution_count": null,
   "id": "04293aa3-ee4d-4705-a460-1e2c9b4833cc",
   "metadata": {},
   "outputs": [],
   "source": [
    "# # Spherical equivalent in consistent eye (highest IOP), according to IOPcc\n",
    "# merged_df.loc[OS_worse_IOPcc_mask, 'Spherical equivalent'] = merged_df['spherical_equivalent_OS'] \n",
    "# merged_df.loc[OD_worse_IOPcc_mask, 'Spherical equivalent'] = merged_df['spherical_equivalent_OD'] \n",
    "\n",
    "# Spherical equivalent in consistent eye (highest IOP), according to IOPg\n",
    "merged_df.loc[OS_worse_IOPg_mask, 'Spherical equivalent'] = merged_df['spherical_equivalent_OS'] \n",
    "merged_df.loc[OD_worse_IOPg_mask, 'Spherical equivalent'] = merged_df['spherical_equivalent_OD'] "
   ]
  },
  {
   "cell_type": "markdown",
   "id": "4dc91df2-63c5-4e9c-96fd-4fab6d4c6b50",
   "metadata": {},
   "source": [
    "**Save derived fields**"
   ]
  },
  {
   "cell_type": "code",
   "execution_count": null,
   "id": "53564ec7-7217-4c4b-a488-5b24d1608639",
   "metadata": {},
   "outputs": [],
   "source": [
    "# Save refraction measurements (for future research group use)\n",
    "\n",
    "merged_df[['f.eid', 'self_reported_myopia_any_eye', 'Self-reported myopia which eye', 'spherical_equivalent_OS', 'spherical_equivalent_OD']].to_csv('./data/derived/ukbb_refractive_error.tsv', sep='\\t', index=False)"
   ]
  },
  {
   "cell_type": "markdown",
   "id": "d4a0624c-7628-4a76-a178-a1a0c04f662c",
   "metadata": {},
   "source": [
    "# Demographic data processing"
   ]
  },
  {
   "cell_type": "markdown",
   "id": "058f7fb9-1e74-45dd-a0ec-daf7ac8c9b59",
   "metadata": {},
   "source": [
    "### Simple columns: rename"
   ]
  },
  {
   "cell_type": "code",
   "execution_count": null,
   "id": "4bf23946-ee41-44b3-b6b7-3c8390757eab",
   "metadata": {},
   "outputs": [],
   "source": [
    "# Age\n",
    "merged_df['Age at initial assesement'] = merged_df['f.21003.0.0']\n",
    "\n",
    "# Sex\n",
    "merged_df['Sex'] = merged_df['f.31.0.0'] # 0 = female, 1 = male\n",
    "\n",
    "# PM2.5 exposure\n",
    "merged_df['PM2.5 exposure'] = merged_df['f.24006.0.0']"
   ]
  },
  {
   "cell_type": "markdown",
   "id": "371bf64e-2c08-49a3-93cb-9997a7d1edd4",
   "metadata": {},
   "source": [
    "### Ethnicity\n",
    "\n",
    "- Feature for models: `white_ethnicity`, binary dichotomous. Code as White / Non-White. Non-White includes \"Mixed\" ethnicities\n",
    "- For other descriptive statistics: `detailed_ethnicity`, as per `ethnicity_groupings` (recoded from UKB defaults)"
   ]
  },
  {
   "cell_type": "code",
   "execution_count": null,
   "id": "b76f3f84-4549-408f-97ad-cac9a6d00124",
   "metadata": {},
   "outputs": [],
   "source": [
    "ethnicity_groupings = {\n",
    "    'white': [1, 1001, 1002, 1003],\n",
    "    'mixed': [2, 2001, 2002, 2003, 2004],\n",
    "    'asian': [3, 5, 3001, 3002, 3003, 3004],\n",
    "    'black': [4, 4001, 4002, 4003],\n",
    "    'other': [6],\n",
    "}"
   ]
  },
  {
   "cell_type": "code",
   "execution_count": null,
   "id": "63b8b5c0-d7e3-4b85-ac3c-6b636c5bb94f",
   "metadata": {},
   "outputs": [],
   "source": [
    "# Detailed variable: `detailed_ethnicity`\n",
    "# One-hot encoded as `ethnicity_`\n",
    "\n",
    "for group_name, data_codes in ethnicity_groupings.items():\n",
    "    ethnicity_members = merged_df['f.21000.0.0'].isin(data_codes)\n",
    "    merged_df.loc[ethnicity_members, 'detailed_ethnicity'] = group_name\n",
    "\n",
    "    merged_df[f'ethnicity_{group_name}'] = 0\n",
    "    merged_df.loc[ethnicity_members, f'ethnicity_{group_name}'] = 1"
   ]
  },
  {
   "cell_type": "code",
   "execution_count": null,
   "id": "5f20ff18-f4f1-4f74-a860-a58b125f2807",
   "metadata": {},
   "outputs": [],
   "source": [
    "# Summary variable: `white_ethnicity`\n",
    "\n",
    "merged_df['Ethnicity'] = merged_df['f.21000.0.0'].isin(ethnicity_groupings['white']).astype(int)\n",
    "\n",
    "# Handle NaN\n",
    "merged_df.loc[merged_df['detailed_ethnicity'].isna() == True, 'Ethnicity'] = np.nan\n",
    "\n",
    "for group_name, data_codes in ethnicity_groupings.items():\n",
    "        merged_df.loc[merged_df['detailed_ethnicity'].isna() == True, f'ethnicity_{group_name}'] = np.nan"
   ]
  },
  {
   "cell_type": "markdown",
   "id": "441b78f3-a4fa-47b1-85ba-19ad20a5a054",
   "metadata": {},
   "source": [
    "### Urban/rural\n",
    "\n",
    "- `is_urban`: Binary dichotomous variable\n",
    "- Consistent urban definition across England/Wales & Scotland: >10,000 population area"
   ]
  },
  {
   "cell_type": "code",
   "execution_count": null,
   "id": "1ec8f5d1-8891-4682-bedc-c3f185153408",
   "metadata": {},
   "outputs": [],
   "source": [
    "# Data codes corresponding to urban areas, i.e.\n",
    "# England/Wales: 1 (Urban sparse), 5 (Urban less sparse)\n",
    "# Scotland: 11 (Large Urban rea), 12 (Other Urban Area)\n",
    "urban_data_codes = [1, 5, 11, 12]\n",
    "\n",
    "# Set variable\n",
    "merged_df['Urban residence'] = merged_df['f.20118.0.0'].isin(urban_data_codes).astype(int)\n",
    "\n",
    "# Handle NaN\n",
    "merged_df.loc[merged_df['f.20118.0.0'].isna() == True, 'Urban residence'] = np.nan"
   ]
  },
  {
   "cell_type": "markdown",
   "id": "f78475c9-11f0-40b6-bf5b-e5e68eab316a",
   "metadata": {},
   "source": [
    "### Socioeconomic deprivation"
   ]
  },
  {
   "cell_type": "code",
   "execution_count": null,
   "id": "47567770-202d-4ceb-b8ca-69420e2f9f06",
   "metadata": {},
   "outputs": [],
   "source": [
    "# Townsend Deprivation index (TDI)\n",
    "merged_df['Townsend deprivation index'] = merged_df['f.22189.0.0']"
   ]
  },
  {
   "cell_type": "code",
   "execution_count": null,
   "id": "cc8843df-1b81-4199-90b2-366c14e43e65",
   "metadata": {},
   "outputs": [],
   "source": [
    "# Average household income before tax\n",
    "# Ordinal, per default UKB codings\n",
    "\n",
    "# 1\tLess than 18,000\n",
    "# 2\t18,000 to 30,999\n",
    "# 3\t31,000 to 51,999\n",
    "# 4\t52,000 to 100,000\n",
    "# 5\tGreater than 100,000\n",
    "\n",
    "# ! Large proportion missing (decline to answer)\n",
    "\n",
    "merged_df['Total household income'] = merged_df['f.738.0.0'].replace({\n",
    "    -1: np.nan,\n",
    "    -3: np.nan,\n",
    "})"
   ]
  },
  {
   "cell_type": "code",
   "execution_count": null,
   "id": "67b756e1-555b-4786-af7f-43928688dd71",
   "metadata": {},
   "outputs": [],
   "source": [
    "# Qualifications\n",
    "# Ordinal\n",
    "\n",
    "# 0 = none\n",
    "# 1 = secondary education (A levels, O levels, CSEs)\n",
    "# 2 = higher education (University degree,  NVQ/HND/HNC, other professional qualifications e.g. nursing, teaching)\n",
    "\n",
    "# Defualt coding in UKB:\n",
    "# 1\tCollege or University degree\n",
    "# 2\tA levels/AS levels or equivalent\n",
    "# 3\tO levels/GCSEs or equivalent\n",
    "# 4\tCSEs or equivalent\n",
    "# 5\tNVQ or HND or HNC or equivalent\n",
    "# 6\tOther professional qualifications eg: nursing, teaching\n",
    "# -7\tNone of the above\n",
    "# -3\tPrefer not to answer\n",
    "\n",
    "education_cols = merged_df.columns[merged_df.columns.str.startswith('f.6138.0')]\n",
    "\n",
    "no_education_listed = merged_df['f.6138.0.0'].eq(-7)\n",
    "secondary_education = merged_df[education_cols].isin([2, 3, 4]).any(axis=1)\n",
    "higher_education = merged_df[education_cols].isin([1, 5, 6]).any(axis=1)\n",
    "education_na = (merged_df['f.6138.0.0'].eq(-3)) | (merged_df['f.6138.0.0'].isna() == True)\n",
    "\n",
    "merged_df['Education'] = np.nan # reset\n",
    "merged_df.loc[no_education_listed, 'Education'] = 0\n",
    "merged_df.loc[secondary_education, 'Education'] = 1\n",
    "merged_df.loc[higher_education, 'Education'] = 2\n",
    "merged_df.loc[education_na, 'Education'] = np.nan"
   ]
  },
  {
   "cell_type": "code",
   "execution_count": null,
   "id": "4724b376-a129-4a8a-bb5d-7d346ca5ebf9",
   "metadata": {},
   "outputs": [],
   "source": [
    "# Private healthcare utilisation\n",
    "# Ordinal; higher value = higher private utilisation\n",
    "# Recoded from UKB\n",
    "\n",
    "# ! Large missing %, but available for most people with IOP (? added towards end)\n",
    "\n",
    "# Default UKB:\n",
    "# 1\tYes, all of the time\n",
    "# 2\tYes, most of the time\n",
    "# 3\tYes, sometimes\n",
    "# 4\tNo, never\n",
    "# -1\tDo not know\n",
    "# -3\tPrefer not to answer\n",
    "\n",
    "merged_df['Private healthcare utilisation'] = merged_df['f.4674.0.0'].replace({\n",
    "    -1: np.nan,\n",
    "    -3: np.nan,\n",
    "    1: 3, # 1\tYes, all of the time\n",
    "    2: 2, # 2\tYes, most of the time\n",
    "    3: 1, # 3\tYes, sometimes\n",
    "    4: 0, # 4\tNo, never\n",
    "})"
   ]
  },
  {
   "cell_type": "markdown",
   "id": "39852aa2-61f6-4a80-989e-edb33dc3f98f",
   "metadata": {},
   "source": [
    "# Systemic data processing"
   ]
  },
  {
   "cell_type": "markdown",
   "id": "d0c275ff-c687-4e71-a5ab-3e9db9976c7a",
   "metadata": {},
   "source": [
    "## Diagnoses"
   ]
  },
  {
   "cell_type": "code",
   "execution_count": null,
   "id": "9f6d8936-a417-4da0-8068-889122fbeffa",
   "metadata": {
    "scrolled": true
   },
   "outputs": [],
   "source": [
    "%%capture cap --no-stderr\n",
    "\n",
    "diagnosis_case_breakdown_df = pd.DataFrame(columns=['disease', 'N baseline (% of cases)', 'Baseline, % of UKB', 'N baseline occurrence (%)', 'N baseline self-report (%)', 'N baseline inpatient (%)', 'N baseline GP (%)'])\n",
    "\n",
    "for disease, vals in diagnosis_dict.items():\n",
    "    # Initialise\n",
    "    baseline_col_str = disease + ' (baseline)'\n",
    "    incident_col_str = disease + ' (incident)'\n",
    "    merged_df[baseline_col_str] = 0\n",
    "    merged_df[incident_col_str] = 0\n",
    "    \n",
    "    print(f'\\n{disease} \\n{baseline_col_str} \\n{incident_col_str}')\n",
    "    print('------------------------------------------------')\n",
    "    \n",
    "    ### Handle occurrences (baseline & incident)\n",
    "    baseline_occurrence_feids = set()\n",
    "    incident_occurrence_feids = set()\n",
    "\n",
    "    if 'occurrences' in vals:\n",
    "        print('Processing occurrences')\n",
    "        feid_dates_df = pd.DataFrame(columns=['f.eid', 'earliest_occurrence_diagnosis_date'])\n",
    "        for occurrence_field in vals['occurrences']:\n",
    "            n_baseline_invalid, n_incident_invalid, feid_dates_df = data_functions.extract_occurrence(merged_df, occurrence_field, baseline_occurrence_feids, incident_occurrence_feids, feid_dates_df)\n",
    "            print(f'Invalid N for occurrence {occurrence_field}: baseline: {n_baseline_invalid} incident: {n_incident_invalid}')\n",
    "        print(f'Earliest occurrence diagnosis dates: \\n{feid_dates_df.groupby('f.eid')['earliest_occurrence_diagnosis_date'].min().describe()}')\n",
    "\n",
    "    \n",
    "    ### Handle self-report (all baseline)\n",
    "    \n",
    "    self_report_feids = set()\n",
    "    if 'self_reported' in vals:\n",
    "        print('Processing self-report')\n",
    "        for data_field, positive_data_codes in vals['self_reported'].items():\n",
    "            cols = merged_df.columns[merged_df.columns.str.startswith(data_field)]\n",
    "            positive_cases = merged_df[cols].isin(positive_data_codes).any(axis=1)\n",
    "            self_report_feids.update(merged_df[positive_cases]['f.eid'])\n",
    "\n",
    "\n",
    "    \n",
    "    ### Handle inpatient (baseline & incident)\n",
    "    \n",
    "    inpatient_diagnosis_dates = pd.DataFrame(columns=['f.eid', 'earliest_inpatient_diagnosis_date'])\n",
    "    baseline_inpatient_feids = set()\n",
    "    incident_inpatient_feids = set()\n",
    "    \n",
    "    if 'inpatient' in vals:\n",
    "        earliest_date_inpatient = data_functions.extract_inpatient(\n",
    "            merged_df,\n",
    "            vals['inpatient']['icd10'],\n",
    "            vals['inpatient']['icd9'],\n",
    "            baseline_inpatient_feids,\n",
    "            incident_inpatient_feids,\n",
    "            inpatient_diagnosis_dates,\n",
    "        )\n",
    "        print(f'Earliest inpatient diagnosis dates: \\n{earliest_date_inpatient.describe()}')\n",
    "\n",
    "\n",
    "    ### Handle GP (baseline & incident)\n",
    "    \n",
    "    baseline_gp_feids = set()\n",
    "    incident_gp_feids = set()\n",
    "\n",
    "    if 'gp' in vals:\n",
    "        # Read in coding\n",
    "        coding_dir = vals['gp']['mapped_codes_dir']\n",
    "        coding_df = pd.read_csv(coding_dir)\n",
    "        read_v2_codes = coding_df[coding_df['read_category'] == 'v2']['read_code'].values\n",
    "        read_v3_codes = coding_df[coding_df['read_category'] == 'v3']['read_code'].values\n",
    "        print(f'Read v2 codes used: {', '.join(read_v2_codes)}')\n",
    "        print(f'Read v3 codes used: {', '.join(read_v3_codes)}')\n",
    "\n",
    "        earliest_date_gp, n_baseline_invalid, n_incident_invalid = data_functions.extract_gp(merged_gp_events_df, read_v2_codes, read_v3_codes, baseline_gp_feids, incident_gp_feids)\n",
    "        print(f'Invalid N for GP: baseline: {n_baseline_invalid} incident: {n_incident_invalid}')\n",
    "        print(f'Earliest GP diagnosis dates: \\n{earliest_date_gp.describe()}')\n",
    "\n",
    "    \n",
    "    ### Generate masks\n",
    "    \n",
    "    baseline_diagnosis_from_occurrence = merged_df['f.eid'].isin(baseline_occurrence_feids)\n",
    "    incident_diagnosis_from_occurrence = merged_df['f.eid'].isin(incident_occurrence_feids)\n",
    "\n",
    "    baseline_diagnosis_from_self_report = merged_df['f.eid'].isin(self_report_feids)\n",
    "\n",
    "    baseline_diagnosis_from_inpatient = merged_df['f.eid'].isin(baseline_inpatient_feids) \n",
    "    incident_diagnosis_from_inpatient = merged_df['f.eid'].isin(incident_inpatient_feids)\n",
    "\n",
    "    baseline_diagnosis_from_gp = merged_df['f.eid'].isin(baseline_gp_feids)\n",
    "    incident_diagnosis_from_gp = merged_df['f.eid'].isin(incident_gp_feids)\n",
    "\n",
    "    all_baseline = baseline_diagnosis_from_occurrence | baseline_diagnosis_from_self_report | baseline_diagnosis_from_inpatient | baseline_diagnosis_from_gp\n",
    "    all_incident = incident_diagnosis_from_occurrence | incident_diagnosis_from_inpatient | incident_diagnosis_from_gp\n",
    "    all_cases = all_baseline | all_incident\n",
    "\n",
    "    print(f'Mask sum N (may overlap):'\n",
    "        + f'\\nSelf report: {baseline_diagnosis_from_self_report.sum()}'\n",
    "        + f'\\nOccurrences, baseline: {baseline_diagnosis_from_occurrence.sum()}'\n",
    "        + f'\\nOccurrences, incident: {incident_diagnosis_from_occurrence.sum()}'\n",
    "        + f'\\nInpatient, baseline: {baseline_diagnosis_from_inpatient.sum()}'\n",
    "        + f'\\nInpatient, incident: {incident_diagnosis_from_inpatient.sum()}'\n",
    "        + f'\\nGP, baseline: {baseline_diagnosis_from_gp.sum()}'\n",
    "        + f'\\nGP, incident: {incident_diagnosis_from_gp.sum()}'\n",
    "    )\n",
    "\n",
    "    print(f'Case N:'\n",
    "        + f'\\nAll: {all_cases.sum()}'\n",
    "        + f'\\nBaseline: {all_baseline.sum()}'\n",
    "        + f'\\nIncident: {all_incident.sum()}'\n",
    "   )\n",
    "\n",
    "    #### Set diagnoses\n",
    "    merged_df.loc[all_baseline, baseline_col_str] = 1\n",
    "    merged_df.loc[all_incident, incident_col_str] = 1\n",
    "\n",
    "\n",
    "    ### Update displays\n",
    "\n",
    "    # Get \"additional cases\" at baseline identified in the following order: occurrences -> self-report -> inpatient -> GP\n",
    "    # (Occurrences first, as this theoretically includes self-report)\n",
    "    baseline_self_report_additional = baseline_diagnosis_from_self_report & ~baseline_diagnosis_from_occurrence\n",
    "    baseline_inpatient_additional = baseline_diagnosis_from_inpatient & ~baseline_diagnosis_from_occurrence & ~baseline_diagnosis_from_self_report\n",
    "    baseline_gp_additional = baseline_diagnosis_from_gp & ~baseline_diagnosis_from_occurrence & ~baseline_diagnosis_from_self_report & ~baseline_diagnosis_from_inpatient\n",
    "\n",
    "    diagnosis_case_breakdown_df.loc[len(diagnosis_case_breakdown_df)] = [\n",
    "        disease, # disease\n",
    "        f'{all_baseline.sum()} ({((all_baseline.sum() / all_cases.sum()) * 100):0.2f}%)', # N baseline (%)\n",
    "        f'{((all_baseline.sum() / len(merged_df)) * 100):0.2f}%', # Baseline % of UKB\n",
    "        f'{baseline_diagnosis_from_occurrence.sum()} ({((baseline_diagnosis_from_occurrence.sum() / all_baseline.sum()) * 100):0.2f}%)', # N occurrence_B (%)\n",
    "        f'{baseline_self_report_additional.sum()} ({((baseline_self_report_additional.sum() / all_baseline.sum()) * 100):0.2f}%)', # N self-report_B (%)\n",
    "        f'{baseline_inpatient_additional.sum()} ({((baseline_inpatient_additional.sum() / all_baseline.sum()) * 100):0.2f}%)', # N inpatient (%)\n",
    "        f'{baseline_gp_additional.sum()} ({((baseline_gp_additional.sum() / all_baseline.sum()) * 100):0.2f}%)', # N GP-B (%)\n",
    "    ]\n",
    "\n",
    "    print(merged_df[baseline_col_str].value_counts())\n",
    "    print(merged_df[incident_col_str].value_counts())"
   ]
  },
  {
   "cell_type": "code",
   "execution_count": null,
   "id": "e31f3c28-6499-404a-84ec-95af79fa51cb",
   "metadata": {},
   "outputs": [],
   "source": [
    "# Save above output\n",
    "\n",
    "with open('./data/qc/systemic_diagnoses_log.txt', 'w') as f:\n",
    "    f.write(cap.stdout)"
   ]
  },
  {
   "cell_type": "code",
   "execution_count": null,
   "id": "f8143731-203d-481f-8181-15224cb20f01",
   "metadata": {},
   "outputs": [],
   "source": [
    "# Save derived baseline/incident columns for future use\n",
    "\n",
    "save_cols = ['f.eid']\n",
    "\n",
    "for disease, vals in diagnosis_dict.items():\n",
    "    baseline_col_str = disease + ' (baseline)'\n",
    "    incident_col_str = disease + ' (incident)'\n",
    "    save_cols.append(baseline_col_str)\n",
    "    save_cols.append(incident_col_str)\n",
    "\n",
    "merged_df[save_cols].to_csv('./data/derived/ukbb_systemic_diagnoses.tsv', sep='\\t', index=False)"
   ]
  },
  {
   "cell_type": "markdown",
   "id": "8b57c7d3-2a56-4a51-8177-92ce270f3b9a",
   "metadata": {},
   "source": [
    "## Other systemic factors"
   ]
  },
  {
   "cell_type": "markdown",
   "id": "976821cb-19fa-49e6-a403-5740cbd98ae1",
   "metadata": {},
   "source": [
    "### Medications"
   ]
  },
  {
   "cell_type": "code",
   "execution_count": null,
   "id": "406a630e-1a52-4952-ad5e-ee4369d810b7",
   "metadata": {},
   "outputs": [],
   "source": [
    "drugs_list = pd.read_table('./data/coding/export_systemic_drugs.tsv')\n",
    "ukbb_drug_coding = pd.read_table('./data/coding/ukbb_meds_coding4.tsv')"
   ]
  },
  {
   "cell_type": "code",
   "execution_count": null,
   "id": "1d968c05-2240-4222-97b8-1aba2f755c54",
   "metadata": {},
   "outputs": [],
   "source": [
    "drug_classes_to_feature_names = {\n",
    "    # drug class: feature name\n",
    "    #'bupropion': 'Bupropion',\n",
    "    'metformin': 'Metformin',\n",
    "    'statin': 'Statin',\n",
    "    'beta_blocker_systemic': 'Beta blocker',\n",
    "    'CCB': 'Calcium channel blocker',\n",
    "    'ACE_inhibitor': 'ACE inhibitor',\n",
    "    'ARB': 'Angiotensin receptor blocker',\n",
    "    'diuretic': 'Diuretic',\n",
    "    'SSRI': 'SSRI',\n",
    "    'SNRI': 'SNRI',\n",
    "}\n",
    "\n",
    "data_code_values = drugs_list['data_code'].values"
   ]
  },
  {
   "cell_type": "code",
   "execution_count": null,
   "id": "c8cf0505-c96e-4a74-846d-561aa5a49531",
   "metadata": {},
   "outputs": [],
   "source": [
    "# Code medications\n",
    "# Each are binary variables\n",
    "\n",
    "for drug_class, feature_name in drug_classes_to_feature_names.items():\n",
    "    drug_class_data_codes = drugs_list[(drugs_list[['class_1', 'class_2', 'class_3']] == drug_class).any(axis=1)]['data_code']\n",
    "    merged_df[feature_name] = merged_df[self_report_medication_cols].isin(drug_class_data_codes.values).any(axis=1).astype(int)"
   ]
  },
  {
   "cell_type": "code",
   "execution_count": null,
   "id": "668e2ce3-7d5e-42e3-bc8f-c308cb8f9f38",
   "metadata": {},
   "outputs": [],
   "source": [
    "# Number of uses on each drug\n",
    "\n",
    "drug_user_number_df = pd.DataFrame(columns=['data_code', 'med_name', 'N individuals'])\n",
    "\n",
    "for i, row in drugs_list.iterrows():\n",
    "    n_users = merged_df[self_report_medication_cols].eq(row['data_code']).any(axis=1).sum()\n",
    "    drug_user_number_df.loc[i] = [row['data_code'], row['med_name'], n_users]"
   ]
  },
  {
   "cell_type": "code",
   "execution_count": null,
   "id": "a2860111-de07-429b-a38f-c896d93f3000",
   "metadata": {},
   "outputs": [],
   "source": [
    "drug_user_number_df = drug_user_number_df.sort_values(axis=0, by='N individuals', inplace=False, ascending=False)\n",
    "drug_user_number_df.to_csv('./data/qc/systemic_drugs_n_users.tsv',  index=False, sep='\\t')"
   ]
  },
  {
   "cell_type": "code",
   "execution_count": null,
   "id": "9fc3d8ad-a998-47e2-a088-a3753da0ba0b",
   "metadata": {},
   "outputs": [],
   "source": [
    "# Save derived medication coding for future use\n",
    "\n",
    "save_cols = ['f.eid'] + list(drug_classes_to_feature_names.values())\n",
    "merged_df[save_cols].to_csv('./data/derived/ukbb_systemic_medication_use.tsv', index=False, sep='\\t')"
   ]
  },
  {
   "cell_type": "markdown",
   "id": "e8a86c8d-6a0c-4e85-be3d-a19127a26d4c",
   "metadata": {},
   "source": [
    "**Recode drug classes for publication**"
   ]
  },
  {
   "cell_type": "code",
   "execution_count": null,
   "id": "4602a59d-bd43-4dca-9571-cab1944614a5",
   "metadata": {},
   "outputs": [],
   "source": [
    "recoded_df = pd.DataFrame(columns=['Data code', 'Medication name', 'Feature(s)'])\n",
    "feature_names = drug_classes_to_feature_names.values()\n",
    "\n",
    "for i, row in drugs_list.iterrows():\n",
    "    #print(row['med_name'])\n",
    "    drug_classes = row[['class_1', 'class_2', 'class_3']].astype(str).values\n",
    "    #print(classes)\n",
    "    #features = np.intersect1d(classes, drug_classes)\n",
    "    features = [] #np.array([])\n",
    "    for drug_class in drug_classes:\n",
    "        if drug_class in drug_classes_to_feature_names:\n",
    "            feature_name = drug_classes_to_feature_names[drug_class]\n",
    "            features.append(feature_name)\n",
    "\n",
    "    if len(features) == 0:\n",
    "        continue\n",
    "\n",
    "    # Removed duplicates\n",
    "    resorted_features = [i for n, i in enumerate(features) if i not in features[:n]]\n",
    "    \n",
    "    recoded_df.loc[len(recoded_df)] = [row['data_code'], row['med_name'], ', '.join(resorted_features)]"
   ]
  },
  {
   "cell_type": "code",
   "execution_count": null,
   "id": "79125d23-9b3c-415a-b202-379cdf3bf9f5",
   "metadata": {},
   "outputs": [],
   "source": [
    "recoded_df = recoded_df.sort_values(axis=0, by=['Feature(s)', 'Medication name'], inplace=False, ascending=False)"
   ]
  },
  {
   "cell_type": "code",
   "execution_count": null,
   "id": "a6ec3fe4-4a4e-491c-bb04-57f7dae76d14",
   "metadata": {},
   "outputs": [],
   "source": [
    "recoded_df.to_csv('./data/coding/systemic_drugs_publication_table.csv', index=False)"
   ]
  },
  {
   "cell_type": "markdown",
   "id": "604e3018-9423-4fb7-a770-b4bfc4e35564",
   "metadata": {},
   "source": [
    "### Hearing\n",
    "\n",
    "- Also see self-report diagnosis fields"
   ]
  },
  {
   "cell_type": "markdown",
   "id": "f607570c-a444-4a89-854f-619367fa1dcc",
   "metadata": {},
   "source": [
    "**Self-reported hearing difficulties**"
   ]
  },
  {
   "cell_type": "code",
   "execution_count": null,
   "id": "5aa19ab0-4a29-43e8-b6df-9b26936f341a",
   "metadata": {},
   "outputs": [],
   "source": [
    "# Hearing difficulty\n",
    "# Binary var\n",
    "\n",
    "# f. 2247\n",
    "# Treat 99 (completely deaf) as yes\n",
    "\n",
    "merged_df['Hearing difficulty (self-reported)'] = merged_df['f.2247.0.0'].replace({\n",
    "    -1: np.nan,\n",
    "    -3: np.nan,\n",
    "    99: 1,\n",
    "    1: 1,\n",
    "    0: 0,\n",
    "})"
   ]
  },
  {
   "cell_type": "code",
   "execution_count": null,
   "id": "bffc08bd-29bc-4864-a616-54fd725df17d",
   "metadata": {},
   "outputs": [],
   "source": [
    "# Tinnitus\n",
    "# Ordinal variable - frequency of tinnitus - higher value = more frequent\n",
    "# f. 4803\n",
    "\n",
    "# ! Large proportion missing (only ~ n=172,000  available)\n",
    "# However, available for most people with IOP (? added towards end of visits)\n",
    "\n",
    "# Recoded\n",
    "# Default UKB codings:\n",
    "# 11\tYes, now most or all of the time\n",
    "# 12\tYes, now a lot of the time\n",
    "# 13\tYes, now some of the time\n",
    "# 14\tYes, but not now, but have in the past\n",
    "# 0\tNo, never\n",
    "# -1\tDo not know\n",
    "# -3\tPrefer not to answer\n",
    "\n",
    "# n.b. code \"past\" as \"No\" (0)\n",
    "\n",
    "merged_df['Tinnitus frequency (self-reported)'] = merged_df['f.4803.0.0'].replace({\n",
    "    -1: np.nan,\n",
    "    -3: np.nan,\n",
    "\n",
    "    # Not currently\n",
    "    0: 0, # never\n",
    "    14: 0, # Yes, but not now, but have in the past\n",
    "\n",
    "    # Yes\n",
    "    13: 1, # Yes, now some of the time\n",
    "    12: 2, # Yes, now a lot of the time\n",
    "    11: 3, \t# Yes, now most or all of the time\n",
    "})"
   ]
  },
  {
   "cell_type": "markdown",
   "id": "c99d6ea8-673d-44cb-a358-02c6f18aaed9",
   "metadata": {},
   "source": [
    "**Hearing test**\n",
    "- Limited N., but overlaps with IOP substudy\n",
    "- Use better ear, as per past studies"
   ]
  },
  {
   "cell_type": "code",
   "execution_count": null,
   "id": "2f01896e-80ac-469d-bfdf-44b009487c95",
   "metadata": {},
   "outputs": [],
   "source": [
    "# Speech reception threshold (SRT)\n",
    "\n",
    "merged_df['speech_reception_threshold_left'] = merged_df['f.20019.0.0']\n",
    "merged_df['speech_reception_threshold_right'] = merged_df['f.20021.0.0']\n",
    "\n",
    "# Best ear -> main variable of interest\n",
    "# Defined as the ear with the lower SRT (lower signal:noise ratio i.e. less signal)\n",
    "# If only one ear available, take that as the best ear\n",
    "merged_df['Speech reception threshold'] = merged_df[['speech_reception_threshold_left', 'speech_reception_threshold_right']].min(axis=1, skipna=True)"
   ]
  },
  {
   "cell_type": "markdown",
   "id": "85420d0d-72cb-4ad7-bcfe-dccb2c801449",
   "metadata": {},
   "source": [
    "### Blood pressure & arterial stiffness"
   ]
  },
  {
   "cell_type": "code",
   "execution_count": null,
   "id": "3b4368b8-b2d7-494f-ba21-cc7e99809ea8",
   "metadata": {},
   "outputs": [],
   "source": [
    "# Systolic BP\n",
    "# Average all available automated and manual readings\n",
    "\n",
    "sbp_cols = ['f.4080.0.0', 'f.4080.0.1', 'f.93.0.0', 'f.93.0.1']\n",
    "merged_df['Systolic blood pressure'] = merged_df[sbp_cols].mean(axis=1, skipna=True)\n",
    "\n",
    "\n",
    "# Diastolic BP\n",
    "# Average all available automated and manual readings\n",
    "\n",
    "dbp_cols = ['f.4079.0.0', 'f.4079.0.1', 'f.94.0.0', 'f.94.0.1']\n",
    "merged_df['Diastolic blood pressure'] = merged_df[dbp_cols].mean(axis=1, skipna=True)"
   ]
  },
  {
   "cell_type": "code",
   "execution_count": null,
   "id": "28da66e2-f75b-47af-9f3b-df7930923cfa",
   "metadata": {},
   "outputs": [],
   "source": [
    "# Arterial stiffness index\n",
    "# Added towards end of assesement visit; available for most people with IOP measurement\n",
    "\n",
    "merged_df['Arterial stiffness index'] = merged_df['f.21021.0.0']"
   ]
  },
  {
   "cell_type": "markdown",
   "id": "94ac6ce5-da02-4699-a1c4-2017b5592aee",
   "metadata": {},
   "source": [
    "### Self-reported oral health\n",
    "\n",
    "- Using definition from Lee et al., 2024 (https://pubmed.ncbi.nlm.nih.gov/38506820/)"
   ]
  },
  {
   "cell_type": "code",
   "execution_count": null,
   "id": "565a9aa8-120c-4b8a-b059-91f304f46d82",
   "metadata": {},
   "outputs": [],
   "source": [
    "# Poor oral health, self-reported\n",
    "# Binary variable\n",
    "\n",
    "\n",
    "# UKB f 6149 default coding:\n",
    "# 1\tMouth ulcers\n",
    "# 2\tPainful gums\n",
    "# 3\tBleeding gums\n",
    "# 4\tLoose teeth\n",
    "# 5\tToothache\n",
    "# 6\tDentures\n",
    "# -7\tNone of the above\n",
    "# -3\tPrefer not to answer\n",
    "\n",
    "# Poor oral health defined as any of: painful gums, bleeding gums, loose teeth, toothache, or dentures\n",
    "# i.e. all responses except mouth ulcers (1)\n",
    "# See Lee et al., 2024 (https://pubmed.ncbi.nlm.nih.gov/38506820/)\n",
    "poor_oral_health_codes = [2, 3, 4, 5, 6]\n",
    "\n",
    "cols_6149 = merged_df.columns[merged_df.columns.str.startswith('f.6149.0')]\n",
    "merged_df['Poor oral health'] = merged_df[cols_6149].isin(poor_oral_health_codes).any(axis=1).astype(int)\n",
    "\n",
    "# Preserve NA\n",
    "f_6149_na = (merged_df['f.6149.0.0'].eq(-3)) | (merged_df['f.6149.0.0'].isna() == True)\n",
    "merged_df.loc[f_6149_na, 'Poor oral health'] = np.nan"
   ]
  },
  {
   "cell_type": "markdown",
   "id": "a930881c-1f33-4b81-bcf9-0208201d33dd",
   "metadata": {},
   "source": [
    "### Endocrine: sex hormones\n",
    "\n",
    "- Large proportion of oestradiol & testosterone(to a lesser extent) is NaN due to being undetectable: see 'missing reason' & 'reportability' data fields\n",
    "\n",
    "Reportable ranges from UKBB (https://biobank.ndph.ox.ac.uk/showcase/ukb/docs/serum_biochemistry.pdf):\n",
    "- Oestradiol: <175 pmol/L\n",
    "- Testosterone: <0.35 pmol/L\n",
    "- Note: these are DIFFERENT to the assay analytical range (73-17621 pmol/L for oestradiol, 0.35-55.52 for testosterone)\n",
    "\n",
    "We replace missing values (specifically due to being too low) with half the lower detectable limit (https://pubmed.ncbi.nlm.nih.gov/33156012/)"
   ]
  },
  {
   "cell_type": "code",
   "execution_count": null,
   "id": "3197f61b-e6fe-4e37-bad2-03caa1bebbec",
   "metadata": {},
   "outputs": [],
   "source": [
    "### Oestradiol\n",
    "\n",
    "merged_df['Plasma oestradiol'] = merged_df['f.30800.0.0']\n",
    "\n",
    "# Lower limit for reporting: 175 pmol/L\n",
    "# Threshold for missing values: 87.5\n",
    "oestradiol_reportability_too_low = merged_df['f.30806.0.0'].isin([2, 4])\n",
    "merged_df.loc[oestradiol_reportability_too_low, 'Plasma oestradiol'] = 87.5"
   ]
  },
  {
   "cell_type": "code",
   "execution_count": null,
   "id": "2a89efbe-5c75-4945-9b8b-396253056689",
   "metadata": {},
   "outputs": [],
   "source": [
    "### Testosterone\n",
    "\n",
    "merged_df['Plasma testosterone'] = merged_df['f.30850.0.0']\n",
    "\n",
    "# Lower limit for reporting: 0.35 pmol/L\n",
    "# Threshold for missing values: 0.175\n",
    "testosterone_reportability_too_low = merged_df['f.30856.0.0'].isin([2, 4])\n",
    "merged_df.loc[testosterone_reportability_too_low, 'Plasma testosterone'] = 0.175"
   ]
  },
  {
   "cell_type": "markdown",
   "id": "5b969322-c0d9-4163-aaaf-ad053bc85f8e",
   "metadata": {},
   "source": [
    "### Blood markers"
   ]
  },
  {
   "cell_type": "markdown",
   "id": "c143528b-caa2-4eab-9cec-35820b753728",
   "metadata": {},
   "source": [
    "**Diabetes mellitus markers / insulin resistance**"
   ]
  },
  {
   "cell_type": "code",
   "execution_count": null,
   "id": "2825d0b8-5b6f-4105-aa4b-ee7ef363790f",
   "metadata": {},
   "outputs": [],
   "source": [
    "merged_df['HbA1c'] = merged_df['f.30750.0.0']\n",
    "merged_df['Plasma glucose'] = merged_df['f.30740.0.0']"
   ]
  },
  {
   "cell_type": "markdown",
   "id": "dc85b332-38ba-4397-8b14-4b9e96b11b36",
   "metadata": {},
   "source": [
    "**Lipids**"
   ]
  },
  {
   "cell_type": "code",
   "execution_count": null,
   "id": "ae461ba9-ce0e-401d-85b0-a99d7870765b",
   "metadata": {},
   "outputs": [],
   "source": [
    "merged_df['Triglycerides'] = merged_df['f.30870.0.0']\n",
    "merged_df['Total cholesterol'] = merged_df['f.30690.0.0']\n",
    "merged_df['HDL'] = merged_df['f.30760.0.0']\n",
    "merged_df['LDL'] = merged_df['f.30780.0.0']\n",
    "merged_df['Apolipoprotein A'] = merged_df['f.30630.0.0']\n",
    "merged_df['Apolipoprotein B'] = merged_df['f.30640.0.0']"
   ]
  },
  {
   "cell_type": "markdown",
   "id": "c1f2c85c-deee-4188-88d1-ea05ad15009d",
   "metadata": {},
   "source": [
    "**Inflammatory cell ratios**\n",
    "\n",
    "- Platelet:lymphocyte ratio (PLR)\n",
    "- Neutrophil:lymphocyte ratio (NLR)\n",
    "- Systemic immune-inflammation index (SII) -> incorporates platelets, neutrophils, lymphocytes"
   ]
  },
  {
   "cell_type": "code",
   "execution_count": null,
   "id": "053fdf4a-6238-4c37-b781-3b85ed4a8af9",
   "metadata": {},
   "outputs": [],
   "source": [
    "merged_df['platelet_count'] = merged_df['f.30080.0.0']\n",
    "merged_df['lymphocyte_count'] = merged_df['f.30120.0.0']\n",
    "merged_df['neutrophil_count'] = merged_df['f.30140.0.0']\n",
    "\n",
    "# Zero lymphocytes -> avoid, as otherwise will divide by zero\n",
    "zero_lymphocyte_count = merged_df['lymphocyte_count'] == 0\n",
    "\n",
    "# PLR\n",
    "merged_df['platelet_lymphocyte_ratio'] = merged_df['platelet_count'] / merged_df['lymphocyte_count']\n",
    "merged_df.loc[zero_lymphocyte_count, 'platelet_lymphocyte_ratio'] = np.nan\n",
    "\n",
    "# NLR\n",
    "merged_df['neutrophil_lymphocyte_ratio'] = merged_df['neutrophil_count'] / merged_df['lymphocyte_count']\n",
    "merged_df.loc[zero_lymphocyte_count, 'neutrophil_lymphocyte_ratio'] = np.nan\n",
    "\n",
    "# SII\n",
    "merged_df['Systemic immune inflammation index'] = merged_df['platelet_count'] * merged_df['neutrophil_count'] / merged_df['lymphocyte_count']\n",
    "merged_df.loc[zero_lymphocyte_count, 'Systemic immune inflammation index'] = np.nan"
   ]
  },
  {
   "cell_type": "markdown",
   "id": "e4661924-a4f0-4b8a-9cf2-195161be0ac3",
   "metadata": {},
   "source": [
    "**Other blood markers**"
   ]
  },
  {
   "cell_type": "code",
   "execution_count": null,
   "id": "9ce8a012-406c-4f0e-b521-2dfa58cb40ef",
   "metadata": {},
   "outputs": [],
   "source": [
    "merged_df['Plasma urate'] = merged_df['f.30880.0.0']\n",
    "merged_df['Plasma total bilirubin'] = merged_df['f.30840.0.0']\n",
    "merged_df['C-reactive protein'] = merged_df['f.30710.0.0']\n",
    "merged_df['Plasma albumin'] = merged_df['f.30600.0.0']"
   ]
  },
  {
   "cell_type": "markdown",
   "id": "6194dcd7-2151-472b-96ed-be2c44858f18",
   "metadata": {},
   "source": [
    "### CKD markers"
   ]
  },
  {
   "cell_type": "markdown",
   "id": "bf581641-cd95-4d9b-a3db-d78ffb593097",
   "metadata": {},
   "source": [
    "**eGFR**\n",
    "\n",
    "- CKD-EPI 2021 creatinine equation (no ethnicity) https://www.niddk.nih.gov/research-funding/research-programs/kidney-clinical-research-epidemiology/laboratory/glomerular-filtration-rate-equations/adults https://pubmed-ncbi-nlm-nih-gov.ezproxy.auckland.ac.nz/34554658/\n",
    "- Creatinine (f 30700) comes as  umol/L, needs to be converted to mg/dL"
   ]
  },
  {
   "cell_type": "code",
   "execution_count": null,
   "id": "57a75d22-a61e-484a-97fb-495de03c6547",
   "metadata": {},
   "outputs": [],
   "source": [
    "merged_df['serum_creatinine_mgdl'] = merged_df['f.30700.0.0'] * 0.0113"
   ]
  },
  {
   "cell_type": "code",
   "execution_count": null,
   "id": "35f5670c-bff6-43b7-8721-f28d0a8b15a4",
   "metadata": {},
   "outputs": [],
   "source": [
    "# Male\n",
    "\n",
    "is_male = merged_df[merged_df['Sex'] == 1]\n",
    "s_cr = is_male['serum_creatinine_mgdl']\n",
    "age = is_male['Age at initial assesement']\n",
    "\n",
    "K = 0.9\n",
    "a = -0.302\n",
    "\n",
    "ones_arr = np.ones(len(is_male))\n",
    "eGFR_male = 142 * np.minimum(s_cr / K, ones_arr) ** a * np.maximum(s_cr / K, ones_arr) ** -1.200 * 0.9938 ** age"
   ]
  },
  {
   "cell_type": "code",
   "execution_count": null,
   "id": "0872c242-d354-4722-8b35-4a36809f3cdc",
   "metadata": {},
   "outputs": [],
   "source": [
    "# Female\n",
    "\n",
    "is_female = merged_df[merged_df['Sex'] == 0]\n",
    "s_cr = is_female['serum_creatinine_mgdl']\n",
    "age = is_female['Age at initial assesement']\n",
    "\n",
    "K = 0.7\n",
    "a = -0.241\n",
    "\n",
    "ones_arr = np.ones(len(is_female))\n",
    "eGFR_female = 142 * np.minimum(s_cr / K, ones_arr) ** a * np.maximum(s_cr / K, ones_arr) ** -1.200 * 0.9938 ** age * 1.012"
   ]
  },
  {
   "cell_type": "code",
   "execution_count": null,
   "id": "d97177d8-f4dd-4e38-bac7-aaa311650436",
   "metadata": {},
   "outputs": [],
   "source": [
    "# Set\n",
    "\n",
    "merged_df['eGFR serum creatinine'] = np.nan\n",
    "merged_df.loc[is_male.index, 'eGFR serum creatinine'] = eGFR_male\n",
    "merged_df.loc[is_female.index, 'eGFR serum creatinine'] = eGFR_female"
   ]
  },
  {
   "cell_type": "markdown",
   "id": "5a56007f-456e-4c14-8bc6-e2632dab72d4",
   "metadata": {},
   "source": [
    "**Urinary albmin:creatinine ratio**\n",
    "- Unit: mg / mmol\n",
    "- Albumin (30500) is mg/L\n",
    "- CCreatinine (30510) is micromole/L\n"
   ]
  },
  {
   "cell_type": "code",
   "execution_count": null,
   "id": "8103c94d-a622-4853-b171-e687f340cd76",
   "metadata": {},
   "outputs": [],
   "source": [
    "# Unit conversion, creatinine from micromole/L to mmol/L\n",
    "\n",
    "merged_df['urine_creatinine_mmol'] = merged_df['f.30510.0.0'] / 1000"
   ]
  },
  {
   "cell_type": "code",
   "execution_count": null,
   "id": "237286db-7047-44b7-852c-c37f5c1d5e15",
   "metadata": {},
   "outputs": [],
   "source": [
    "# Set patients with undetectable albumin <6.7 mg/L to 6.7 mg/L\n",
    "\n",
    "undetectable_albumin_mask = merged_df['f.30505.0.0'] == '<6.7' # below 6.7 mg/L\n",
    "merged_df['urine_albumin'] = merged_df['f.30500.0.0']\n",
    "merged_df.loc[undetectable_albumin_mask, 'urine_albumin'] = 6.7"
   ]
  },
  {
   "cell_type": "code",
   "execution_count": null,
   "id": "0f73e33d-f113-4594-a207-e9cdd708baf9",
   "metadata": {},
   "outputs": [],
   "source": [
    "# ACR, unit mg/mmol\n",
    "\n",
    "merged_df['Albumin-creatinine ratio'] = merged_df['urine_albumin'] / merged_df['urine_creatinine_mmol']"
   ]
  },
  {
   "cell_type": "markdown",
   "id": "a3198f03-f2a8-4fff-9ad0-93580aa07d24",
   "metadata": {},
   "source": [
    "# Lifestyle data processing"
   ]
  },
  {
   "cell_type": "markdown",
   "id": "4dcf8849-79f4-4649-b65a-fd782835669e",
   "metadata": {},
   "source": [
    "### Healthy diet score\n",
    "\n",
    "Adapted from Lourida et al., 2019 (https://pubmed.ncbi.nlm.nih.gov/31302669/)\n",
    "\n",
    "1 point per 7 areas of diet"
   ]
  },
  {
   "cell_type": "code",
   "execution_count": null,
   "id": "6d987751-936c-4aa0-85d2-a707b2fc6ea5",
   "metadata": {},
   "outputs": [],
   "source": [
    "def code_numerical_intake_column(df, input_column, output_column):\n",
    "    # Codes special value -10 (<1 serving/day) as 0.5\n",
    "    # Codes responses of -3 or -1 as NA\n",
    "    df[output_column] = df[input_column]\n",
    "    low_val = df[input_column].eq(-10)  # <1 serving/day, treat as 0.5\n",
    "    decline = df[input_column].isin([-1, -3])\n",
    "    df.loc[low_val, output_column] = 0.5\n",
    "    df.loc[decline, output_column] = np.nan"
   ]
  },
  {
   "cell_type": "code",
   "execution_count": null,
   "id": "feaf5b53-cfab-4675-af03-9afe9145bdc4",
   "metadata": {},
   "outputs": [],
   "source": [
    "### Fruit intake score\n",
    "# To get the point: >= 3 servings/day\n",
    "\n",
    "# Recode fresh fruit intake for invalid values\n",
    "code_numerical_intake_column(merged_df, 'f.1309.0.0', 'fresh_fruit_intake')\n",
    "\n",
    "# Recode dried fruit intake for invalid values\n",
    "code_numerical_intake_column(merged_df, 'f.1319.0.0', 'dried_fruit_intake')\n",
    "\n",
    "# Define score\n",
    "merged_df['diet_score_fruit_component'] = (merged_df[['fresh_fruit_intake', 'dried_fruit_intake']].sum(skipna=False, axis=1) >= 3).astype(int)\n",
    "\n",
    "# Preserve na values\n",
    "merged_df.loc[merged_df['fresh_fruit_intake'].isna() == True, 'diet_score_fruit_component'] = np.nan\n",
    "merged_df.loc[merged_df['dried_fruit_intake'].isna() == True, 'diet_score_fruit_component'] = np.nan"
   ]
  },
  {
   "cell_type": "code",
   "execution_count": null,
   "id": "4b5070e3-f073-4271-af01-05b7c17cc234",
   "metadata": {},
   "outputs": [],
   "source": [
    "### Vegetable intake score\n",
    "# To get the point: >= 3 servings/day\n",
    "\n",
    "# Recode cooked vege intake for invalid values\n",
    "code_numerical_intake_column(merged_df, 'f.1289.0.0', 'cooked_vegetable_intake')\n",
    "\n",
    "# Recode dried fruit intake for invalid values\n",
    "code_numerical_intake_column(merged_df, 'f.1299.0.0', 'raw_vegetable_intake')\n",
    "\n",
    "# Define score\n",
    "merged_df['diet_score_vegetable_component'] = (merged_df[['cooked_vegetable_intake', 'raw_vegetable_intake']].sum(skipna=False, axis=1) >= 3).astype(int)\n",
    "\n",
    "# Preserve na values\n",
    "merged_df.loc[merged_df['cooked_vegetable_intake'].isna() == True, 'diet_score_vegetable_component'] = np.nan\n",
    "merged_df.loc[merged_df['raw_vegetable_intake'].isna() == True, 'diet_score_vegetable_component'] = np.nan"
   ]
  },
  {
   "cell_type": "code",
   "execution_count": null,
   "id": "ef7a12d1-25b9-4691-a842-56d21b37e190",
   "metadata": {},
   "outputs": [],
   "source": [
    "### Fish intake score\n",
    "# To get the point: >=2 servings/week\n",
    "\n",
    "# Coding for oily fish and non-oily fish individually:\n",
    "# 0 if never\n",
    "# 0.5 if <1 per week\n",
    "# 1 if once per week\n",
    "# 2 if 2-4 times a week or more\n",
    "\n",
    "# Code oily fish\n",
    "merged_df['oily_fish_intake_group'] = merged_df['f.1329.0.0'].replace({\n",
    "    -1: np.nan, # do not know\n",
    "    -3: np.nan, # prefer not to answer\n",
    "    \n",
    "    # 0: Never / <1 per week\n",
    "    0: 0, # never\n",
    "\n",
    "    # 0.5:  <1 per week\n",
    "    1: 0.5, # <1 once per week\n",
    "\n",
    "    # 1: Once a week\n",
    "    2: 1,\n",
    "\n",
    "    # 2: >= 2-4 times a week\n",
    "    3: 2, # 2-4 a week\n",
    "    4: 2, # 5-6 a week\n",
    "    5: 2, # once or more daily\n",
    "})\n",
    "\n",
    "# Code non-oily fish\n",
    "merged_df['non_oily_fish_intake_group'] = merged_df['f.1339.0.0'].replace({\n",
    "    -1: np.nan, # do not know\n",
    "    -3: np.nan, # prefer not to answer\n",
    "    \n",
    "    # 0: Never\n",
    "    0: 0, # never\n",
    "\n",
    "    # 0.5:  <1 per week\n",
    "    1: 0.5, # <1 once per week\n",
    "\n",
    "    # 1: Once a week\n",
    "    2: 1,\n",
    "\n",
    "    # 2: >= 2-4 times a week\n",
    "    3: 2, # 2-4 a week\n",
    "    4: 2, # 5-6 a week\n",
    "    5: 2, # once or more daily\n",
    "})\n",
    "\n",
    "\n",
    "# Define score\n",
    "merged_df['diet_score_fish_component'] = (merged_df[['oily_fish_intake_group', 'non_oily_fish_intake_group']].sum(skipna=False, axis=1) >= 2).astype(int)\n",
    "\n",
    "# Preserve na values\n",
    "merged_df.loc[merged_df['oily_fish_intake_group'].isna() == True, 'diet_score_fish_component'] = np.nan\n",
    "merged_df.loc[merged_df['non_oily_fish_intake_group'].isna() == True, 'diet_score_fish_component'] = np.nan"
   ]
  },
  {
   "cell_type": "code",
   "execution_count": null,
   "id": "02ac95ef-7c28-439b-8a36-b1e323ba16dd",
   "metadata": {},
   "outputs": [],
   "source": [
    "### Processed meat intake score\n",
    "# To get the point: <=1 serving/week\n",
    "\n",
    "# Define score\n",
    "# (0 = never, 1 = less than once/week, 2 = once a week)\n",
    "merged_df['diet_score_processed_meat_component'] = merged_df['f.1349.0.0'].isin([0, 1, 2]).astype(int)\n",
    "\n",
    "# Preserve na values\n",
    "merged_df.loc[merged_df['f.1349.0.0'].isna() == True, 'diet_score_processed_meat_component'] = np.nan\n",
    "merged_df.loc[merged_df['f.1349.0.0'].isin([-1, -3]), 'diet_score_processed_meat_component'] = np.nan"
   ]
  },
  {
   "cell_type": "code",
   "execution_count": null,
   "id": "30342e3b-fdf0-4001-b8bb-58c2c1d83bd3",
   "metadata": {},
   "outputs": [],
   "source": [
    "### Unprocessed red meat intake score\n",
    "# To get the point: <=1.5 servings/week\n",
    "# (beef, lamb/mutton, pork)\n",
    "\n",
    "# Code \"less than once a week\" as 0.5 in this instance\n",
    "\n",
    "# Coding for each meat intake type:\n",
    "# 0 if never\n",
    "# 0.5 if <1 once per week\n",
    "# 1 if once per week\n",
    "# 2 if 2-4 times a week or more\n",
    "\n",
    "# Code beef intake\n",
    "merged_df['beef_intake_group'] = merged_df['f.1369.0.0'].replace({\n",
    "    -1: np.nan, # do not know\n",
    "    -3: np.nan, # prefer not to answer\n",
    "    \n",
    "    # 0: Never\n",
    "    0: 0, # never\n",
    "\n",
    "    # 0.5: <1 once per week\n",
    "    1: 0.5, # <1 once per week\n",
    "\n",
    "    # 1: Once a week\n",
    "    2: 1,\n",
    "\n",
    "    # 2: >= 2-4 times a week\n",
    "    3: 2, # 2-4 a week\n",
    "    4: 2, # 5-6 a week\n",
    "    5: 2, # once or more daily\n",
    "})\n",
    "\n",
    "\n",
    "# Code lamb/mutton intake\n",
    "merged_df['lamb_intake_group'] = merged_df['f.1379.0.0'].replace({\n",
    "    -1: np.nan, # do not know\n",
    "    -3: np.nan, # prefer not to answer\n",
    "    \n",
    "    # 0: Never\n",
    "    0: 0, # never\n",
    "\n",
    "    # 0.5: <1 once per week\n",
    "    1: 0.5, # <1 once per week\n",
    "\n",
    "    # 1: Once a week\n",
    "    2: 1,\n",
    "\n",
    "    # 2: >= 2-4 times a week\n",
    "    3: 2, # 2-4 a week\n",
    "    4: 2, # 5-6 a week\n",
    "    5: 2, # once or more daily\n",
    "})\n",
    "\n",
    "# Code pork intake\n",
    "merged_df['pork_intake_group'] = merged_df['f.1389.0.0'].replace({\n",
    "    -1: np.nan, # do not know\n",
    "    -3: np.nan, # prefer not to answer\n",
    "    \n",
    "    # 0: Never\n",
    "    0: 0, # never\n",
    "\n",
    "    # 0.5: <1 once per week\n",
    "    1: 0.5, # <1 once per week\n",
    "\n",
    "    # 1: Once a week\n",
    "    2: 1,\n",
    "\n",
    "    # 2: >= 2-4 times a week\n",
    "    3: 2, # 2-4 a week\n",
    "    4: 2, # 5-6 a week\n",
    "    5: 2, # once or more daily\n",
    "})\n",
    "\n",
    "\n",
    "# Define score\n",
    "merged_df['diet_score_red_meat_component'] = (merged_df[['beef_intake_group', 'lamb_intake_group', 'pork_intake_group']].sum(skipna=False, axis=1) <= 1.5).astype(int)\n",
    "\n",
    "# Preserve na values\n",
    "merged_df.loc[merged_df['beef_intake_group'].isna() == True, 'diet_score_red_meat_component'] = np.nan\n",
    "merged_df.loc[merged_df['lamb_intake_group'].isna() == True, 'diet_score_red_meat_component'] = np.nan\n",
    "merged_df.loc[merged_df['pork_intake_group'].isna() == True, 'diet_score_red_meat_component'] = np.nan\n",
    "\n"
   ]
  },
  {
   "cell_type": "code",
   "execution_count": null,
   "id": "3b954d00-a34b-4e7b-9047-8065e3a541b2",
   "metadata": {},
   "outputs": [],
   "source": [
    "### Grains scores\n",
    "\n",
    "# Set defaults\n",
    "merged_df['whole_grains_servings_daily'] = np.nan\n",
    "merged_df['refined_grains_servings_daily'] = np.nan\n",
    "\n",
    "## Handle bread\n",
    "\n",
    "# Bread intake\n",
    "code_numerical_intake_column(merged_df, 'f.1438.0.0', 'bread_intake_weekly')\n",
    "\n",
    "# Bread type\n",
    "# Bread type not collected from those who specified no bread\n",
    "bread_whole = merged_df['f.1448.0.0'].isin([3]) # Wholemeal\n",
    "bread_refined = merged_df['f.1448.0.0'].isin([1, 2, 4]) # White, Brown, Other\n",
    "bread_decline =  merged_df['f.1448.0.0'].isin([-1, -3])\n",
    "\n",
    "# Whole grain servings from bread\n",
    "merged_df.loc[bread_whole, 'whole_grains_servings_daily'] = merged_df.loc[bread_whole, 'bread_intake_weekly'] / 7\n",
    "\n",
    "# Refined grain servings from bread\n",
    "merged_df.loc[bread_refined, 'refined_grains_servings_daily'] = merged_df.loc[bread_refined, 'bread_intake_weekly'] / 7\n",
    "\n",
    "\n",
    "## Handle cereals\n",
    "\n",
    "# Cereal intake\n",
    "code_numerical_intake_column(merged_df, 'f.1458.0.0', 'cereal_intake_weekly')\n",
    "merged_df['cereal_intake_daily'] = merged_df['cereal_intake_weekly'] / 7\n",
    "\n",
    "# Cereal type\n",
    "# Cereal type not collected from those who specified no bread\n",
    "cereal_whole = merged_df['f.1468.0.0'].isin([1, 2, 3, 4]) # Bran, biscuit, oat, muesli\n",
    "cereal_refined = merged_df['f.1468.0.0'].eq(5) # Other (e.g. cornflakes)\n",
    "cereal_decline =  merged_df['f.1468.0.0'].isin([-1, -3])\n",
    "\n",
    "# Whole grain servings from cereal\n",
    "merged_df.loc[cereal_whole, 'whole_grains_servings_daily'] = merged_df[cereal_whole][['whole_grains_servings_daily', 'cereal_intake_daily']].sum(axis=1, skipna=True)\n",
    "\n",
    "# Refined grain servings from cereal\n",
    "merged_df.loc[cereal_refined, 'refined_grains_servings_daily'] = merged_df[cereal_refined][['refined_grains_servings_daily', 'cereal_intake_daily']].sum(axis=1, skipna=True)\n",
    "\n",
    "\n",
    "## Define scores\n",
    "\n",
    "# Define whole grain score\n",
    "# To get the point: >= 3 servings/day\n",
    "merged_df['diet_score_whole_grains_component'] = (merged_df['whole_grains_servings_daily'] >= 3).astype(int)\n",
    "\n",
    "# Define refined grain score\n",
    "# To get the point: <= 1.5 servings/day\n",
    "merged_df['diet_score_refined_grains_component'] = (merged_df['refined_grains_servings_daily'] <= 1.5).astype(int)\n",
    "\n",
    "# Preserve na values\n",
    "# Set both scores to NA if we are unsure of either their cereal or bread intake amount, or if declined to answer bread/cereal type\n",
    "merged_df.loc[merged_df['bread_intake_weekly'].isna() == True, 'diet_score_whole_grains_component'] = np.nan\n",
    "merged_df.loc[merged_df['bread_intake_weekly'].isna() == True, 'diet_score_refined_grains_component'] = np.nan\n",
    "merged_df.loc[merged_df['cereal_intake_weekly'].isna() == True, 'diet_score_whole_grains_component'] = np.nan\n",
    "merged_df.loc[merged_df['cereal_intake_weekly'].isna() == True, 'diet_score_refined_grains_component'] = np.nan\n",
    "merged_df.loc[bread_decline | cereal_decline, 'diet_score_whole_grains_component'] = np.nan\n",
    "merged_df.loc[bread_decline | cereal_decline, 'diet_score_refined_grains_component'] = np.nan"
   ]
  },
  {
   "cell_type": "code",
   "execution_count": null,
   "id": "83bec525-2ef9-46fe-9031-bee2d7aa8b85",
   "metadata": {},
   "outputs": [],
   "source": [
    "### Combined diet score\n",
    "\n",
    "merged_df['Diet score'] = merged_df[[\n",
    "    'diet_score_fruit_component',\n",
    "    'diet_score_vegetable_component',\n",
    "    'diet_score_fish_component',\n",
    "    'diet_score_processed_meat_component',\n",
    "    'diet_score_red_meat_component',\n",
    "    'diet_score_whole_grains_component',\n",
    "    'diet_score_refined_grains_component'\n",
    "]].sum(axis=1, skipna=False)"
   ]
  },
  {
   "cell_type": "code",
   "execution_count": null,
   "id": "9a494eea-d8a6-41e9-8378-6681a2ce7dd2",
   "metadata": {},
   "outputs": [],
   "source": [
    "# Save diet score (for future research group use)\n",
    "\n",
    "merged_df[['f.eid', 'Diet score']].to_csv('./data/derived/ukbb_diet_score_Lourida_et_al_2019.tsv', sep='\\t', index=False)"
   ]
  },
  {
   "cell_type": "markdown",
   "id": "0d7e8829-ade2-4baf-95ce-af30b03d2bc0",
   "metadata": {},
   "source": [
    "### Supplements"
   ]
  },
  {
   "cell_type": "code",
   "execution_count": null,
   "id": "0c348940-5431-48cc-8a9e-155f59500c84",
   "metadata": {},
   "outputs": [],
   "source": [
    "# Vitamin C, multivtamin supplementation (f 6155)\n",
    "\n",
    "f_6155_cols = merged_df.columns[merged_df.columns.str.startswith('f.6155.0.')]\n",
    "f_6155_na_mask = (merged_df['f.6155.0.0'].eq(-3)) | (merged_df['f.6155.0.0'].isna() == True)\n",
    "\n",
    "# Vitamin C supplementation\n",
    "merged_df['Vitamin C supplementation'] = merged_df[f_6155_cols].eq(3).any(axis=1).astype(int)\n",
    "merged_df.loc[f_6155_na_mask, 'Vitamin C supplementation'] = np.nan # process NA\n",
    "\n",
    "# Multivitamin\n",
    "merged_df['Multivitamin supplementation'] = merged_df[f_6155_cols].eq(7).any(axis=1).astype(int)\n",
    "merged_df.loc[f_6155_na_mask, 'Multivitamin supplementation'] = np.nan # process NA"
   ]
  },
  {
   "cell_type": "code",
   "execution_count": null,
   "id": "9ce6a8ee-55ff-4a3d-9685-522eaf5288a1",
   "metadata": {},
   "outputs": [],
   "source": [
    "## Glucosamine, iron, selenium, calcium (f 6179)\n",
    "\n",
    "f_6179_cols = merged_df.columns[merged_df.columns.str.startswith('f.6179.0.')]\n",
    "f_6179_na_mask = (merged_df['f.6179.0.0'].eq(-3)) | (merged_df['f.6179.0.0'].isna() == True)\n",
    "\n",
    "# Glucosamine supplementation\n",
    "merged_df['Glucosamine supplementation'] = merged_df[f_6179_cols].eq(2).any(axis=1).astype(int)\n",
    "merged_df.loc[f_6179_na_mask, 'Glucosamine supplementation'] = np.nan # process NA\n",
    "\n",
    "# Iron supplementation\n",
    "merged_df['Iron supplementation'] = merged_df[f_6179_cols].eq(5).any(axis=1).astype(int)\n",
    "merged_df.loc[f_6179_na_mask, 'Iron supplementation'] = np.nan # process NA\n",
    "\n",
    "# Selenium supplementation\n",
    "merged_df['Selenium supplementation'] = merged_df[f_6179_cols].eq(6).any(axis=1).astype(int)\n",
    "merged_df.loc[f_6179_na_mask, 'Selenium supplementation'] = np.nan # process NA\n",
    "\n",
    "# Calcium supplementation\n",
    "merged_df['Calcium supplementation'] = merged_df[f_6179_cols].eq(3).any(axis=1).astype(int)\n",
    "merged_df.loc[f_6179_na_mask, 'Calcium supplementation'] = np.nan # process NA"
   ]
  },
  {
   "cell_type": "markdown",
   "id": "12ea806f-a875-407b-9db3-a3a2093e2924",
   "metadata": {},
   "source": [
    "### Salt consumption"
   ]
  },
  {
   "cell_type": "markdown",
   "id": "279c809c-4c3b-4977-b0d0-c66059c05192",
   "metadata": {},
   "source": [
    "**Self-reported salt added to food**"
   ]
  },
  {
   "cell_type": "code",
   "execution_count": null,
   "id": "578cfe3c-a2d1-4a03-8938-33d2aa9b270a",
   "metadata": {},
   "outputs": [],
   "source": [
    "# Self-report: salt added to food\n",
    "# Ordinal\n",
    "# 0 = never/rarely, 1 = sometimes, 2 = usually, 3 = always\n",
    "\n",
    "merged_df['Salt added to food'] = merged_df['f.1478.0.0'].replace({\n",
    "    -3: np.nan, # prefer not to answer\n",
    "    1: 0, # never/rarely\n",
    "    2: 1, # sometimes\n",
    "    3: 2, # usually\n",
    "    4: 3, # always\n",
    "})"
   ]
  },
  {
   "cell_type": "markdown",
   "id": "ef81eb4b-fa33-4387-b2f9-79b68140565a",
   "metadata": {},
   "source": [
    "**Urinary Na+ excretion**\n",
    "\n",
    "- Sodium consumption estimated by urine sodium:creatinine ratio (UNa:Cr)\n",
    "- See Stuart et al., 2024 (https://pubmed.ncbi.nlm.nih.gov/38723778/). Shown to correlate with 24-hour sodium intake by dietary recall\n",
    "- \"In a steady state, renal excretion of creatinine remains relatively constant, and the urinary creatinine concentration therefore provides a measure of the state of dilution or concentration of the urine. This approach is widely used to estimate 24-hour excretion of sodium and other analytes, such as albumin and catecholamines, from spot urine samples.\""
   ]
  },
  {
   "cell_type": "code",
   "execution_count": null,
   "id": "232bbb6b-d3a8-4599-b1c7-5e3383e80836",
   "metadata": {},
   "outputs": [],
   "source": [
    "## UNa:Cr\n",
    "\n",
    "# Use units mmol:mmol\n",
    "# Converting creatinine to mmol -> divide by 1000\n",
    "# Sodium in urine, f 30530: mmol\n",
    "# Creatinine in urine, f 30510: micromole/L\n",
    "\n",
    "merged_df['Urinary sodium-creatinine ratio'] = merged_df['f.30530.0.0'] / (merged_df['f.30510.0.0'] / 1000)"
   ]
  },
  {
   "cell_type": "markdown",
   "id": "f90d4d8c-375d-4ea2-aad7-0fbc055f98fa",
   "metadata": {},
   "source": [
    "### BMI"
   ]
  },
  {
   "cell_type": "code",
   "execution_count": null,
   "id": "68e69bc1-3e9d-46eb-ae9b-e44cad06a509",
   "metadata": {},
   "outputs": [],
   "source": [
    "merged_df['Body mass index'] = merged_df['f.21001.0.0']"
   ]
  },
  {
   "cell_type": "markdown",
   "id": "eb065948-6959-421a-a649-66d1f506b34f",
   "metadata": {},
   "source": [
    "### Vitamin D"
   ]
  },
  {
   "cell_type": "code",
   "execution_count": null,
   "id": "b8d13842-6b9b-4185-b179-b20cb66527d9",
   "metadata": {},
   "outputs": [],
   "source": [
    "merged_df['Plasma Vitamin D'] = merged_df['f.30890.0.0']"
   ]
  },
  {
   "cell_type": "markdown",
   "id": "22fec982-488e-4198-83f0-b8fd261f3d53",
   "metadata": {},
   "source": [
    "### Exercise\n",
    "\n",
    "Final variable of interest: `summed_MET_mins_weekly`\n",
    "\n",
    "Following IPAQ guidelines: https://biobank.ndph.ox.ac.uk/ukb/ukb/docs/ipaq_analysis.pdf\n",
    "\n",
    "This brings the derived MET scores to the equivalent to what is found in the UKBB showcase (https://biobank.ndph.ox.ac.uk/ukb/label.cgi?id=54). The measures available in our datafile are outdated as of June 2023 (see https://biobank.ndph.ox.ac.uk/ukb/refer.cgi?id=2401)\n",
    "\n",
    "Note: exclusions only removed/processed for summary variable, `summed_MET_mins_weekly`. Individual MET scores for walking/moderate/vigorous have not been processed for exclusions and should not be used."
   ]
  },
  {
   "cell_type": "code",
   "execution_count": null,
   "id": "82db6eb6-7a38-4ca1-90e1-8aa8c8eb1459",
   "metadata": {},
   "outputs": [],
   "source": [
    "# Walking METs\n",
    "\n",
    "# Truncate duration to 180 mins\n",
    "walking_duration_truncated = merged_df['f.874.0.0'].clip(lower=None, upper=180, inplace=False)\n",
    "\n",
    "# Set METs\n",
    "merged_df['walking_MET_mins_weekly_custom'] = merged_df['f.864.0.0'] * walking_duration_truncated * 3.3\n",
    "\n",
    "# Special conditions\n",
    "walking_days_week_none = merged_df['f.864.0.0'].eq(0) # no walking\n",
    "merged_df.loc[walking_days_week_none, 'walking_MET_mins_weekly_custom'] = 0 # otherwise NA, as f.874 is missing\n",
    "\n",
    "walking_days_week_unable = merged_df['f.864.0.0'].eq(-2) # cannot walk - treat this as 0 days as per UKBB\n",
    "merged_df.loc[walking_days_week_unable, 'walking_MET_mins_weekly_custom'] = 0 # treat unable as 0 days as per UKBB\n",
    "\n",
    "walking_duration_low = merged_df['f.874.0.0'] < 10 \n",
    "merged_df.loc[walking_duration_low, 'walking_MET_mins_weekly_custom'] = 0 # treat <10mins as none"
   ]
  },
  {
   "cell_type": "code",
   "execution_count": null,
   "id": "19c5afdb-c73c-42cd-bda5-83e7c14baf06",
   "metadata": {},
   "outputs": [],
   "source": [
    "# Moderate activity METs\n",
    "\n",
    "# Truncate duration to 180 mins\n",
    "mod_duration_truncated = merged_df['f.894.0.0'].clip(lower=None, upper=180, inplace=False)\n",
    "\n",
    "# Set METs\n",
    "merged_df['moderate_activity_MET_mins_weekly_custom'] = merged_df['f.884.0.0'] * mod_duration_truncated * 4\n",
    "\n",
    "# Special conditions\n",
    "moderate_days_week_none = merged_df['f.884.0.0'].eq(0) # no moderate exercise\n",
    "merged_df.loc[moderate_days_week_none, 'moderate_activity_MET_mins_weekly_custom'] = 0 # otherwise NA, as f.894 missing\n",
    "\n",
    "moderate_duration_low = merged_df['f.894.0.0'] < 10\n",
    "merged_df.loc[moderate_duration_low, 'moderate_activity_MET_mins_weekly_custom'] = 0 # treat <10mins as none"
   ]
  },
  {
   "cell_type": "code",
   "execution_count": null,
   "id": "d566c40a-7bb1-41d6-a1c2-9a7f06411e44",
   "metadata": {},
   "outputs": [],
   "source": [
    "# Vigorous activity METs\n",
    "\n",
    "# Truncate duration to 180 mins\n",
    "vig_duration_truncated = merged_df['f.914.0.0'].clip(lower=None, upper=180, inplace=False)\n",
    "\n",
    "# Set\n",
    "merged_df['vigorous_activity_MET_mins_weekly_custom'] = merged_df['f.904.0.0'] * vig_duration_truncated * 8\n",
    "\n",
    "# Special conditions\n",
    "vigorous_days_week_none = merged_df['f.904.0.0'].eq(0) # no vigorous exercise\n",
    "merged_df.loc[vigorous_days_week_none, 'vigorous_activity_MET_mins_weekly_custom'] = 0 # otherwise NA, as f.914 missing\n",
    "\n",
    "vigorous_duration_low = merged_df['f.914.0.0'] < 10\n",
    "merged_df.loc[vigorous_duration_low, 'vigorous_activity_MET_mins_weekly_custom'] = 0 # treat <10mins as none"
   ]
  },
  {
   "cell_type": "code",
   "execution_count": null,
   "id": "6da5327b-12d2-4802-a1cf-d7470dc6d16c",
   "metadata": {},
   "outputs": [],
   "source": [
    "# Exclusions\n",
    "\n",
    "# Declined walking, days or duration\n",
    "walking_days_week_decline = merged_df['f.864.0.0'].isin([-1, -3])\n",
    "walking_duration_decline = merged_df['f.874.0.0'].isin([-1, -3])\n",
    "\n",
    "# Declined moderate activity, days or duration\n",
    "moderate_days_week_decline = merged_df['f.884.0.0'].isin([-1, -3])\n",
    "moderate_duration_decline = merged_df['f.894.0.0'].isin([-1, -3])\n",
    "\n",
    "# Declined vigorous activity, days or duration\n",
    "vigorous_days_week_decline = merged_df['f.904.0.0'].isin([-1, -3])\n",
    "vigorous_duration_decline = merged_df['f.914.0.0'].isin([-1, -3])\n",
    "\n",
    "# Summarise declines\n",
    "activity_decline_exclusion = (\n",
    "    walking_days_week_decline | walking_duration_decline\n",
    "    | moderate_days_week_decline | moderate_duration_decline\n",
    "    | vigorous_days_week_decline | vigorous_duration_decline\n",
    ")\n",
    "\n",
    "# Above maximum value of 960 minutes / 16hr across all exercise, per day\n",
    "total_duration_exclusion = merged_df[['f.874.0.0', 'f.894.0.0', 'f.914.0.0']].sum(axis=1) > 960"
   ]
  },
  {
   "cell_type": "code",
   "execution_count": null,
   "id": "3fc0d15e-d7b1-40b8-a481-fd1f235a5d42",
   "metadata": {},
   "outputs": [],
   "source": [
    "# Sum METs\n",
    "\n",
    "merged_df['Exercise (summed MET minutes per week)'] = merged_df[['walking_MET_mins_weekly_custom', 'moderate_activity_MET_mins_weekly_custom', 'vigorous_activity_MET_mins_weekly_custom']].sum(skipna=False, axis=1)\n",
    "\n",
    "# Remove exclusions\n",
    "merged_df.loc[activity_decline_exclusion, 'Exercise (summed MET minutes per week)'] = np.nan\n",
    "merged_df.loc[total_duration_exclusion, 'Exercise (summed MET minutes per week)'] = np.nan"
   ]
  },
  {
   "cell_type": "markdown",
   "id": "98b055ca-b7a8-4a4a-920d-56f21a5a7fad",
   "metadata": {},
   "source": [
    "**Strenuous sports**"
   ]
  },
  {
   "cell_type": "code",
   "execution_count": null,
   "id": "5724adff-edb9-45a1-baff-496bf57f3ed4",
   "metadata": {},
   "outputs": [],
   "source": [
    "# Performs strenous sports\n",
    "\n",
    "f_6164_cols = merged_df.columns[merged_df.columns.str.startswith('f.6164.0')]\n",
    "f_6164_na = (merged_df['f.6164.0.0'].isna() == True) | (merged_df['f.6164.0.0'].eq(-3))\n",
    "\n",
    "merged_df['Strenuous sports'] = merged_df[f_6164_cols].eq(3).any(axis=1).astype(int)\n",
    "merged_df.loc[f_6164_na, 'Strenuous sports'] = np.nan # process NA"
   ]
  },
  {
   "cell_type": "code",
   "execution_count": null,
   "id": "f9545c20-61e7-45f6-b66a-a9a438233945",
   "metadata": {},
   "outputs": [],
   "source": [
    "# Duration of strenous sports (ordinal)\n",
    "# 0 if not performed\n",
    "\n",
    "# Default coding:\n",
    "# 1\tLess than 15 minutes\n",
    "# 2\tBetween 15 and 30 minutes\n",
    "# 3\tBetween 30 minutes and 1 hour\n",
    "# 4\tBetween 1 and 1.5 hours\n",
    "# 5\tBetween 1.5 and 2 hours\n",
    "# 6\tBetween 2 and 3 hours\n",
    "# 7\tOver 3 hours\n",
    "# -1\tDo not know\n",
    "# -3\tPrefer not to answer\n",
    "\n",
    "no_strenuous_sports = merged_df['Strenuous sports'] == 0\n",
    "\n",
    "f_1001_na = merged_df['f.1001.0.0'].isin([-1, -3])\n",
    "merged_df['Duration of strenous sports'] = merged_df['f.1001.0.0']\n",
    "merged_df.loc[no_strenuous_sports, 'Duration of strenous sports'] = 0\n",
    "merged_df.loc[f_1001_na, 'Duration of strenous sports'] = np.nan"
   ]
  },
  {
   "cell_type": "markdown",
   "id": "af5abf50-1e93-4f5c-b882-ce0e200ba2bb",
   "metadata": {},
   "source": [
    "### Coffee & tea"
   ]
  },
  {
   "cell_type": "code",
   "execution_count": null,
   "id": "ece5a274-5b8e-40bc-a885-1ed5ae5490a7",
   "metadata": {},
   "outputs": [],
   "source": [
    "### Caffeinated coffee consumption\n",
    "# `caffeinated_coffee_drinker`: binary variable\n",
    "\n",
    "# Field 1498 (coffee cups/d) is unavailable / not downloaded\n",
    "# Therefore, use 1508 (coffee type) instead\n",
    "# If 1508 is missing, assume because they did not drink coffee in response to 1498 (as per UKB showcase notes for https://biobank.ndph.ox.ac.uk/showcase/field.cgi?id=1508)\n",
    "\n",
    "coffee_type_missing_mask = merged_df['f.1508.0.0'].isna() == True\n",
    "coffee_type_na_mask = merged_df['f.1508.0.0'].isin([-1, -3]) # decline to answer\n",
    "\n",
    "merged_df['Caffeinated coffee drinker'] = merged_df['f.1508.0.0'].isin([2, 3, 4]).astype(int) # instant, ground, other (i.e., not decaf)\n",
    "merged_df.loc[coffee_type_missing_mask, 'Caffeinated coffee drinker'] = 0  # assume do not drink coffee\n",
    "merged_df.loc[coffee_type_na_mask, 'Caffeinated coffee drinker'] = np.nan"
   ]
  },
  {
   "cell_type": "code",
   "execution_count": null,
   "id": "30404c8b-4995-4ddd-9155-8bf15cb5e9b9",
   "metadata": {},
   "outputs": [],
   "source": [
    "### Tea consumption\n",
    "# `tea_intake`: numerical\n",
    "\n",
    "# Special value of -10 for field 1488: \"Less than one\" -> code as 0.5 cusp/day\n",
    "# As zero was also an option\n",
    "\n",
    "tea_intake_na_mask = merged_df['f.1488.0.0'].isin([-1, -3]) # decline to answer\n",
    "tea_intake_below_one_mask = merged_df['f.1488.0.0'].eq(-10)\n",
    "\n",
    "merged_df['Tea intake'] = merged_df['f.1488.0.0']\n",
    "merged_df.loc[tea_intake_below_one_mask, 'Tea intake'] = 0.5\n",
    "merged_df.loc[tea_intake_na_mask, 'Tea intake'] = np.nan"
   ]
  },
  {
   "cell_type": "markdown",
   "id": "121e0977-06f2-4d89-ac40-b6b0d8bbda9d",
   "metadata": {},
   "source": [
    "### Alcohol"
   ]
  },
  {
   "cell_type": "code",
   "execution_count": null,
   "id": "94f8cdc3-387a-4783-8789-61aa36aaf778",
   "metadata": {},
   "outputs": [],
   "source": [
    "merged_df['Alcohol intake'] = merged_df['f.1558.0.0'].replace({\n",
    "    -3: np.nan, # decline to answer\n",
    "    6: 0, # never\n",
    "    5: 1, # special occasions\n",
    "    4: 2, # 1-3 times a month\n",
    "    3: 3, # 1-2 times a week\n",
    "    2: 4, # 3-4 times a week\n",
    "    1: 5, # daily or almost daily\n",
    "})"
   ]
  },
  {
   "cell_type": "markdown",
   "id": "15fe81ec-49c3-45ff-b657-a778e5058d32",
   "metadata": {},
   "source": [
    "### Smoking"
   ]
  },
  {
   "cell_type": "code",
   "execution_count": null,
   "id": "0e949232-257e-4c10-98e6-1e878f2c2324",
   "metadata": {},
   "outputs": [],
   "source": [
    "# Current tobacco smoking\n",
    "# Ordinal variable\n",
    "# 0 = no, 1 = occasionally, 2 = most/all days\n",
    "\n",
    "merged_df['Current smoking frequency'] = merged_df['f.1239.0.0'].replace({\n",
    "    -3: np.nan, # decline to answer\n",
    "    0: 0, # no\n",
    "    2: 1, # occasionally\n",
    "    1: 2, # most days\n",
    "})"
   ]
  },
  {
   "cell_type": "code",
   "execution_count": null,
   "id": "5df23af7-9628-4851-91d0-4aac2957b7df",
   "metadata": {},
   "outputs": [],
   "source": [
    "# Past tobacco smoking\n",
    "# Ordinal variable\n",
    "# 0 = no / tried once or twoce, 1 = occasionally, 2 = most or all days\n",
    "\n",
    "merged_df['Past smoking frequency'] = merged_df['f.1249.0.0'].replace({\n",
    "    -3: np.nan, # decline to answer\n",
    "    4: 0, # never\n",
    "    3: 0, # tried once or twice\n",
    "    2: 1, # occasionally\n",
    "    1: 2, # most days\n",
    "})"
   ]
  },
  {
   "cell_type": "markdown",
   "id": "6a676d90-d8e1-4bd0-a35b-8406343791ed",
   "metadata": {},
   "source": [
    "### Sleep"
   ]
  },
  {
   "cell_type": "code",
   "execution_count": null,
   "id": "2e7269eb-20b9-49a7-9d9a-038062c56e3d",
   "metadata": {},
   "outputs": [],
   "source": [
    "# Sleep duration\n",
    "# Numerical\n",
    "\n",
    "# Process NA values\n",
    "merged_df['sleep_duration_hours'] = merged_df['f.1160.0.0'].replace({\n",
    "    -1: np.nan, # do not know\n",
    "    -3: np.nan, # prefer not to answer\n",
    "})\n",
    "\n",
    "# One-hot encode as categorical variable\n",
    "# Normal sleep duration: ≥7 to <9 h/day (Sun et al., 2022 https://pubmed.ncbi.nlm.nih.gov/36319053/)\n",
    "merged_df['Normal sleep duration'] = ((merged_df['sleep_duration_hours'] >= 7) & (merged_df['sleep_duration_hours'] < 9)).astype(int)\n",
    "\n",
    "# Process NA\n",
    "merged_df.loc[merged_df['sleep_duration_hours'].isna() == True, 'Normal sleep duration'] = np.nan"
   ]
  },
  {
   "cell_type": "code",
   "execution_count": null,
   "id": "ce3b7c92-372a-4902-95bd-e8b24fc535a8",
   "metadata": {},
   "outputs": [],
   "source": [
    "# Insomnia\n",
    "# Ordinal variable\n",
    "# 0 = never/rarely, 1 = sometimes, 2 = usually\n",
    "\n",
    "merged_df['Insomnia frequency'] = merged_df['f.1200.0.0'].replace({\n",
    "    -3: np.nan, # decline to answer\n",
    "    1: 0, # never/rarely\n",
    "    2: 1, # sometimes\n",
    "    3: 2, # usually\n",
    "})"
   ]
  },
  {
   "cell_type": "code",
   "execution_count": null,
   "id": "ad7637d8-a3e6-4f97-9696-b8ee21d208e7",
   "metadata": {},
   "outputs": [],
   "source": [
    "# Snoring\n",
    "# Binary variable\n",
    "\n",
    "# ! Large number of do not know / prefer not to answer\n",
    "# Possibly due to wording: \"Does your partner or a close relative or friend complain about your snoring?\"\n",
    "\n",
    "merged_df['Snoring'] = merged_df['f.1210.0.0'].replace({\n",
    "    -1: np.nan, # do not know\n",
    "    -3: np.nan, # prefer not to answer\n",
    "    2: 0, # no\n",
    "    1: 1, # yes\n",
    "})"
   ]
  },
  {
   "cell_type": "code",
   "execution_count": null,
   "id": "2a0d0651-d923-46c7-a122-e1b5031e3ceb",
   "metadata": {
    "editable": true,
    "slideshow": {
     "slide_type": ""
    },
    "tags": []
   },
   "outputs": [],
   "source": [
    "# Daytime sleeping\n",
    "# Ordinal variable\n",
    "# 0 = never/rarely, 1 = sometimes, 2 = often / all the time\n",
    "\n",
    "# ! \"All the time\" was removed during study period, so small n., group together with often\n",
    "\n",
    "merged_df['Daytime sleeping frequency'] = merged_df['f.1220.0.0'].replace({\n",
    "    -1: np.nan, # do not know\n",
    "    -3: np.nan, # prefer not to answer\n",
    "    0: 0, # never/rarely\n",
    "    1: 1, # sometimes\n",
    "    2: 2, # often\n",
    "    3: 2, # all the time\n",
    "})"
   ]
  },
  {
   "cell_type": "markdown",
   "id": "ddd99e0f-ff20-41ae-be7c-ca788f61873b",
   "metadata": {},
   "source": [
    "# Load glaucoma, control, & exclusion variables"
   ]
  },
  {
   "cell_type": "code",
   "execution_count": null,
   "id": "35eec22f-119a-47d7-900e-459068eff49a",
   "metadata": {},
   "outputs": [],
   "source": [
    "glaucoma_prevalence_def_df = pd.read_table('/mnt/shared_folders/eResearch_glaucoma_project/emma_summer2023/william_glaucoma_def/glaucoma_defs_treated_diagnosed.txt').rename(columns={'Participant_ID':'f.eid'})"
   ]
  },
  {
   "cell_type": "code",
   "execution_count": null,
   "id": "02a2e15a-5e30-4f82-8c0a-102b0a216ab0",
   "metadata": {},
   "outputs": [],
   "source": [
    "exclusion_TUD = glaucoma_prevalence_def_df['glaucoma_final_def_limitedexclusions'] == 'Treated_Undiagnosed'\n",
    "exclusion_other = glaucoma_prevalence_def_df['glaucoma_final_def_limitedexclusions'].isna() == True\n",
    "exclusion_any = exclusion_TUD | exclusion_other"
   ]
  },
  {
   "cell_type": "code",
   "execution_count": null,
   "id": "553d848c-e40c-4b11-9b7a-705dda327c51",
   "metadata": {},
   "outputs": [],
   "source": [
    "glaucoma_prevalence_def_df['Exclusion'] = 0\n",
    "glaucoma_prevalence_def_df.loc[exclusion_any, 'Exclusion'] = 1"
   ]
  },
  {
   "cell_type": "code",
   "execution_count": null,
   "id": "38654ea5-c1ff-4978-83c7-84650ef1b4a0",
   "metadata": {},
   "outputs": [],
   "source": [
    "glaucoma_prevalence_def_df['Glaucoma (prevalent D|TD)'] = glaucoma_prevalence_def_df['glaucoma_final_def_limitedexclusions'].replace({\n",
    "    'Control': 'Control',\n",
    "    'Untreated_Diagnosed': 'Glaucoma',\n",
    "    'Treated_Diagnosed': 'Glaucoma',\n",
    "    'Treated_Undiagnosed': np.nan,\n",
    "})\n",
    "glaucoma_prevalence_def_df.loc[exclusion_any, 'Glaucoma (prevalent D|TD)'] = np.nan"
   ]
  },
  {
   "cell_type": "code",
   "execution_count": null,
   "id": "93e0894f-9936-43f5-9c81-93d2de04c121",
   "metadata": {},
   "outputs": [],
   "source": [
    "# Merge\n",
    "\n",
    "merged_df = pd.merge(merged_df, glaucoma_prevalence_def_df[['f.eid', 'Exclusion', 'Glaucoma (prevalent D|TD)']], on='f.eid', how='outer')"
   ]
  },
  {
   "cell_type": "code",
   "execution_count": null,
   "id": "da9fe8fb-28f5-4181-9ab8-49bcfa0ef338",
   "metadata": {},
   "outputs": [],
   "source": [
    "# N for flowchart"
   ]
  },
  {
   "cell_type": "code",
   "execution_count": null,
   "id": "6fede212-fe49-4b13-afd2-bb379949a793",
   "metadata": {},
   "outputs": [],
   "source": []
  },
  {
   "cell_type": "code",
   "execution_count": null,
   "id": "7516ae1b-e195-467a-b3d4-4d3d662c2aaa",
   "metadata": {},
   "outputs": [],
   "source": [
    "# Merge\n",
    "\n",
    "df_for_n = pd.merge(merged_df[['f.eid', 'IOP_available']], glaucoma_prevalence_def_df, on='f.eid', how='outer')"
   ]
  },
  {
   "cell_type": "code",
   "execution_count": null,
   "id": "be16a999-ab6a-44d5-837e-d291823c0172",
   "metadata": {},
   "outputs": [],
   "source": [
    "df_for_n_IOP = df_for_n[df_for_n['IOP_available'] == 1]"
   ]
  },
  {
   "cell_type": "code",
   "execution_count": null,
   "id": "c2650065-c85c-430e-9529-8f19b473025a",
   "metadata": {},
   "outputs": [],
   "source": [
    "exclusion_TUD_df_for_n = df_for_n_IOP['glaucoma_final_def_limitedexclusions'] == 'Treated_Undiagnosed'\n",
    "exclusion_other_df_for_n = df_for_n_IOP['glaucoma_final_def_limitedexclusions'].isna() == True\n",
    "exclusion_any_df_for_n = exclusion_TUD_df_for_n | exclusion_other_df_for_n"
   ]
  },
  {
   "cell_type": "code",
   "execution_count": null,
   "id": "ddca98b5-4142-454e-aa8f-a7e76ecb74cd",
   "metadata": {},
   "outputs": [],
   "source": [
    "exclusion_any_df_for_n.sum()"
   ]
  },
  {
   "cell_type": "code",
   "execution_count": null,
   "id": "adfc4fe2-bcf1-4caf-96e4-8fbcf708a22b",
   "metadata": {},
   "outputs": [],
   "source": [
    "exclusion_TUD_df_for_n.sum()"
   ]
  },
  {
   "cell_type": "code",
   "execution_count": null,
   "id": "1ee798b4-6774-45b9-ba9e-7cc7ecb48bd9",
   "metadata": {},
   "outputs": [],
   "source": [
    "exclusion_other_df_for_n.sum()"
   ]
  },
  {
   "cell_type": "code",
   "execution_count": null,
   "id": "7139dff0-feae-4e59-a3f7-eb29364d77a2",
   "metadata": {},
   "outputs": [],
   "source": [
    "exclusion_TUD_df_for_n."
   ]
  },
  {
   "cell_type": "code",
   "execution_count": null,
   "id": "19f138c1-2928-45b1-b8ce-95101cca1480",
   "metadata": {},
   "outputs": [],
   "source": [
    "(df_for_n_IOP['glaucoma_final_def_limitedexclusions'] == 'Treated_Undiagnosed').value_counts()"
   ]
  },
  {
   "cell_type": "code",
   "execution_count": null,
   "id": "6379c208-76c3-418e-8137-73ac604016e1",
   "metadata": {},
   "outputs": [],
   "source": [
    "(df_for_n_IOP['glaucoma_final_def_limitedexclusions'] == 'Treated_Undiagnosed').value_counts()"
   ]
  },
  {
   "cell_type": "code",
   "execution_count": null,
   "id": "501e02f9-6a7f-419b-b15f-04f83b8564c4",
   "metadata": {},
   "outputs": [],
   "source": [
    "df_for_n"
   ]
  },
  {
   "cell_type": "markdown",
   "id": "5166aae8-0066-408c-b10c-ea5fe3486e5b",
   "metadata": {},
   "source": [
    "# Subcohorting"
   ]
  },
  {
   "cell_type": "code",
   "execution_count": null,
   "id": "e93d048a-3062-4be3-a4c6-442ebd6669e5",
   "metadata": {},
   "outputs": [],
   "source": [
    "# IOP available subcohort = IOP data available & not excluded as a control\n",
    "\n",
    "IOP_available_mask = merged_df['IOP_available'] == 1\n",
    "not_excluded_mask = merged_df['Exclusion'] == 0\n",
    "\n",
    "IOP_subcohort_mask = IOP_available_mask & not_excluded_mask\n",
    "\n",
    "merged_df['IOP subcohort'] = 0\n",
    "merged_df.loc[IOP_subcohort_mask, 'IOP subcohort'] = 1"
   ]
  },
  {
   "cell_type": "markdown",
   "id": "93296a88-4505-4e18-abaa-787b9fdc5b41",
   "metadata": {},
   "source": [
    "# Training/test splits"
   ]
  },
  {
   "cell_type": "code",
   "execution_count": null,
   "id": "a7475674-7a20-47a1-95f9-43950c6ad4cb",
   "metadata": {},
   "outputs": [],
   "source": [
    "def stratify_split(df, mask_dict, test_proportion, split_col_name):\n",
    "    for name, mask in mask_dict.items():\n",
    "        subgroup_df = df[mask]\n",
    "        subgroup_test = subgroup_df.sample(frac=test_proportion, replace=False, random_state=2024)\n",
    "        df.loc[subgroup_test.index.values, split_col_name] = 'test'\n",
    "        df.loc[subgroup_df.index.difference(subgroup_test.index.values), split_col_name] = 'train'"
   ]
  },
  {
   "cell_type": "code",
   "execution_count": null,
   "id": "db3b14eb-f724-40ac-b3c3-19ca0e2c6452",
   "metadata": {},
   "outputs": [],
   "source": [
    "def qc_split(df, mask_dict, split_col_name):\n",
    "    test_proportion = (df[split_col_name] == 'test').sum() / len(df)\n",
    "    print(f'Split col NA: {df[split_col_name].isna().sum()}')\n",
    "    print(f'Test set proportion: {test_proportion}')\n",
    "    print(f'Split col value counts: {df[split_col_name].value_counts()}')\n",
    "    for name, mask in mask_dict.items():\n",
    "        test_proportion = (df[mask][split_col_name] == 'test').sum() / len(df[mask])\n",
    "        print(f'\\n {name}')\n",
    "        print(f'Test set proportion: {test_proportion}')\n",
    "        print(df[mask][split_col_name].value_counts())"
   ]
  },
  {
   "cell_type": "code",
   "execution_count": null,
   "id": "75ca0aa8-2c76-4931-989f-69a63c852740",
   "metadata": {
    "scrolled": true
   },
   "outputs": [],
   "source": [
    "### 90/10 split\n",
    "\n",
    "split_col = 'training_test_split_90_10'\n",
    "merged_df[split_col] = np.nan\n",
    "\n",
    "glaucoma_mask = merged_df['Glaucoma (prevalent D|TD)'] == 'Glaucoma'\n",
    "control_mask = merged_df['Glaucoma (prevalent D|TD)'] == 'Control'\n",
    "\n",
    "# IOP subcohort\n",
    "mask_dict = {\n",
    "    'Glaucoma': IOP_subcohort_mask & glaucoma_mask,\n",
    "    'Control': IOP_subcohort_mask & control_mask,\n",
    "}\n",
    "stratify_split(\n",
    "    df=merged_df,\n",
    "    mask_dict=mask_dict,\n",
    "    test_proportion=0.1,\n",
    "    split_col_name=split_col\n",
    ")\n",
    "qc_split(merged_df, mask_dict, split_col)\n",
    "\n",
    "# Remaining study\n",
    "mask_dict = {\n",
    "    'Glaucoma': ~IOP_subcohort_mask & glaucoma_mask,\n",
    "    'Control': ~IOP_subcohort_mask & control_mask,\n",
    "}\n",
    "stratify_split(\n",
    "    df=merged_df,\n",
    "    mask_dict=mask_dict,\n",
    "    test_proportion=0.1,\n",
    "    split_col_name=split_col\n",
    ")\n",
    "qc_split(merged_df, mask_dict, split_col)"
   ]
  },
  {
   "cell_type": "markdown",
   "id": "aa4ad7d5-6dd3-4f1c-beab-73a1255d54b5",
   "metadata": {},
   "source": [
    "# Save final derived data"
   ]
  },
  {
   "cell_type": "code",
   "execution_count": null,
   "id": "c1ac0ba8-d6d7-4c6b-aea2-76f3d42cbf53",
   "metadata": {},
   "outputs": [],
   "source": [
    "# Save all columns\n",
    "\n",
    "merged_df.to_pickle('./data/derived/mixed_derived_and_extracted_merged.pkl')"
   ]
  },
  {
   "cell_type": "code",
   "execution_count": null,
   "id": "2799a64a-1385-4878-9445-1febdb408eaf",
   "metadata": {
    "editable": true,
    "slideshow": {
     "slide_type": ""
    },
    "tags": []
   },
   "outputs": [],
   "source": [
    "# Select only columns we have created / manipulated\n",
    "# Note: will still include some redundant variables, that won't be used as features\n",
    "\n",
    "cols_to_drop = np.concatenate((ukb49508_cols_to_use, ukb675501_cols_to_use, ukb51745_cols_to_use))\n",
    "cols_to_drop = np.delete(cols_to_drop, np.where(cols_to_drop=='f.eid'))\n",
    "df_to_save = merged_df.drop(cols_to_drop, axis=1, inplace=False)"
   ]
  },
  {
   "cell_type": "code",
   "execution_count": null,
   "id": "11ebcbbc-c201-4512-9884-053e95e7163f",
   "metadata": {
    "editable": true,
    "slideshow": {
     "slide_type": ""
    },
    "tags": []
   },
   "outputs": [],
   "source": [
    "df_to_save.to_pickle('./data/derived/derived_cols_merged.pkl')"
   ]
  },
  {
   "cell_type": "code",
   "execution_count": null,
   "id": "cbf40ee9-30e7-4a27-983f-10fe74fc11ca",
   "metadata": {},
   "outputs": [],
   "source": [
    "df_to_save.to_csv('./data/derived/derived_cols_merged.tsv', sep='\\t', index=False)"
   ]
  }
 ],
 "metadata": {
  "kernelspec": {
   "display_name": "3.12.3",
   "language": "python",
   "name": "pyenv_3.12.3"
  },
  "language_info": {
   "codemirror_mode": {
    "name": "ipython",
    "version": 3
   },
   "file_extension": ".py",
   "mimetype": "text/x-python",
   "name": "python",
   "nbconvert_exporter": "python",
   "pygments_lexer": "ipython3",
   "version": "3.12.3"
  }
 },
 "nbformat": 4,
 "nbformat_minor": 5
}
