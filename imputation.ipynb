{
 "cells": [
  {
   "cell_type": "code",
   "execution_count": 1,
   "id": "a7539e7e-0f63-450e-a657-a68073825805",
   "metadata": {},
   "outputs": [
    {
     "data": {
      "text/plain": [
       "<module 'model_util' from '/mnt/shared_folders/eResearch_glaucoma_project/andrewholmes2024/Aug2024/model_util.py'>"
      ]
     },
     "execution_count": 1,
     "metadata": {},
     "output_type": "execute_result"
    }
   ],
   "source": [
    "import numpy as np\n",
    "import csv\n",
    "import pandas as pd\n",
    "import miceforest as mf\n",
    "\n",
    "import joblib\n",
    "from joblib import load\n",
    "\n",
    "import sklearn\n",
    "from sklearn.preprocessing import MinMaxScaler\n",
    "\n",
    "import scipy.stats as stats\n",
    "\n",
    "import importlib\n",
    "import sys\n",
    "import feature_sets\n",
    "importlib.reload(feature_sets)\n",
    "\n",
    "import model_util\n",
    "importlib.reload(model_util)"
   ]
  },
  {
   "cell_type": "markdown",
   "id": "3d2f8e80-9db0-4774-adf0-fd6b1f1fa824",
   "metadata": {},
   "source": [
    "# Load data"
   ]
  },
  {
   "cell_type": "code",
   "execution_count": null,
   "id": "1888182c-0e03-486c-ba67-9c3e042680e4",
   "metadata": {},
   "outputs": [],
   "source": [
    "odsl_feature_list = feature_sets.ODSL_features['feature'].values"
   ]
  },
  {
   "cell_type": "code",
   "execution_count": 2,
   "id": "a10ca3ba-9dda-495b-9842-665053e1f207",
   "metadata": {},
   "outputs": [],
   "source": [
    "merged_df = pd.read_pickle('/mnt/shared_folders/eResearch_glaucoma_project/andrewholmes2024/Aug2024/data/derived/derived_cols_merged.pkl')"
   ]
  },
  {
   "cell_type": "code",
   "execution_count": 4,
   "id": "0b096de2-71a8-41be-97b9-e18418e5abd8",
   "metadata": {},
   "outputs": [],
   "source": [
    "# Set categorical features\n",
    "\n",
    "odsl_categorical_features = feature_sets.ODSL_features[feature_sets.ODSL_features['coding_type'].isin(['binary', 'nominal'])]['feature'].values\n",
    "merged_df[odsl_categorical_features] = merged_df[odsl_categorical_features].astype('category')"
   ]
  },
  {
   "cell_type": "code",
   "execution_count": 3,
   "id": "a9bc8542-dba5-4405-94c0-c8e48a02ccf7",
   "metadata": {},
   "outputs": [],
   "source": [
    "IOP_subcohort_df = merged_df[merged_df['IOP subcohort'] == 1]"
   ]
  },
  {
   "cell_type": "code",
   "execution_count": 6,
   "id": "45746dee-f650-4b45-856d-4aa6c0e00d64",
   "metadata": {},
   "outputs": [],
   "source": [
    "X_train, y_train, X_test, y_test = model_util.get_train_test_datasets(\n",
    "    IOP_subcohort_df, \n",
    "    'training_test_split_90_10', \n",
    "    'Glaucoma (prevalent D|TD)', \n",
    "    odsl_feature_list\n",
    ")"
   ]
  },
  {
   "cell_type": "code",
   "execution_count": 14,
   "id": "611f9303-de14-4176-97ff-c5cdec7b0760",
   "metadata": {},
   "outputs": [
    {
     "data": {
      "text/plain": [
       "113264"
      ]
     },
     "execution_count": 14,
     "metadata": {},
     "output_type": "execute_result"
    }
   ],
   "source": [
    "len(merged_df[merged_df['IOP_available'] == 1])"
   ]
  },
  {
   "cell_type": "code",
   "execution_count": null,
   "id": "417b0ec7-d032-4dfa-b71e-e29dd3377027",
   "metadata": {},
   "outputs": [],
   "source": [
    "# 112 156 \n",
    "\n",
    "# 1108 total"
   ]
  },
  {
   "cell_type": "code",
   "execution_count": 13,
   "id": "7566791d-a393-4286-9053-8671703fdca7",
   "metadata": {},
   "outputs": [
    {
     "data": {
      "text/plain": [
       "Glaucoma (prevalent D|TD)\n",
       "Control     108428\n",
       "Glaucoma      3728\n",
       "Name: count, dtype: int64"
      ]
     },
     "execution_count": 13,
     "metadata": {},
     "output_type": "execute_result"
    }
   ],
   "source": [
    "merged_df[merged_df['IOP_available'] == 1]['Glaucoma (prevalent D|TD)'].value_counts()"
   ]
  },
  {
   "cell_type": "code",
   "execution_count": 15,
   "id": "4146bd83-4141-4328-b1a0-f0dd3a9239df",
   "metadata": {},
   "outputs": [
    {
     "data": {
      "text/plain": [
       "Exclusion\n",
       "0.0    112156\n",
       "1.0      1108\n",
       "Name: count, dtype: int64"
      ]
     },
     "execution_count": 15,
     "metadata": {},
     "output_type": "execute_result"
    }
   ],
   "source": [
    "merged_df[merged_df['IOP_available'] == 1]['Exclusion'].value_counts()"
   ]
  },
  {
   "cell_type": "code",
   "execution_count": 10,
   "id": "b2a52bd0-c10c-489e-b689-4f5bb8cf46b6",
   "metadata": {},
   "outputs": [
    {
     "data": {
      "text/plain": [
       "Glaucoma (prevalent D|TD)\n",
       "Control     108428\n",
       "Glaucoma      3728\n",
       "Name: count, dtype: int64"
      ]
     },
     "execution_count": 10,
     "metadata": {},
     "output_type": "execute_result"
    }
   ],
   "source": [
    "IOP_subcohort_df['Glaucoma (prevalent D|TD)'].value_counts()"
   ]
  },
  {
   "cell_type": "markdown",
   "id": "06e2af26-ba79-4352-8718-2896d9d0b3ea",
   "metadata": {},
   "source": [
    "# Missing feature stats"
   ]
  },
  {
   "cell_type": "code",
   "execution_count": 8,
   "id": "3ad47f6c-1df6-4d5e-83b2-57ff832a0fcf",
   "metadata": {},
   "outputs": [
    {
     "data": {
      "text/plain": [
       "5          Control\n",
       "7          Control\n",
       "9          Control\n",
       "20         Control\n",
       "22         Control\n",
       "            ...   \n",
       "502406     Control\n",
       "502409     Control\n",
       "502410     Control\n",
       "502415    Glaucoma\n",
       "502416     Control\n",
       "Name: Glaucoma (prevalent D|TD), Length: 112156, dtype: object"
      ]
     },
     "execution_count": 8,
     "metadata": {},
     "output_type": "execute_result"
    }
   ],
   "source": [
    "IOP_subcohort_df['Glaucoma (prevalent D|TD)']"
   ]
  },
  {
   "cell_type": "code",
   "execution_count": 39,
   "id": "d00fa03e-5526-4985-a438-5e7ce3d32ad5",
   "metadata": {},
   "outputs": [],
   "source": [
    "glaucoma_df = IOP_subcohort_df[IOP_subcohort_df['Glaucoma (prevalent D|TD)'] == 'Glaucoma']\n",
    "control_df = IOP_subcohort_df[IOP_subcohort_df['Glaucoma (prevalent D|TD)'] == 'Control']\n",
    "\n",
    "total_n = len(IOP_subcohort_df)\n",
    "glaucoma_n = len(glaucoma_df)\n",
    "control_n = len(control_df)\n",
    "\n",
    "missing_feature_df = pd.DataFrame(columns=[\n",
    "    'Feature',\n",
    "    'N missing', # used for sorting\n",
    "    'N missing (%)',\n",
    "    'N missing, glaucoma (%)',\n",
    "    'N missing, control (%)',\n",
    "    'p',\n",
    "])\n",
    "missing_feature_df = missing_feature_df.set_index('Feature', drop=True)\n",
    "\n",
    "for feature in odsl_feature_list:\n",
    "    n_missing = IOP_subcohort_df[feature].isna().sum()\n",
    "    n_missing_percent = (n_missing / total_n) * 100\n",
    "    missing_feature_df.loc[feature, 'N missing'] = n_missing\n",
    "    if n_missing >= 10000:\n",
    "        missing_feature_df.loc[feature, 'N missing (%)'] = f'{n_missing:,} ({n_missing_percent:0.2f}%)'\n",
    "    else:\n",
    "        missing_feature_df.loc[feature, 'N missing (%)'] = f'{n_missing} ({n_missing_percent:0.2f}%)'\n",
    "\n",
    "    # Glaucoma\n",
    "    n_missing_glaucoma = glaucoma_df[feature].isna().sum()\n",
    "    n_missing_percent = (n_missing_glaucoma / glaucoma_n) * 100\n",
    "    if n_missing >= 10000:\n",
    "        missing_feature_df.loc[feature, 'N missing, glaucoma (%)'] = f'{n_missing_glaucoma:,} ({n_missing_percent:0.2f}%)'\n",
    "    else:\n",
    "        missing_feature_df.loc[feature, 'N missing, glaucoma (%)'] = f'{n_missing_glaucoma} ({n_missing_percent:0.2f}%)'\n",
    "\n",
    "    # Control\n",
    "    n_missing_control = control_df[feature].isna().sum()\n",
    "    n_missing_percent = (n_missing_control / control_n) * 100\n",
    "    if n_missing >= 10000:\n",
    "        missing_feature_df.loc[feature, 'N missing, control (%)'] = f'{n_missing_control:,} ({n_missing_percent:0.2f}%)'\n",
    "    else:\n",
    "        missing_feature_df.loc[feature, 'N missing, control (%)'] = f'{n_missing_control} ({n_missing_percent:0.2f}%)'\n",
    "\n",
    "    # Chi-square\n",
    "\n",
    "    if n_missing_glaucoma == 0 and n_missing_control == 0:\n",
    "        continue\n",
    "\n",
    "    # contignency tab\n",
    "    ctb = pd.crosstab(index=IOP_subcohort_df[feature].isna() == True, columns=IOP_subcohort_df['Glaucoma (prevalent D|TD)'])\n",
    "    \n",
    "    p_val = stats.chi2_contingency(ctb).pvalue\n",
    "    if p_val < 0.001:\n",
    "        p_val = '<0.001'\n",
    "    else:\n",
    "        p_val = f'{p_val:0.3f}'\n",
    "    missing_feature_df.loc[feature, 'p'] = p_val\n",
    "\n",
    "missing_feature_df = missing_feature_df.sort_values(by='N missing', axis=0, ascending=False)\n",
    "missing_feature_df = missing_feature_df.drop(columns=['N missing'])"
   ]
  },
  {
   "cell_type": "code",
   "execution_count": 40,
   "id": "1fcea53e-6d46-4f65-865f-27d4dc7723c4",
   "metadata": {},
   "outputs": [],
   "source": [
    "missing_feature_df.to_csv('./data/imputed/missing_feature_count.tsv', sep='\\t')"
   ]
  },
  {
   "cell_type": "code",
   "execution_count": 41,
   "id": "1e653362-0b09-41d4-b1f6-d65cf94732aa",
   "metadata": {},
   "outputs": [],
   "source": [
    "missing_feature_df.to_html('./data/imputed/missing_feature_count.html')"
   ]
  },
  {
   "cell_type": "code",
   "execution_count": 38,
   "id": "683fca49-8c21-4e77-b6ff-6ad7d8b96441",
   "metadata": {
    "scrolled": true
   },
   "outputs": [
    {
     "data": {
      "text/html": [
       "<div>\n",
       "<style scoped>\n",
       "    .dataframe tbody tr th:only-of-type {\n",
       "        vertical-align: middle;\n",
       "    }\n",
       "\n",
       "    .dataframe tbody tr th {\n",
       "        vertical-align: top;\n",
       "    }\n",
       "\n",
       "    .dataframe thead th {\n",
       "        text-align: right;\n",
       "    }\n",
       "</style>\n",
       "<table border=\"1\" class=\"dataframe\">\n",
       "  <thead>\n",
       "    <tr style=\"text-align: right;\">\n",
       "      <th></th>\n",
       "      <th>N missing (%)</th>\n",
       "      <th>N missing, glaucoma (%)</th>\n",
       "      <th>N missing, control (%)</th>\n",
       "      <th>p</th>\n",
       "    </tr>\n",
       "    <tr>\n",
       "      <th>Feature</th>\n",
       "      <th></th>\n",
       "      <th></th>\n",
       "      <th></th>\n",
       "      <th></th>\n",
       "    </tr>\n",
       "  </thead>\n",
       "  <tbody>\n",
       "    <tr>\n",
       "      <th>Exercise (summed MET minutes per week)</th>\n",
       "      <td>24,704 (22.03%)</td>\n",
       "      <td>24,704 (25.00%)</td>\n",
       "      <td>24,704 (21.92%)</td>\n",
       "      <td>&lt;0.001</td>\n",
       "    </tr>\n",
       "    <tr>\n",
       "      <th>Total household income</th>\n",
       "      <td>16,339 (14.57%)</td>\n",
       "      <td>16,339 (17.68%)</td>\n",
       "      <td>16,339 (14.46%)</td>\n",
       "      <td>&lt;0.001</td>\n",
       "    </tr>\n",
       "    <tr>\n",
       "      <th>Plasma oestradiol</th>\n",
       "      <td>15,437 (13.76%)</td>\n",
       "      <td>15,437 (14.16%)</td>\n",
       "      <td>15,437 (13.75%)</td>\n",
       "      <td>0.487</td>\n",
       "    </tr>\n",
       "    <tr>\n",
       "      <th>Plasma glucose</th>\n",
       "      <td>15,351 (13.69%)</td>\n",
       "      <td>15,351 (14.40%)</td>\n",
       "      <td>15,351 (13.66%)</td>\n",
       "      <td>0.203</td>\n",
       "    </tr>\n",
       "    <tr>\n",
       "      <th>HDL</th>\n",
       "      <td>15,283 (13.63%)</td>\n",
       "      <td>15,283 (14.38%)</td>\n",
       "      <td>15,283 (13.60%)</td>\n",
       "      <td>0.182</td>\n",
       "    </tr>\n",
       "    <tr>\n",
       "      <th>Plasma albumin</th>\n",
       "      <td>15,205 (13.56%)</td>\n",
       "      <td>15,205 (14.30%)</td>\n",
       "      <td>15,205 (13.53%)</td>\n",
       "      <td>0.187</td>\n",
       "    </tr>\n",
       "    <tr>\n",
       "      <th>Plasma Vitamin D</th>\n",
       "      <td>12,980 (11.57%)</td>\n",
       "      <td>12,980 (11.96%)</td>\n",
       "      <td>12,980 (11.56%)</td>\n",
       "      <td>0.464</td>\n",
       "    </tr>\n",
       "    <tr>\n",
       "      <th>HbA1c</th>\n",
       "      <td>10,086 (8.99%)</td>\n",
       "      <td>10,086 (9.82%)</td>\n",
       "      <td>10,086 (8.96%)</td>\n",
       "      <td>0.078</td>\n",
       "    </tr>\n",
       "    <tr>\n",
       "      <th>Plasma testosterone</th>\n",
       "      <td>9252 (8.25%)</td>\n",
       "      <td>9252 (8.93%)</td>\n",
       "      <td>9252 (8.23%)</td>\n",
       "      <td>0.131</td>\n",
       "    </tr>\n",
       "    <tr>\n",
       "      <th>Snoring</th>\n",
       "      <td>8915 (7.95%)</td>\n",
       "      <td>8915 (8.32%)</td>\n",
       "      <td>8915 (7.94%)</td>\n",
       "      <td>0.417</td>\n",
       "    </tr>\n",
       "    <tr>\n",
       "      <th>Past smoking frequency</th>\n",
       "      <td>8800 (7.85%)</td>\n",
       "      <td>8800 (7.00%)</td>\n",
       "      <td>8800 (7.88%)</td>\n",
       "      <td>0.055</td>\n",
       "    </tr>\n",
       "    <tr>\n",
       "      <th>Plasma total bilirubin</th>\n",
       "      <td>8753 (7.80%)</td>\n",
       "      <td>8753 (8.42%)</td>\n",
       "      <td>8753 (7.78%)</td>\n",
       "      <td>0.161</td>\n",
       "    </tr>\n",
       "    <tr>\n",
       "      <th>LDL</th>\n",
       "      <td>8567 (7.64%)</td>\n",
       "      <td>8567 (8.26%)</td>\n",
       "      <td>8567 (7.62%)</td>\n",
       "      <td>0.154</td>\n",
       "    </tr>\n",
       "    <tr>\n",
       "      <th>C-reactive protein</th>\n",
       "      <td>8541 (7.62%)</td>\n",
       "      <td>8541 (8.18%)</td>\n",
       "      <td>8541 (7.60%)</td>\n",
       "      <td>0.196</td>\n",
       "    </tr>\n",
       "    <tr>\n",
       "      <th>Triglycerides</th>\n",
       "      <td>8408 (7.50%)</td>\n",
       "      <td>8408 (8.13%)</td>\n",
       "      <td>8408 (7.48%)</td>\n",
       "      <td>0.145</td>\n",
       "    </tr>\n",
       "    <tr>\n",
       "      <th>eGFR serum creatinine</th>\n",
       "      <td>8375 (7.47%)</td>\n",
       "      <td>8375 (8.10%)</td>\n",
       "      <td>8375 (7.45%)</td>\n",
       "      <td>0.143</td>\n",
       "    </tr>\n",
       "    <tr>\n",
       "      <th>Plasma urate</th>\n",
       "      <td>8374 (7.47%)</td>\n",
       "      <td>8374 (8.13%)</td>\n",
       "      <td>8374 (7.44%)</td>\n",
       "      <td>0.126</td>\n",
       "    </tr>\n",
       "    <tr>\n",
       "      <th>Total cholesterol</th>\n",
       "      <td>8312 (7.41%)</td>\n",
       "      <td>8312 (8.02%)</td>\n",
       "      <td>8312 (7.39%)</td>\n",
       "      <td>0.158</td>\n",
       "    </tr>\n",
       "    <tr>\n",
       "      <th>Hearing difficulty (self-reported)</th>\n",
       "      <td>6684 (5.96%)</td>\n",
       "      <td>6684 (6.68%)</td>\n",
       "      <td>6684 (5.93%)</td>\n",
       "      <td>0.064</td>\n",
       "    </tr>\n",
       "    <tr>\n",
       "      <th>Diet score</th>\n",
       "      <td>6543 (5.83%)</td>\n",
       "      <td>6543 (6.95%)</td>\n",
       "      <td>6543 (5.80%)</td>\n",
       "      <td>0.004</td>\n",
       "    </tr>\n",
       "    <tr>\n",
       "      <th>Systemic immune inflammation index</th>\n",
       "      <td>5067 (4.52%)</td>\n",
       "      <td>5067 (5.07%)</td>\n",
       "      <td>5067 (4.50%)</td>\n",
       "      <td>0.107</td>\n",
       "    </tr>\n",
       "    <tr>\n",
       "      <th>Urinary sodium-creatinine ratio</th>\n",
       "      <td>4350 (3.88%)</td>\n",
       "      <td>4350 (4.43%)</td>\n",
       "      <td>4350 (3.86%)</td>\n",
       "      <td>0.086</td>\n",
       "    </tr>\n",
       "    <tr>\n",
       "      <th>Albumin-creatinine ratio</th>\n",
       "      <td>4125 (3.68%)</td>\n",
       "      <td>4125 (4.29%)</td>\n",
       "      <td>4125 (3.66%)</td>\n",
       "      <td>0.048</td>\n",
       "    </tr>\n",
       "    <tr>\n",
       "      <th>Polygenic risk score</th>\n",
       "      <td>4052 (3.61%)</td>\n",
       "      <td>4052 (3.65%)</td>\n",
       "      <td>4052 (3.61%)</td>\n",
       "      <td>0.942</td>\n",
       "    </tr>\n",
       "    <tr>\n",
       "      <th>Speech reception threshold</th>\n",
       "      <td>3462 (3.09%)</td>\n",
       "      <td>3462 (4.40%)</td>\n",
       "      <td>3462 (3.04%)</td>\n",
       "      <td>&lt;0.001</td>\n",
       "    </tr>\n",
       "  </tbody>\n",
       "</table>\n",
       "</div>"
      ],
      "text/plain": [
       "                                          N missing (%)  \\\n",
       "Feature                                                   \n",
       "Exercise (summed MET minutes per week)  24,704 (22.03%)   \n",
       "Total household income                  16,339 (14.57%)   \n",
       "Plasma oestradiol                       15,437 (13.76%)   \n",
       "Plasma glucose                          15,351 (13.69%)   \n",
       "HDL                                     15,283 (13.63%)   \n",
       "Plasma albumin                          15,205 (13.56%)   \n",
       "Plasma Vitamin D                        12,980 (11.57%)   \n",
       "HbA1c                                    10,086 (8.99%)   \n",
       "Plasma testosterone                        9252 (8.25%)   \n",
       "Snoring                                    8915 (7.95%)   \n",
       "Past smoking frequency                     8800 (7.85%)   \n",
       "Plasma total bilirubin                     8753 (7.80%)   \n",
       "LDL                                        8567 (7.64%)   \n",
       "C-reactive protein                         8541 (7.62%)   \n",
       "Triglycerides                              8408 (7.50%)   \n",
       "eGFR serum creatinine                      8375 (7.47%)   \n",
       "Plasma urate                               8374 (7.47%)   \n",
       "Total cholesterol                          8312 (7.41%)   \n",
       "Hearing difficulty (self-reported)         6684 (5.96%)   \n",
       "Diet score                                 6543 (5.83%)   \n",
       "Systemic immune inflammation index         5067 (4.52%)   \n",
       "Urinary sodium-creatinine ratio            4350 (3.88%)   \n",
       "Albumin-creatinine ratio                   4125 (3.68%)   \n",
       "Polygenic risk score                       4052 (3.61%)   \n",
       "Speech reception threshold                 3462 (3.09%)   \n",
       "\n",
       "                                       N missing, glaucoma (%)  \\\n",
       "Feature                                                          \n",
       "Exercise (summed MET minutes per week)         24,704 (25.00%)   \n",
       "Total household income                         16,339 (17.68%)   \n",
       "Plasma oestradiol                              15,437 (14.16%)   \n",
       "Plasma glucose                                 15,351 (14.40%)   \n",
       "HDL                                            15,283 (14.38%)   \n",
       "Plasma albumin                                 15,205 (14.30%)   \n",
       "Plasma Vitamin D                               12,980 (11.96%)   \n",
       "HbA1c                                           10,086 (9.82%)   \n",
       "Plasma testosterone                               9252 (8.93%)   \n",
       "Snoring                                           8915 (8.32%)   \n",
       "Past smoking frequency                            8800 (7.00%)   \n",
       "Plasma total bilirubin                            8753 (8.42%)   \n",
       "LDL                                               8567 (8.26%)   \n",
       "C-reactive protein                                8541 (8.18%)   \n",
       "Triglycerides                                     8408 (8.13%)   \n",
       "eGFR serum creatinine                             8375 (8.10%)   \n",
       "Plasma urate                                      8374 (8.13%)   \n",
       "Total cholesterol                                 8312 (8.02%)   \n",
       "Hearing difficulty (self-reported)                6684 (6.68%)   \n",
       "Diet score                                        6543 (6.95%)   \n",
       "Systemic immune inflammation index                5067 (5.07%)   \n",
       "Urinary sodium-creatinine ratio                   4350 (4.43%)   \n",
       "Albumin-creatinine ratio                          4125 (4.29%)   \n",
       "Polygenic risk score                              4052 (3.65%)   \n",
       "Speech reception threshold                        3462 (4.40%)   \n",
       "\n",
       "                                       N missing, control (%)       p  \n",
       "Feature                                                                \n",
       "Exercise (summed MET minutes per week)        24,704 (21.92%)  <0.001  \n",
       "Total household income                        16,339 (14.46%)  <0.001  \n",
       "Plasma oestradiol                             15,437 (13.75%)   0.487  \n",
       "Plasma glucose                                15,351 (13.66%)   0.203  \n",
       "HDL                                           15,283 (13.60%)   0.182  \n",
       "Plasma albumin                                15,205 (13.53%)   0.187  \n",
       "Plasma Vitamin D                              12,980 (11.56%)   0.464  \n",
       "HbA1c                                          10,086 (8.96%)   0.078  \n",
       "Plasma testosterone                              9252 (8.23%)   0.131  \n",
       "Snoring                                          8915 (7.94%)   0.417  \n",
       "Past smoking frequency                           8800 (7.88%)   0.055  \n",
       "Plasma total bilirubin                           8753 (7.78%)   0.161  \n",
       "LDL                                              8567 (7.62%)   0.154  \n",
       "C-reactive protein                               8541 (7.60%)   0.196  \n",
       "Triglycerides                                    8408 (7.48%)   0.145  \n",
       "eGFR serum creatinine                            8375 (7.45%)   0.143  \n",
       "Plasma urate                                     8374 (7.44%)   0.126  \n",
       "Total cholesterol                                8312 (7.39%)   0.158  \n",
       "Hearing difficulty (self-reported)               6684 (5.93%)   0.064  \n",
       "Diet score                                       6543 (5.80%)   0.004  \n",
       "Systemic immune inflammation index               5067 (4.50%)   0.107  \n",
       "Urinary sodium-creatinine ratio                  4350 (3.86%)   0.086  \n",
       "Albumin-creatinine ratio                         4125 (3.66%)   0.048  \n",
       "Polygenic risk score                             4052 (3.61%)   0.942  \n",
       "Speech reception threshold                       3462 (3.04%)  <0.001  "
      ]
     },
     "execution_count": 38,
     "metadata": {},
     "output_type": "execute_result"
    }
   ],
   "source": [
    "missing_feature_df.head(25)"
   ]
  },
  {
   "cell_type": "markdown",
   "id": "3b565885-d71f-4edb-96ff-e2c98c8559e3",
   "metadata": {},
   "source": [
    "# Run imputation"
   ]
  },
  {
   "cell_type": "code",
   "execution_count": 7,
   "id": "fcd3c074-0b3e-47b3-86f9-a6dd4a8a8674",
   "metadata": {},
   "outputs": [],
   "source": [
    "imputation_kernel = mf.ImputationKernel(\n",
    "    X_train,\n",
    "    num_datasets=1,\n",
    "    random_state=2024,\n",
    "    mean_match_strategy='normal',\n",
    "    mean_match_candidates=10,\n",
    "    save_all_iterations_data=True,\n",
    "    imputation_order='descending',\n",
    ")"
   ]
  },
  {
   "cell_type": "code",
   "execution_count": 9,
   "id": "3bbc9229-5a14-421d-9654-2b893a501150",
   "metadata": {},
   "outputs": [
    {
     "name": "stdout",
     "output_type": "stream",
     "text": [
      "Initialized logger with name MICE Iterations 1 - 5 and 4 levels\n",
      "1 Dataset 0\n",
      " | Exercise (summed MET minutes per week) | Total household income | Plasma oestradiol | Plasma glucose | HDL | Plasma albumin | Plasma Vitamin D | HbA1c | Plasma testosterone | Snoring | Past smoking frequency | Plasma total bilirubin | LDL | C-reactive protein | Triglycerides | Plasma urate | eGFR serum creatinine | Total cholesterol | Hearing difficulty (self-reported) | Diet score | Systemic immune inflammation index | Urinary sodium-creatinine ratio | Albumin-creatinine ratio | Polygenic risk score | Speech reception threshold | Tinnitus frequency (self-reported) | Corneal hysteresis inter-eye difference | IOPg pre-treatment inter-eye difference | Education | PM2.5 exposure | Private healthcare utilisation | Arterial stiffness index | Spherical equivalent | Urban residence | Daytime sleeping frequency | Normal sleep duration | Vitamin C supplementation | Multivitamin supplementation | Ethnicity | Poor oral health | Glucosamine supplementation | Iron supplementation | Selenium supplementation | Calcium supplementation | Body mass index | Tea intake | Insomnia frequency | Alcohol intake | Caffeinated coffee drinker | Current smoking frequency | Salt added to food | Townsend deprivation index | Diastolic blood pressure | Systolic blood pressure\n",
      "2 Dataset 0\n",
      " | Exercise (summed MET minutes per week) | Total household income | Plasma oestradiol | Plasma glucose | HDL | Plasma albumin | Plasma Vitamin D | HbA1c | Plasma testosterone | Snoring | Past smoking frequency | Plasma total bilirubin | LDL | C-reactive protein | Triglycerides | Plasma urate | eGFR serum creatinine | Total cholesterol | Hearing difficulty (self-reported) | Diet score | Systemic immune inflammation index | Urinary sodium-creatinine ratio | Albumin-creatinine ratio | Polygenic risk score | Speech reception threshold | Tinnitus frequency (self-reported) | Corneal hysteresis inter-eye difference | IOPg pre-treatment inter-eye difference | Education | PM2.5 exposure | Private healthcare utilisation | Arterial stiffness index | Spherical equivalent | Urban residence | Daytime sleeping frequency | Normal sleep duration | Vitamin C supplementation | Multivitamin supplementation | Ethnicity | Poor oral health | Glucosamine supplementation | Iron supplementation | Selenium supplementation | Calcium supplementation | Body mass index | Tea intake | Insomnia frequency | Alcohol intake | Caffeinated coffee drinker | Current smoking frequency | Salt added to food | Townsend deprivation index | Diastolic blood pressure | Systolic blood pressure\n",
      "3 Dataset 0\n",
      " | Exercise (summed MET minutes per week) | Total household income | Plasma oestradiol | Plasma glucose | HDL | Plasma albumin | Plasma Vitamin D | HbA1c | Plasma testosterone | Snoring | Past smoking frequency | Plasma total bilirubin | LDL | C-reactive protein | Triglycerides | Plasma urate | eGFR serum creatinine | Total cholesterol | Hearing difficulty (self-reported) | Diet score | Systemic immune inflammation index | Urinary sodium-creatinine ratio | Albumin-creatinine ratio | Polygenic risk score | Speech reception threshold | Tinnitus frequency (self-reported) | Corneal hysteresis inter-eye difference | IOPg pre-treatment inter-eye difference | Education | PM2.5 exposure | Private healthcare utilisation | Arterial stiffness index | Spherical equivalent | Urban residence | Daytime sleeping frequency | Normal sleep duration | Vitamin C supplementation | Multivitamin supplementation | Ethnicity | Poor oral health | Glucosamine supplementation | Iron supplementation | Selenium supplementation | Calcium supplementation | Body mass index | Tea intake | Insomnia frequency | Alcohol intake | Caffeinated coffee drinker | Current smoking frequency | Salt added to food | Townsend deprivation index | Diastolic blood pressure | Systolic blood pressure\n",
      "4 Dataset 0\n",
      " | Exercise (summed MET minutes per week) | Total household income | Plasma oestradiol | Plasma glucose | HDL | Plasma albumin | Plasma Vitamin D | HbA1c | Plasma testosterone | Snoring | Past smoking frequency | Plasma total bilirubin | LDL | C-reactive protein | Triglycerides | Plasma urate | eGFR serum creatinine | Total cholesterol | Hearing difficulty (self-reported) | Diet score | Systemic immune inflammation index | Urinary sodium-creatinine ratio | Albumin-creatinine ratio | Polygenic risk score | Speech reception threshold | Tinnitus frequency (self-reported) | Corneal hysteresis inter-eye difference | IOPg pre-treatment inter-eye difference | Education | PM2.5 exposure | Private healthcare utilisation | Arterial stiffness index | Spherical equivalent | Urban residence | Daytime sleeping frequency | Normal sleep duration | Vitamin C supplementation | Multivitamin supplementation | Ethnicity | Poor oral health | Glucosamine supplementation | Iron supplementation | Selenium supplementation | Calcium supplementation | Body mass index | Tea intake | Insomnia frequency | Alcohol intake | Caffeinated coffee drinker | Current smoking frequency | Salt added to food | Townsend deprivation index | Diastolic blood pressure | Systolic blood pressure\n",
      "5 Dataset 0\n",
      " | Exercise (summed MET minutes per week) | Total household income | Plasma oestradiol | Plasma glucose | HDL | Plasma albumin | Plasma Vitamin D | HbA1c | Plasma testosterone | Snoring | Past smoking frequency | Plasma total bilirubin | LDL | C-reactive protein | Triglycerides | Plasma urate | eGFR serum creatinine | Total cholesterol | Hearing difficulty (self-reported) | Diet score | Systemic immune inflammation index | Urinary sodium-creatinine ratio | Albumin-creatinine ratio | Polygenic risk score | Speech reception threshold | Tinnitus frequency (self-reported) | Corneal hysteresis inter-eye difference | IOPg pre-treatment inter-eye difference | Education | PM2.5 exposure | Private healthcare utilisation | Arterial stiffness index | Spherical equivalent | Urban residence | Daytime sleeping frequency | Normal sleep duration | Vitamin C supplementation | Multivitamin supplementation | Ethnicity | Poor oral health | Glucosamine supplementation | Iron supplementation | Selenium supplementation | Calcium supplementation | Body mass index | Tea intake | Insomnia frequency | Alcohol intake | Caffeinated coffee drinker | Current smoking frequency | Salt added to food | Townsend deprivation index | Diastolic blood pressure | Systolic blood pressure\n"
     ]
    }
   ],
   "source": [
    "imputation_kernel.mice(\n",
    "    verbose=True,\n",
    "    iterations=20, \n",
    "\n",
    "    # LGBM parameters \n",
    "    n_estimators=200,\n",
    "    max_bin=512,\n",
    "    # max_depth=10,\n",
    "    # num_leaves=1023,\n",
    "    # learning_rate=0.1,\n",
    ")"
   ]
  },
  {
   "cell_type": "code",
   "execution_count": 10,
   "id": "60780a1d-eb49-4b44-9b1c-d65877f2a9f7",
   "metadata": {},
   "outputs": [
    {
     "data": {
      "text/plain": [
       "['./data/imputation/imputation_kernel_5iter.pkl']"
      ]
     },
     "execution_count": 10,
     "metadata": {},
     "output_type": "execute_result"
    }
   ],
   "source": [
    "joblib.dump(imputation_kernel, './data/imputed/imputation_kernel_20iter.pkl')"
   ]
  },
  {
   "cell_type": "markdown",
   "id": "5dadaa31-2373-4fc5-8e03-572cbb5744d9",
   "metadata": {},
   "source": [
    "# Save imputed data & train/test"
   ]
  },
  {
   "cell_type": "code",
   "execution_count": 12,
   "id": "ddaf2dbd-4659-4900-a987-5526ddc16860",
   "metadata": {},
   "outputs": [],
   "source": [
    "imputation_kernel = load('./data/imputed/imputation_kernel_20iter.pkl')"
   ]
  },
  {
   "cell_type": "code",
   "execution_count": 18,
   "id": "19249dae-c618-4c78-9a5b-4c464a7eb33d",
   "metadata": {},
   "outputs": [
    {
     "data": {
      "text/plain": [
       "['./data/imputation/IOPsubcohort_y_test.pkl']"
      ]
     },
     "execution_count": 18,
     "metadata": {},
     "output_type": "execute_result"
    }
   ],
   "source": [
    "X_train_imputed = imputation_kernel.complete_data().reset_index(drop=True)\n",
    "X_test_imputed = imputation_kernel.impute_new_data(X_test).complete_data().reset_index(drop=True)\n",
    "\n",
    "joblib.dump(X_train_imputed, './data/imputed/IOPsubcohort_X_train_imputed.pkl')\n",
    "joblib.dump(X_test_imputed, './data/imputed/IOPsubcohort_X_test_imputed.pkl')\n",
    "\n",
    "joblib.dump(y_train.reset_index(drop=True), './data/imputed/IOPsubcohort_y_train.pkl')\n",
    "joblib.dump(y_test.reset_index(drop=True), './data/imputed/IOPsubcohort_y_test.pkl')"
   ]
  },
  {
   "cell_type": "code",
   "execution_count": 23,
   "id": "7b155592-8fd7-4bd1-b0f7-644c2a74501d",
   "metadata": {},
   "outputs": [
    {
     "data": {
      "text/plain": [
       "['./data/imputed/IOPsubcohort_y_merged.pkl']"
      ]
     },
     "execution_count": 23,
     "metadata": {},
     "output_type": "execute_result"
    }
   ],
   "source": [
    "X_merged_imputed = pd.concat((X_train_imputed, X_test_imputed), ignore_index=True)\n",
    "y_merged = pd.concat((y_train, y_test), ignore_index=True)\n",
    "\n",
    "joblib.dump(X_merged_imputed, './data/imputed/IOPsubcohort_X_merged_imputed.pkl')\n",
    "joblib.dump(y_merged, './data/imputed/IOPsubcohort_y_merged.pkl')"
   ]
  },
  {
   "cell_type": "code",
   "execution_count": 19,
   "id": "e354bd1c-28a0-4da3-bc94-8b0a44330ab2",
   "metadata": {
    "collapsed": true,
    "jupyter": {
     "outputs_hidden": true
    }
   },
   "outputs": [
    {
     "data": {
      "text/plain": [
       "['./data/imputation/IOPsubcohort_X_test_imputed_scaled.pkl']"
      ]
     },
     "execution_count": 19,
     "metadata": {},
     "output_type": "execute_result"
    }
   ],
   "source": [
    "# Apply scaling\n",
    "\n",
    "scaler = MinMaxScaler()\n",
    "scaler.fit(X_train_imputed)\n",
    "\n",
    "X_train_scaled = pd.DataFrame(scaler.transform(X_train_imputed), columns=X_train.columns)\n",
    "X_test_scaled = pd.DataFrame(scaler.transform(X_test_imputed), columns=X_test.columns)\n",
    "\n",
    "joblib.dump(scaler, './data/imputed/min_max_scaler.pkl')\n",
    "joblib.dump(X_train_scaled, './data/imputed/IOPsubcohort_X_train_imputed_scaled.pkl')\n",
    "joblib.dump(X_test_scaled, './data/imputed/IOPsubcohort_X_test_imputed_scaled.pkl')"
   ]
  }
 ],
 "metadata": {
  "kernelspec": {
   "display_name": "3.12.3",
   "language": "python",
   "name": "pyenv_3.12.3"
  },
  "language_info": {
   "codemirror_mode": {
    "name": "ipython",
    "version": 3
   },
   "file_extension": ".py",
   "mimetype": "text/x-python",
   "name": "python",
   "nbconvert_exporter": "python",
   "pygments_lexer": "ipython3",
   "version": "3.12.3"
  }
 },
 "nbformat": 4,
 "nbformat_minor": 5
}
